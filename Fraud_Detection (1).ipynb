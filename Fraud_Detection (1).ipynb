{
  "cells": [
    {
      "cell_type": "code",
      "execution_count": null,
      "metadata": {
        "id": "XUje_8aIjyJ4"
      },
      "outputs": [],
      "source": [
        "#import all necessary modules\n",
        "import numpy as np\n",
        "import pandas as pd\n",
        "import matplotlib.pyplot as plt\n",
        "import seaborn as sns\n",
        "from sklearn.preprocessing import LabelEncoder\n",
        "sns.set()\n",
        "import warnings\n",
        "warnings.filterwarnings('ignore')"
      ]
    },
    {
      "cell_type": "markdown",
      "metadata": {
        "id": "OsmY9_7ZVGFt"
      },
      "source": [
        "###Loading the data"
      ]
    },
    {
      "cell_type": "code",
      "execution_count": null,
      "metadata": {
        "colab": {
          "base_uri": "https://localhost:8080/",
          "height": 270
        },
        "id": "NHuOU0bupuLl",
        "outputId": "9fa94bfd-31e4-4f8a-9d9b-4c7a185d66db"
      },
      "outputs": [
        {
          "data": {
            "text/html": [
              "\n",
              "  <div id=\"df-a7da2e0a-b8c7-449a-af28-e43b400b1e54\">\n",
              "    <div class=\"colab-df-container\">\n",
              "      <div>\n",
              "<style scoped>\n",
              "    .dataframe tbody tr th:only-of-type {\n",
              "        vertical-align: middle;\n",
              "    }\n",
              "\n",
              "    .dataframe tbody tr th {\n",
              "        vertical-align: top;\n",
              "    }\n",
              "\n",
              "    .dataframe thead th {\n",
              "        text-align: right;\n",
              "    }\n",
              "</style>\n",
              "<table border=\"1\" class=\"dataframe\">\n",
              "  <thead>\n",
              "    <tr style=\"text-align: right;\">\n",
              "      <th></th>\n",
              "      <th>TransactionId</th>\n",
              "      <th>BatchId</th>\n",
              "      <th>AccountId</th>\n",
              "      <th>SubscriptionId</th>\n",
              "      <th>CustomerId</th>\n",
              "      <th>CurrencyCode</th>\n",
              "      <th>CountryCode</th>\n",
              "      <th>ProviderId</th>\n",
              "      <th>ProductId</th>\n",
              "      <th>ProductCategory</th>\n",
              "      <th>ChannelId</th>\n",
              "      <th>Amount</th>\n",
              "      <th>Value</th>\n",
              "      <th>TransactionStartTime</th>\n",
              "      <th>PricingStrategy</th>\n",
              "      <th>FraudResult</th>\n",
              "    </tr>\n",
              "  </thead>\n",
              "  <tbody>\n",
              "    <tr>\n",
              "      <th>0</th>\n",
              "      <td>TransactionId_76871</td>\n",
              "      <td>BatchId_36123</td>\n",
              "      <td>AccountId_3957</td>\n",
              "      <td>SubscriptionId_887</td>\n",
              "      <td>CustomerId_4406</td>\n",
              "      <td>UGX</td>\n",
              "      <td>256</td>\n",
              "      <td>ProviderId_6</td>\n",
              "      <td>ProductId_10</td>\n",
              "      <td>airtime</td>\n",
              "      <td>ChannelId_3</td>\n",
              "      <td>1000.0</td>\n",
              "      <td>1000</td>\n",
              "      <td>2018-11-15T02:18:49Z</td>\n",
              "      <td>2</td>\n",
              "      <td>0</td>\n",
              "    </tr>\n",
              "    <tr>\n",
              "      <th>1</th>\n",
              "      <td>TransactionId_73770</td>\n",
              "      <td>BatchId_15642</td>\n",
              "      <td>AccountId_4841</td>\n",
              "      <td>SubscriptionId_3829</td>\n",
              "      <td>CustomerId_4406</td>\n",
              "      <td>UGX</td>\n",
              "      <td>256</td>\n",
              "      <td>ProviderId_4</td>\n",
              "      <td>ProductId_6</td>\n",
              "      <td>financial_services</td>\n",
              "      <td>ChannelId_2</td>\n",
              "      <td>-20.0</td>\n",
              "      <td>20</td>\n",
              "      <td>2018-11-15T02:19:08Z</td>\n",
              "      <td>2</td>\n",
              "      <td>0</td>\n",
              "    </tr>\n",
              "    <tr>\n",
              "      <th>2</th>\n",
              "      <td>TransactionId_26203</td>\n",
              "      <td>BatchId_53941</td>\n",
              "      <td>AccountId_4229</td>\n",
              "      <td>SubscriptionId_222</td>\n",
              "      <td>CustomerId_4683</td>\n",
              "      <td>UGX</td>\n",
              "      <td>256</td>\n",
              "      <td>ProviderId_6</td>\n",
              "      <td>ProductId_1</td>\n",
              "      <td>airtime</td>\n",
              "      <td>ChannelId_3</td>\n",
              "      <td>500.0</td>\n",
              "      <td>500</td>\n",
              "      <td>2018-11-15T02:44:21Z</td>\n",
              "      <td>2</td>\n",
              "      <td>0</td>\n",
              "    </tr>\n",
              "    <tr>\n",
              "      <th>3</th>\n",
              "      <td>TransactionId_380</td>\n",
              "      <td>BatchId_102363</td>\n",
              "      <td>AccountId_648</td>\n",
              "      <td>SubscriptionId_2185</td>\n",
              "      <td>CustomerId_988</td>\n",
              "      <td>UGX</td>\n",
              "      <td>256</td>\n",
              "      <td>ProviderId_1</td>\n",
              "      <td>ProductId_21</td>\n",
              "      <td>utility_bill</td>\n",
              "      <td>ChannelId_3</td>\n",
              "      <td>20000.0</td>\n",
              "      <td>21800</td>\n",
              "      <td>2018-11-15T03:32:55Z</td>\n",
              "      <td>2</td>\n",
              "      <td>0</td>\n",
              "    </tr>\n",
              "    <tr>\n",
              "      <th>4</th>\n",
              "      <td>TransactionId_28195</td>\n",
              "      <td>BatchId_38780</td>\n",
              "      <td>AccountId_4841</td>\n",
              "      <td>SubscriptionId_3829</td>\n",
              "      <td>CustomerId_988</td>\n",
              "      <td>UGX</td>\n",
              "      <td>256</td>\n",
              "      <td>ProviderId_4</td>\n",
              "      <td>ProductId_6</td>\n",
              "      <td>financial_services</td>\n",
              "      <td>ChannelId_2</td>\n",
              "      <td>-644.0</td>\n",
              "      <td>644</td>\n",
              "      <td>2018-11-15T03:34:21Z</td>\n",
              "      <td>2</td>\n",
              "      <td>0</td>\n",
              "    </tr>\n",
              "  </tbody>\n",
              "</table>\n",
              "</div>\n",
              "      <button class=\"colab-df-convert\" onclick=\"convertToInteractive('df-a7da2e0a-b8c7-449a-af28-e43b400b1e54')\"\n",
              "              title=\"Convert this dataframe to an interactive table.\"\n",
              "              style=\"display:none;\">\n",
              "        \n",
              "  <svg xmlns=\"http://www.w3.org/2000/svg\" height=\"24px\"viewBox=\"0 0 24 24\"\n",
              "       width=\"24px\">\n",
              "    <path d=\"M0 0h24v24H0V0z\" fill=\"none\"/>\n",
              "    <path d=\"M18.56 5.44l.94 2.06.94-2.06 2.06-.94-2.06-.94-.94-2.06-.94 2.06-2.06.94zm-11 1L8.5 8.5l.94-2.06 2.06-.94-2.06-.94L8.5 2.5l-.94 2.06-2.06.94zm10 10l.94 2.06.94-2.06 2.06-.94-2.06-.94-.94-2.06-.94 2.06-2.06.94z\"/><path d=\"M17.41 7.96l-1.37-1.37c-.4-.4-.92-.59-1.43-.59-.52 0-1.04.2-1.43.59L10.3 9.45l-7.72 7.72c-.78.78-.78 2.05 0 2.83L4 21.41c.39.39.9.59 1.41.59.51 0 1.02-.2 1.41-.59l7.78-7.78 2.81-2.81c.8-.78.8-2.07 0-2.86zM5.41 20L4 18.59l7.72-7.72 1.47 1.35L5.41 20z\"/>\n",
              "  </svg>\n",
              "      </button>\n",
              "      \n",
              "  <style>\n",
              "    .colab-df-container {\n",
              "      display:flex;\n",
              "      flex-wrap:wrap;\n",
              "      gap: 12px;\n",
              "    }\n",
              "\n",
              "    .colab-df-convert {\n",
              "      background-color: #E8F0FE;\n",
              "      border: none;\n",
              "      border-radius: 50%;\n",
              "      cursor: pointer;\n",
              "      display: none;\n",
              "      fill: #1967D2;\n",
              "      height: 32px;\n",
              "      padding: 0 0 0 0;\n",
              "      width: 32px;\n",
              "    }\n",
              "\n",
              "    .colab-df-convert:hover {\n",
              "      background-color: #E2EBFA;\n",
              "      box-shadow: 0px 1px 2px rgba(60, 64, 67, 0.3), 0px 1px 3px 1px rgba(60, 64, 67, 0.15);\n",
              "      fill: #174EA6;\n",
              "    }\n",
              "\n",
              "    [theme=dark] .colab-df-convert {\n",
              "      background-color: #3B4455;\n",
              "      fill: #D2E3FC;\n",
              "    }\n",
              "\n",
              "    [theme=dark] .colab-df-convert:hover {\n",
              "      background-color: #434B5C;\n",
              "      box-shadow: 0px 1px 3px 1px rgba(0, 0, 0, 0.15);\n",
              "      filter: drop-shadow(0px 1px 2px rgba(0, 0, 0, 0.3));\n",
              "      fill: #FFFFFF;\n",
              "    }\n",
              "  </style>\n",
              "\n",
              "      <script>\n",
              "        const buttonEl =\n",
              "          document.querySelector('#df-a7da2e0a-b8c7-449a-af28-e43b400b1e54 button.colab-df-convert');\n",
              "        buttonEl.style.display =\n",
              "          google.colab.kernel.accessAllowed ? 'block' : 'none';\n",
              "\n",
              "        async function convertToInteractive(key) {\n",
              "          const element = document.querySelector('#df-a7da2e0a-b8c7-449a-af28-e43b400b1e54');\n",
              "          const dataTable =\n",
              "            await google.colab.kernel.invokeFunction('convertToInteractive',\n",
              "                                                     [key], {});\n",
              "          if (!dataTable) return;\n",
              "\n",
              "          const docLinkHtml = 'Like what you see? Visit the ' +\n",
              "            '<a target=\"_blank\" href=https://colab.research.google.com/notebooks/data_table.ipynb>data table notebook</a>'\n",
              "            + ' to learn more about interactive tables.';\n",
              "          element.innerHTML = '';\n",
              "          dataTable['output_type'] = 'display_data';\n",
              "          await google.colab.output.renderOutput(dataTable, element);\n",
              "          const docLink = document.createElement('div');\n",
              "          docLink.innerHTML = docLinkHtml;\n",
              "          element.appendChild(docLink);\n",
              "        }\n",
              "      </script>\n",
              "    </div>\n",
              "  </div>\n",
              "  "
            ],
            "text/plain": [
              "         TransactionId         BatchId       AccountId       SubscriptionId  \\\n",
              "0  TransactionId_76871   BatchId_36123  AccountId_3957   SubscriptionId_887   \n",
              "1  TransactionId_73770   BatchId_15642  AccountId_4841  SubscriptionId_3829   \n",
              "2  TransactionId_26203   BatchId_53941  AccountId_4229   SubscriptionId_222   \n",
              "3    TransactionId_380  BatchId_102363   AccountId_648  SubscriptionId_2185   \n",
              "4  TransactionId_28195   BatchId_38780  AccountId_4841  SubscriptionId_3829   \n",
              "\n",
              "        CustomerId CurrencyCode  CountryCode    ProviderId     ProductId  \\\n",
              "0  CustomerId_4406          UGX          256  ProviderId_6  ProductId_10   \n",
              "1  CustomerId_4406          UGX          256  ProviderId_4   ProductId_6   \n",
              "2  CustomerId_4683          UGX          256  ProviderId_6   ProductId_1   \n",
              "3   CustomerId_988          UGX          256  ProviderId_1  ProductId_21   \n",
              "4   CustomerId_988          UGX          256  ProviderId_4   ProductId_6   \n",
              "\n",
              "      ProductCategory    ChannelId   Amount  Value  TransactionStartTime  \\\n",
              "0             airtime  ChannelId_3   1000.0   1000  2018-11-15T02:18:49Z   \n",
              "1  financial_services  ChannelId_2    -20.0     20  2018-11-15T02:19:08Z   \n",
              "2             airtime  ChannelId_3    500.0    500  2018-11-15T02:44:21Z   \n",
              "3        utility_bill  ChannelId_3  20000.0  21800  2018-11-15T03:32:55Z   \n",
              "4  financial_services  ChannelId_2   -644.0    644  2018-11-15T03:34:21Z   \n",
              "\n",
              "   PricingStrategy  FraudResult  \n",
              "0                2            0  \n",
              "1                2            0  \n",
              "2                2            0  \n",
              "3                2            0  \n",
              "4                2            0  "
            ]
          },
          "execution_count": 78,
          "metadata": {},
          "output_type": "execute_result"
        }
      ],
      "source": [
        "train_df = pd.read_csv('/content/drive/MyDrive/Datasets/training.csv')\n",
        "train_df.head()"
      ]
    },
    {
      "cell_type": "code",
      "execution_count": null,
      "metadata": {
        "colab": {
          "base_uri": "https://localhost:8080/"
        },
        "id": "TyGyKGopqQhu",
        "outputId": "e250d386-185f-4452-df02-9e814be81030"
      },
      "outputs": [
        {
          "data": {
            "text/plain": [
              "TransactionId           0\n",
              "BatchId                 0\n",
              "AccountId               0\n",
              "SubscriptionId          0\n",
              "CustomerId              0\n",
              "CurrencyCode            0\n",
              "CountryCode             0\n",
              "ProviderId              0\n",
              "ProductId               0\n",
              "ProductCategory         0\n",
              "ChannelId               0\n",
              "Amount                  0\n",
              "Value                   0\n",
              "TransactionStartTime    0\n",
              "PricingStrategy         0\n",
              "FraudResult             0\n",
              "dtype: int64"
            ]
          },
          "execution_count": 79,
          "metadata": {},
          "output_type": "execute_result"
        }
      ],
      "source": [
        "\n",
        "#checking for null values\n",
        "train_df.isna().sum()"
      ]
    },
    {
      "cell_type": "code",
      "execution_count": null,
      "metadata": {
        "colab": {
          "base_uri": "https://localhost:8080/"
        },
        "id": "HC8AZUCQqY2Y",
        "outputId": "c6556f11-055c-4ade-9449-282efd2c6fb6"
      },
      "outputs": [
        {
          "data": {
            "text/plain": [
              "0"
            ]
          },
          "execution_count": 80,
          "metadata": {},
          "output_type": "execute_result"
        }
      ],
      "source": [
        "\n",
        "#checking for duplicates\n",
        "train_df.duplicated().sum()"
      ]
    },
    {
      "cell_type": "code",
      "execution_count": null,
      "metadata": {
        "colab": {
          "base_uri": "https://localhost:8080/"
        },
        "id": "fWwrfI9Qqgei",
        "outputId": "7c48bc76-62a5-4ad2-e5e9-6260a0223273"
      },
      "outputs": [
        {
          "name": "stdout",
          "output_type": "stream",
          "text": [
            "<class 'pandas.core.frame.DataFrame'>\n",
            "RangeIndex: 95662 entries, 0 to 95661\n",
            "Data columns (total 16 columns):\n",
            " #   Column                Non-Null Count  Dtype  \n",
            "---  ------                --------------  -----  \n",
            " 0   TransactionId         95662 non-null  object \n",
            " 1   BatchId               95662 non-null  object \n",
            " 2   AccountId             95662 non-null  object \n",
            " 3   SubscriptionId        95662 non-null  object \n",
            " 4   CustomerId            95662 non-null  object \n",
            " 5   CurrencyCode          95662 non-null  object \n",
            " 6   CountryCode           95662 non-null  int64  \n",
            " 7   ProviderId            95662 non-null  object \n",
            " 8   ProductId             95662 non-null  object \n",
            " 9   ProductCategory       95662 non-null  object \n",
            " 10  ChannelId             95662 non-null  object \n",
            " 11  Amount                95662 non-null  float64\n",
            " 12  Value                 95662 non-null  int64  \n",
            " 13  TransactionStartTime  95662 non-null  object \n",
            " 14  PricingStrategy       95662 non-null  int64  \n",
            " 15  FraudResult           95662 non-null  int64  \n",
            "dtypes: float64(1), int64(4), object(11)\n",
            "memory usage: 11.7+ MB\n"
          ]
        }
      ],
      "source": [
        "\n",
        "#overview of the columns\n",
        "train_df.info()"
      ]
    },
    {
      "cell_type": "code",
      "execution_count": null,
      "metadata": {
        "colab": {
          "base_uri": "https://localhost:8080/"
        },
        "id": "_pjVcxMPsIEk",
        "outputId": "8ab78d73-1247-4944-895e-fef567cf6da2"
      },
      "outputs": [
        {
          "data": {
            "text/plain": [
              "256    95662\n",
              "Name: CountryCode, dtype: int64"
            ]
          },
          "execution_count": 82,
          "metadata": {},
          "output_type": "execute_result"
        }
      ],
      "source": [
        "train_df['CountryCode'].value_counts()"
      ]
    },
    {
      "cell_type": "code",
      "execution_count": null,
      "metadata": {
        "colab": {
          "base_uri": "https://localhost:8080/"
        },
        "id": "qaRCbdFWsGrd",
        "outputId": "a7d3b6a5-cceb-4272-8a41-9caaec671c32"
      },
      "outputs": [
        {
          "data": {
            "text/plain": [
              "UGX    95662\n",
              "Name: CurrencyCode, dtype: int64"
            ]
          },
          "execution_count": 83,
          "metadata": {},
          "output_type": "execute_result"
        }
      ],
      "source": [
        "train_df['CurrencyCode'].value_counts()"
      ]
    },
    {
      "cell_type": "markdown",
      "metadata": {
        "id": "cCPZShTFV6hj"
      },
      "source": [
        "From above, it is observed that primary source of the data is Uganda"
      ]
    },
    {
      "cell_type": "code",
      "execution_count": null,
      "metadata": {
        "colab": {
          "base_uri": "https://localhost:8080/"
        },
        "id": "m47aGcHOsgdo",
        "outputId": "7ae8be7e-bf04-4362-a51b-c93b414deccf"
      },
      "outputs": [
        {
          "data": {
            "text/plain": [
              "count    9.566200e+04\n",
              "mean     6.717846e+03\n",
              "std      1.233068e+05\n",
              "min     -1.000000e+06\n",
              "25%     -5.000000e+01\n",
              "50%      1.000000e+03\n",
              "75%      2.800000e+03\n",
              "max      9.880000e+06\n",
              "Name: Amount, dtype: float64"
            ]
          },
          "execution_count": 84,
          "metadata": {},
          "output_type": "execute_result"
        }
      ],
      "source": [
        "train_df['Amount'].describe()"
      ]
    },
    {
      "cell_type": "code",
      "execution_count": null,
      "metadata": {
        "colab": {
          "base_uri": "https://localhost:8080/",
          "height": 301
        },
        "id": "FYEYex0htAPL",
        "outputId": "00f7998f-8aab-412b-fad5-09924f347d58"
      },
      "outputs": [
        {
          "data": {
            "image/png": "[encoded data removed]",
            "text/plain": [
              "<Figure size 432x288 with 1 Axes>"
            ]
          },
          "metadata": {},
          "output_type": "display_data"
        }
      ],
      "source": [
        "\n",
        "#visualizing how the amount is distributed\n",
        "sns.boxplot(train_df['Amount'])\n",
        "plt.title('A boxplot showing how the amount is distributed')\n",
        "plt.show()"
      ]
    },
    {
      "cell_type": "code",
      "execution_count": null,
      "metadata": {
        "id": "-F13HnvXt5Gy"
      },
      "outputs": [],
      "source": [
        "\n",
        "#converting the transaction start time column to datetime\n",
        "train_df['TransactionStartTime'] = pd.to_datetime(train_df['TransactionStartTime'])"
      ]
    },
    {
      "cell_type": "markdown",
      "metadata": {
        "id": "j_yleFvXWUe_"
      },
      "source": [
        "Extracting the year, month, and day from the start time column"
      ]
    },
    {
      "cell_type": "code",
      "execution_count": null,
      "metadata": {
        "id": "w-rSI_-BuF9m"
      },
      "outputs": [],
      "source": [
        "train_df['Month'] = train_df['TransactionStartTime'].dt.month"
      ]
    },
    {
      "cell_type": "code",
      "execution_count": null,
      "metadata": {
        "id": "SuBzGAIzONgW"
      },
      "outputs": [],
      "source": [
        "train_df['Year'] = train_df['TransactionStartTime'].dt.year"
      ]
    },
    {
      "cell_type": "code",
      "execution_count": null,
      "metadata": {
        "id": "suV9zFY1OUe6"
      },
      "outputs": [],
      "source": [
        "train_df['Day'] = train_df['TransactionStartTime'].dt.day"
      ]
    },
    {
      "cell_type": "code",
      "execution_count": null,
      "metadata": {
        "colab": {
          "base_uri": "https://localhost:8080/"
        },
        "id": "5rPwpneBurHH",
        "outputId": "51dfdf3b-22b2-486c-d32c-5de2c9f8c708"
      },
      "outputs": [
        {
          "data": {
            "text/plain": [
              "12    35635\n",
              "1     31783\n",
              "2     15772\n",
              "11    12472\n",
              "Name: Month, dtype: int64"
            ]
          },
          "execution_count": 90,
          "metadata": {},
          "output_type": "execute_result"
        }
      ],
      "source": [
        "train_df['Month'].value_counts()"
      ]
    },
    {
      "cell_type": "code",
      "execution_count": null,
      "metadata": {
        "colab": {
          "base_uri": "https://localhost:8080/"
        },
        "id": "K5Brhax5voCp",
        "outputId": "17ebdb0f-2f5b-4fd8-d387-79ae0446dd7e"
      },
      "outputs": [
        {
          "data": {
            "text/plain": [
              "ProviderId_4    38189\n",
              "ProviderId_6    34186\n",
              "ProviderId_5    14542\n",
              "ProviderId_1     5643\n",
              "ProviderId_3     3084\n",
              "ProviderId_2       18\n",
              "Name: ProviderId, dtype: int64"
            ]
          },
          "execution_count": 91,
          "metadata": {},
          "output_type": "execute_result"
        }
      ],
      "source": [
        "train_df['ProviderId'].value_counts()"
      ]
    },
    {
      "cell_type": "code",
      "execution_count": null,
      "metadata": {
        "colab": {
          "base_uri": "https://localhost:8080/"
        },
        "id": "6ql1uaahARHf",
        "outputId": "edefb871-9840-4beb-d36b-41854ab8a374"
      },
      "outputs": [
        {
          "data": {
            "text/plain": [
              "ProductId_6     32635\n",
              "ProductId_3     24344\n",
              "ProductId_10    15384\n",
              "ProductId_15    11964\n",
              "ProductId_1      2885\n",
              "ProductId_4      2403\n",
              "ProductId_21     1512\n",
              "ProductId_11     1377\n",
              "ProductId_19      965\n",
              "ProductId_14      789\n",
              "ProductId_13      296\n",
              "ProductId_2       236\n",
              "ProductId_20      216\n",
              "ProductId_8       197\n",
              "ProductId_24      175\n",
              "ProductId_22      112\n",
              "ProductId_7        86\n",
              "ProductId_27       31\n",
              "ProductId_5        25\n",
              "ProductId_9        17\n",
              "ProductId_16       10\n",
              "ProductId_12        2\n",
              "ProductId_23        1\n",
              "Name: ProductId, dtype: int64"
            ]
          },
          "execution_count": 92,
          "metadata": {},
          "output_type": "execute_result"
        }
      ],
      "source": [
        "train_df['ProductId'].value_counts()"
      ]
    },
    {
      "cell_type": "code",
      "execution_count": null,
      "metadata": {
        "colab": {
          "base_uri": "https://localhost:8080/"
        },
        "id": "6H7PYjHfAaZb",
        "outputId": "8ebb588c-5b52-49e5-8417-d9a385fd7005"
      },
      "outputs": [
        {
          "data": {
            "text/plain": [
              "financial_services    45405\n",
              "airtime               45027\n",
              "utility_bill           1920\n",
              "data_bundles           1613\n",
              "tv                     1279\n",
              "ticket                  216\n",
              "movies                  175\n",
              "transport                25\n",
              "other                     2\n",
              "Name: ProductCategory, dtype: int64"
            ]
          },
          "execution_count": 93,
          "metadata": {},
          "output_type": "execute_result"
        }
      ],
      "source": [
        "train_df['ProductCategory'].value_counts()"
      ]
    },
    {
      "cell_type": "code",
      "execution_count": null,
      "metadata": {
        "colab": {
          "base_uri": "https://localhost:8080/"
        },
        "id": "XgiMw3DvBPsf",
        "outputId": "56220644-fe88-4917-da84-c4385f9831bf"
      },
      "outputs": [
        {
          "data": {
            "text/plain": [
              "ChannelId_3    56935\n",
              "ChannelId_2    37141\n",
              "ChannelId_5     1048\n",
              "ChannelId_1      538\n",
              "Name: ChannelId, dtype: int64"
            ]
          },
          "execution_count": 94,
          "metadata": {},
          "output_type": "execute_result"
        }
      ],
      "source": [
        "train_df['ChannelId'].value_counts()"
      ]
    },
    {
      "cell_type": "code",
      "execution_count": null,
      "metadata": {
        "colab": {
          "base_uri": "https://localhost:8080/"
        },
        "id": "_1-n3c6fBtMH",
        "outputId": "6797e724-8ef9-49cb-bb6b-ddb26c52b370"
      },
      "outputs": [
        {
          "data": {
            "text/plain": [
              "2    79848\n",
              "4    13562\n",
              "1     1867\n",
              "0      385\n",
              "Name: PricingStrategy, dtype: int64"
            ]
          },
          "execution_count": 95,
          "metadata": {},
          "output_type": "execute_result"
        }
      ],
      "source": [
        "train_df['PricingStrategy'].value_counts()"
      ]
    },
    {
      "cell_type": "code",
      "execution_count": null,
      "metadata": {
        "colab": {
          "base_uri": "https://localhost:8080/"
        },
        "id": "RAOgoXQ7u6s0",
        "outputId": "d2e860cd-e2ab-43e9-87a8-54b62c92f48b"
      },
      "outputs": [
        {
          "data": {
            "text/plain": [
              "0    95469\n",
              "1      193\n",
              "Name: FraudResult, dtype: int64"
            ]
          },
          "execution_count": 96,
          "metadata": {},
          "output_type": "execute_result"
        }
      ],
      "source": [
        "train_df['FraudResult'].value_counts()"
      ]
    },
    {
      "cell_type": "code",
      "execution_count": null,
      "metadata": {
        "colab": {
          "base_uri": "https://localhost:8080/",
          "height": 301
        },
        "id": "RWH5FB_GB2mV",
        "outputId": "722fe167-6396-4569-db1a-3a518f492754"
      },
      "outputs": [
        {
          "data": {
            "image/png": "[encoded data removed]",
            "text/plain": [
              "<Figure size 432x288 with 1 Axes>"
            ]
          },
          "metadata": {},
          "output_type": "display_data"
        }
      ],
      "source": [
        "\n",
        "sns.countplot('FraudResult', data=train_df)\n",
        "plt.title('A countplot showing the frequency of each target class')\n",
        "plt.xlabel('Target class')\n",
        "plt.show()"
      ]
    },
    {
      "cell_type": "markdown",
      "metadata": {
        "id": "Bb-1Zh6ALHcS"
      },
      "source": [
        "From above, we can see that the dataset is highly imbalanced. Therefore, accuracy won't be the appropriate metric for the data. Other metrics like precision and recall will be used to evaluate the data."
      ]
    },
    {
      "cell_type": "markdown",
      "metadata": {
        "id": "NfQ88Qt_WnvM"
      },
      "source": [
        "### Feature Encoding"
      ]
    },
    {
      "cell_type": "code",
      "execution_count": null,
      "metadata": {
        "id": "v-3xJQdZvlFp"
      },
      "outputs": [],
      "source": [
        "cat_cols = ['ProviderId', 'ProductCategory', 'ChannelId', 'ProductId']"
      ]
    },
    {
      "cell_type": "code",
      "execution_count": null,
      "metadata": {
        "id": "wLvH8EIyE9eP"
      },
      "outputs": [],
      "source": [
        "le = LabelEncoder()\n",
        "for cat_col in cat_cols:\n",
        "  train_df[cat_col] = le.fit_transform(train_df[cat_col])"
      ]
    },
    {
      "cell_type": "code",
      "execution_count": null,
      "metadata": {
        "colab": {
          "base_uri": "https://localhost:8080/",
          "height": 661
        },
        "id": "zfMxBB8YGY66",
        "outputId": "927ca7cc-dbe4-426a-c446-c518d8ccf1ac"
      },
      "outputs": [
        {
          "data": {
            "text/html": [
              "\n",
              "  <div id=\"df-12681180-2573-42cc-8674-30477b4d3bf9\">\n",
              "    <div class=\"colab-df-container\">\n",
              "      <div>\n",
              "<style scoped>\n",
              "    .dataframe tbody tr th:only-of-type {\n",
              "        vertical-align: middle;\n",
              "    }\n",
              "\n",
              "    .dataframe tbody tr th {\n",
              "        vertical-align: top;\n",
              "    }\n",
              "\n",
              "    .dataframe thead th {\n",
              "        text-align: right;\n",
              "    }\n",
              "</style>\n",
              "<table border=\"1\" class=\"dataframe\">\n",
              "  <thead>\n",
              "    <tr style=\"text-align: right;\">\n",
              "      <th></th>\n",
              "      <th>TransactionId</th>\n",
              "      <th>BatchId</th>\n",
              "      <th>AccountId</th>\n",
              "      <th>SubscriptionId</th>\n",
              "      <th>CustomerId</th>\n",
              "      <th>CurrencyCode</th>\n",
              "      <th>CountryCode</th>\n",
              "      <th>ProviderId</th>\n",
              "      <th>ProductId</th>\n",
              "      <th>ProductCategory</th>\n",
              "      <th>ChannelId</th>\n",
              "      <th>Amount</th>\n",
              "      <th>Value</th>\n",
              "      <th>TransactionStartTime</th>\n",
              "      <th>PricingStrategy</th>\n",
              "      <th>FraudResult</th>\n",
              "      <th>Month</th>\n",
              "      <th>Year</th>\n",
              "      <th>Day</th>\n",
              "    </tr>\n",
              "  </thead>\n",
              "  <tbody>\n",
              "    <tr>\n",
              "      <th>0</th>\n",
              "      <td>TransactionId_76871</td>\n",
              "      <td>BatchId_36123</td>\n",
              "      <td>AccountId_3957</td>\n",
              "      <td>SubscriptionId_887</td>\n",
              "      <td>CustomerId_4406</td>\n",
              "      <td>UGX</td>\n",
              "      <td>256</td>\n",
              "      <td>5</td>\n",
              "      <td>1</td>\n",
              "      <td>0</td>\n",
              "      <td>2</td>\n",
              "      <td>1000.0</td>\n",
              "      <td>1000</td>\n",
              "      <td>2018-11-15 02:18:49+00:00</td>\n",
              "      <td>2</td>\n",
              "      <td>0</td>\n",
              "      <td>11</td>\n",
              "      <td>2018</td>\n",
              "      <td>15</td>\n",
              "    </tr>\n",
              "    <tr>\n",
              "      <th>1</th>\n",
              "      <td>TransactionId_73770</td>\n",
              "      <td>BatchId_15642</td>\n",
              "      <td>AccountId_4841</td>\n",
              "      <td>SubscriptionId_3829</td>\n",
              "      <td>CustomerId_4406</td>\n",
              "      <td>UGX</td>\n",
              "      <td>256</td>\n",
              "      <td>3</td>\n",
              "      <td>19</td>\n",
              "      <td>2</td>\n",
              "      <td>1</td>\n",
              "      <td>-20.0</td>\n",
              "      <td>20</td>\n",
              "      <td>2018-11-15 02:19:08+00:00</td>\n",
              "      <td>2</td>\n",
              "      <td>0</td>\n",
              "      <td>11</td>\n",
              "      <td>2018</td>\n",
              "      <td>15</td>\n",
              "    </tr>\n",
              "    <tr>\n",
              "      <th>2</th>\n",
              "      <td>TransactionId_26203</td>\n",
              "      <td>BatchId_53941</td>\n",
              "      <td>AccountId_4229</td>\n",
              "      <td>SubscriptionId_222</td>\n",
              "      <td>CustomerId_4683</td>\n",
              "      <td>UGX</td>\n",
              "      <td>256</td>\n",
              "      <td>5</td>\n",
              "      <td>0</td>\n",
              "      <td>0</td>\n",
              "      <td>2</td>\n",
              "      <td>500.0</td>\n",
              "      <td>500</td>\n",
              "      <td>2018-11-15 02:44:21+00:00</td>\n",
              "      <td>2</td>\n",
              "      <td>0</td>\n",
              "      <td>11</td>\n",
              "      <td>2018</td>\n",
              "      <td>15</td>\n",
              "    </tr>\n",
              "    <tr>\n",
              "      <th>3</th>\n",
              "      <td>TransactionId_380</td>\n",
              "      <td>BatchId_102363</td>\n",
              "      <td>AccountId_648</td>\n",
              "      <td>SubscriptionId_2185</td>\n",
              "      <td>CustomerId_988</td>\n",
              "      <td>UGX</td>\n",
              "      <td>256</td>\n",
              "      <td>0</td>\n",
              "      <td>11</td>\n",
              "      <td>8</td>\n",
              "      <td>2</td>\n",
              "      <td>20000.0</td>\n",
              "      <td>21800</td>\n",
              "      <td>2018-11-15 03:32:55+00:00</td>\n",
              "      <td>2</td>\n",
              "      <td>0</td>\n",
              "      <td>11</td>\n",
              "      <td>2018</td>\n",
              "      <td>15</td>\n",
              "    </tr>\n",
              "    <tr>\n",
              "      <th>4</th>\n",
              "      <td>TransactionId_28195</td>\n",
              "      <td>BatchId_38780</td>\n",
              "      <td>AccountId_4841</td>\n",
              "      <td>SubscriptionId_3829</td>\n",
              "      <td>CustomerId_988</td>\n",
              "      <td>UGX</td>\n",
              "      <td>256</td>\n",
              "      <td>3</td>\n",
              "      <td>19</td>\n",
              "      <td>2</td>\n",
              "      <td>1</td>\n",
              "      <td>-644.0</td>\n",
              "      <td>644</td>\n",
              "      <td>2018-11-15 03:34:21+00:00</td>\n",
              "      <td>2</td>\n",
              "      <td>0</td>\n",
              "      <td>11</td>\n",
              "      <td>2018</td>\n",
              "      <td>15</td>\n",
              "    </tr>\n",
              "    <tr>\n",
              "      <th>...</th>\n",
              "      <td>...</td>\n",
              "      <td>...</td>\n",
              "      <td>...</td>\n",
              "      <td>...</td>\n",
              "      <td>...</td>\n",
              "      <td>...</td>\n",
              "      <td>...</td>\n",
              "      <td>...</td>\n",
              "      <td>...</td>\n",
              "      <td>...</td>\n",
              "      <td>...</td>\n",
              "      <td>...</td>\n",
              "      <td>...</td>\n",
              "      <td>...</td>\n",
              "      <td>...</td>\n",
              "      <td>...</td>\n",
              "      <td>...</td>\n",
              "      <td>...</td>\n",
              "      <td>...</td>\n",
              "    </tr>\n",
              "    <tr>\n",
              "      <th>95657</th>\n",
              "      <td>TransactionId_89881</td>\n",
              "      <td>BatchId_96668</td>\n",
              "      <td>AccountId_4841</td>\n",
              "      <td>SubscriptionId_3829</td>\n",
              "      <td>CustomerId_3078</td>\n",
              "      <td>UGX</td>\n",
              "      <td>256</td>\n",
              "      <td>3</td>\n",
              "      <td>19</td>\n",
              "      <td>2</td>\n",
              "      <td>1</td>\n",
              "      <td>-1000.0</td>\n",
              "      <td>1000</td>\n",
              "      <td>2019-02-13 09:54:09+00:00</td>\n",
              "      <td>2</td>\n",
              "      <td>0</td>\n",
              "      <td>2</td>\n",
              "      <td>2019</td>\n",
              "      <td>13</td>\n",
              "    </tr>\n",
              "    <tr>\n",
              "      <th>95658</th>\n",
              "      <td>TransactionId_91597</td>\n",
              "      <td>BatchId_3503</td>\n",
              "      <td>AccountId_3439</td>\n",
              "      <td>SubscriptionId_2643</td>\n",
              "      <td>CustomerId_3874</td>\n",
              "      <td>UGX</td>\n",
              "      <td>256</td>\n",
              "      <td>5</td>\n",
              "      <td>1</td>\n",
              "      <td>0</td>\n",
              "      <td>2</td>\n",
              "      <td>1000.0</td>\n",
              "      <td>1000</td>\n",
              "      <td>2019-02-13 09:54:25+00:00</td>\n",
              "      <td>2</td>\n",
              "      <td>0</td>\n",
              "      <td>2</td>\n",
              "      <td>2019</td>\n",
              "      <td>13</td>\n",
              "    </tr>\n",
              "    <tr>\n",
              "      <th>95659</th>\n",
              "      <td>TransactionId_82501</td>\n",
              "      <td>BatchId_118602</td>\n",
              "      <td>AccountId_4841</td>\n",
              "      <td>SubscriptionId_3829</td>\n",
              "      <td>CustomerId_3874</td>\n",
              "      <td>UGX</td>\n",
              "      <td>256</td>\n",
              "      <td>3</td>\n",
              "      <td>19</td>\n",
              "      <td>2</td>\n",
              "      <td>1</td>\n",
              "      <td>-20.0</td>\n",
              "      <td>20</td>\n",
              "      <td>2019-02-13 09:54:35+00:00</td>\n",
              "      <td>2</td>\n",
              "      <td>0</td>\n",
              "      <td>2</td>\n",
              "      <td>2019</td>\n",
              "      <td>13</td>\n",
              "    </tr>\n",
              "    <tr>\n",
              "      <th>95660</th>\n",
              "      <td>TransactionId_136354</td>\n",
              "      <td>BatchId_70924</td>\n",
              "      <td>AccountId_1346</td>\n",
              "      <td>SubscriptionId_652</td>\n",
              "      <td>CustomerId_1709</td>\n",
              "      <td>UGX</td>\n",
              "      <td>256</td>\n",
              "      <td>5</td>\n",
              "      <td>8</td>\n",
              "      <td>7</td>\n",
              "      <td>2</td>\n",
              "      <td>3000.0</td>\n",
              "      <td>3000</td>\n",
              "      <td>2019-02-13 10:01:10+00:00</td>\n",
              "      <td>2</td>\n",
              "      <td>0</td>\n",
              "      <td>2</td>\n",
              "      <td>2019</td>\n",
              "      <td>13</td>\n",
              "    </tr>\n",
              "    <tr>\n",
              "      <th>95661</th>\n",
              "      <td>TransactionId_35670</td>\n",
              "      <td>BatchId_29317</td>\n",
              "      <td>AccountId_4841</td>\n",
              "      <td>SubscriptionId_3829</td>\n",
              "      <td>CustomerId_1709</td>\n",
              "      <td>UGX</td>\n",
              "      <td>256</td>\n",
              "      <td>3</td>\n",
              "      <td>19</td>\n",
              "      <td>2</td>\n",
              "      <td>1</td>\n",
              "      <td>-60.0</td>\n",
              "      <td>60</td>\n",
              "      <td>2019-02-13 10:01:28+00:00</td>\n",
              "      <td>2</td>\n",
              "      <td>0</td>\n",
              "      <td>2</td>\n",
              "      <td>2019</td>\n",
              "      <td>13</td>\n",
              "    </tr>\n",
              "  </tbody>\n",
              "</table>\n",
              "<p>95662 rows × 19 columns</p>\n",
              "</div>\n",
              "      <button class=\"colab-df-convert\" onclick=\"convertToInteractive('df-12681180-2573-42cc-8674-30477b4d3bf9')\"\n",
              "              title=\"Convert this dataframe to an interactive table.\"\n",
              "              style=\"display:none;\">\n",
              "        \n",
              "  <svg xmlns=\"http://www.w3.org/2000/svg\" height=\"24px\"viewBox=\"0 0 24 24\"\n",
              "       width=\"24px\">\n",
              "    <path d=\"M0 0h24v24H0V0z\" fill=\"none\"/>\n",
              "    <path d=\"M18.56 5.44l.94 2.06.94-2.06 2.06-.94-2.06-.94-.94-2.06-.94 2.06-2.06.94zm-11 1L8.5 8.5l.94-2.06 2.06-.94-2.06-.94L8.5 2.5l-.94 2.06-2.06.94zm10 10l.94 2.06.94-2.06 2.06-.94-2.06-.94-.94-2.06-.94 2.06-2.06.94z\"/><path d=\"M17.41 7.96l-1.37-1.37c-.4-.4-.92-.59-1.43-.59-.52 0-1.04.2-1.43.59L10.3 9.45l-7.72 7.72c-.78.78-.78 2.05 0 2.83L4 21.41c.39.39.9.59 1.41.59.51 0 1.02-.2 1.41-.59l7.78-7.78 2.81-2.81c.8-.78.8-2.07 0-2.86zM5.41 20L4 18.59l7.72-7.72 1.47 1.35L5.41 20z\"/>\n",
              "  </svg>\n",
              "      </button>\n",
              "      \n",
              "  <style>\n",
              "    .colab-df-container {\n",
              "      display:flex;\n",
              "      flex-wrap:wrap;\n",
              "      gap: 12px;\n",
              "    }\n",
              "\n",
              "    .colab-df-convert {\n",
              "      background-color: #E8F0FE;\n",
              "      border: none;\n",
              "      border-radius: 50%;\n",
              "      cursor: pointer;\n",
              "      display: none;\n",
              "      fill: #1967D2;\n",
              "      height: 32px;\n",
              "      padding: 0 0 0 0;\n",
              "      width: 32px;\n",
              "    }\n",
              "\n",
              "    .colab-df-convert:hover {\n",
              "      background-color: #E2EBFA;\n",
              "      box-shadow: 0px 1px 2px rgba(60, 64, 67, 0.3), 0px 1px 3px 1px rgba(60, 64, 67, 0.15);\n",
              "      fill: #174EA6;\n",
              "    }\n",
              "\n",
              "    [theme=dark] .colab-df-convert {\n",
              "      background-color: #3B4455;\n",
              "      fill: #D2E3FC;\n",
              "    }\n",
              "\n",
              "    [theme=dark] .colab-df-convert:hover {\n",
              "      background-color: #434B5C;\n",
              "      box-shadow: 0px 1px 3px 1px rgba(0, 0, 0, 0.15);\n",
              "      filter: drop-shadow(0px 1px 2px rgba(0, 0, 0, 0.3));\n",
              "      fill: #FFFFFF;\n",
              "    }\n",
              "  </style>\n",
              "\n",
              "      <script>\n",
              "        const buttonEl =\n",
              "          document.querySelector('#df-12681180-2573-42cc-8674-30477b4d3bf9 button.colab-df-convert');\n",
              "        buttonEl.style.display =\n",
              "          google.colab.kernel.accessAllowed ? 'block' : 'none';\n",
              "\n",
              "        async function convertToInteractive(key) {\n",
              "          const element = document.querySelector('#df-12681180-2573-42cc-8674-30477b4d3bf9');\n",
              "          const dataTable =\n",
              "            await google.colab.kernel.invokeFunction('convertToInteractive',\n",
              "                                                     [key], {});\n",
              "          if (!dataTable) return;\n",
              "\n",
              "          const docLinkHtml = 'Like what you see? Visit the ' +\n",
              "            '<a target=\"_blank\" href=https://colab.research.google.com/notebooks/data_table.ipynb>data table notebook</a>'\n",
              "            + ' to learn more about interactive tables.';\n",
              "          element.innerHTML = '';\n",
              "          dataTable['output_type'] = 'display_data';\n",
              "          await google.colab.output.renderOutput(dataTable, element);\n",
              "          const docLink = document.createElement('div');\n",
              "          docLink.innerHTML = docLinkHtml;\n",
              "          element.appendChild(docLink);\n",
              "        }\n",
              "      </script>\n",
              "    </div>\n",
              "  </div>\n",
              "  "
            ],
            "text/plain": [
              "              TransactionId         BatchId       AccountId  \\\n",
              "0       TransactionId_76871   BatchId_36123  AccountId_3957   \n",
              "1       TransactionId_73770   BatchId_15642  AccountId_4841   \n",
              "2       TransactionId_26203   BatchId_53941  AccountId_4229   \n",
              "3         TransactionId_380  BatchId_102363   AccountId_648   \n",
              "4       TransactionId_28195   BatchId_38780  AccountId_4841   \n",
              "...                     ...             ...             ...   \n",
              "95657   TransactionId_89881   BatchId_96668  AccountId_4841   \n",
              "95658   TransactionId_91597    BatchId_3503  AccountId_3439   \n",
              "95659   TransactionId_82501  BatchId_118602  AccountId_4841   \n",
              "95660  TransactionId_136354   BatchId_70924  AccountId_1346   \n",
              "95661   TransactionId_35670   BatchId_29317  AccountId_4841   \n",
              "\n",
              "            SubscriptionId       CustomerId CurrencyCode  CountryCode  \\\n",
              "0       SubscriptionId_887  CustomerId_4406          UGX          256   \n",
              "1      SubscriptionId_3829  CustomerId_4406          UGX          256   \n",
              "2       SubscriptionId_222  CustomerId_4683          UGX          256   \n",
              "3      SubscriptionId_2185   CustomerId_988          UGX          256   \n",
              "4      SubscriptionId_3829   CustomerId_988          UGX          256   \n",
              "...                    ...              ...          ...          ...   \n",
              "95657  SubscriptionId_3829  CustomerId_3078          UGX          256   \n",
              "95658  SubscriptionId_2643  CustomerId_3874          UGX          256   \n",
              "95659  SubscriptionId_3829  CustomerId_3874          UGX          256   \n",
              "95660   SubscriptionId_652  CustomerId_1709          UGX          256   \n",
              "95661  SubscriptionId_3829  CustomerId_1709          UGX          256   \n",
              "\n",
              "       ProviderId  ProductId  ProductCategory  ChannelId   Amount  Value  \\\n",
              "0               5          1                0          2   1000.0   1000   \n",
              "1               3         19                2          1    -20.0     20   \n",
              "2               5          0                0          2    500.0    500   \n",
              "3               0         11                8          2  20000.0  21800   \n",
              "4               3         19                2          1   -644.0    644   \n",
              "...           ...        ...              ...        ...      ...    ...   \n",
              "95657           3         19                2          1  -1000.0   1000   \n",
              "95658           5          1                0          2   1000.0   1000   \n",
              "95659           3         19                2          1    -20.0     20   \n",
              "95660           5          8                7          2   3000.0   3000   \n",
              "95661           3         19                2          1    -60.0     60   \n",
              "\n",
              "           TransactionStartTime  PricingStrategy  FraudResult  Month  Year  \\\n",
              "0     2018-11-15 02:18:49+00:00                2            0     11  2018   \n",
              "1     2018-11-15 02:19:08+00:00                2            0     11  2018   \n",
              "2     2018-11-15 02:44:21+00:00                2            0     11  2018   \n",
              "3     2018-11-15 03:32:55+00:00                2            0     11  2018   \n",
              "4     2018-11-15 03:34:21+00:00                2            0     11  2018   \n",
              "...                         ...              ...          ...    ...   ...   \n",
              "95657 2019-02-13 09:54:09+00:00                2            0      2  2019   \n",
              "95658 2019-02-13 09:54:25+00:00                2            0      2  2019   \n",
              "95659 2019-02-13 09:54:35+00:00                2            0      2  2019   \n",
              "95660 2019-02-13 10:01:10+00:00                2            0      2  2019   \n",
              "95661 2019-02-13 10:01:28+00:00                2            0      2  2019   \n",
              "\n",
              "       Day  \n",
              "0       15  \n",
              "1       15  \n",
              "2       15  \n",
              "3       15  \n",
              "4       15  \n",
              "...    ...  \n",
              "95657   13  \n",
              "95658   13  \n",
              "95659   13  \n",
              "95660   13  \n",
              "95661   13  \n",
              "\n",
              "[95662 rows x 19 columns]"
            ]
          },
          "execution_count": 100,
          "metadata": {},
          "output_type": "execute_result"
        }
      ],
      "source": [
        "train_df"
      ]
    },
    {
      "cell_type": "code",
      "execution_count": null,
      "metadata": {
        "colab": {
          "base_uri": "https://localhost:8080/"
        },
        "id": "iic2iiR3Nj-V",
        "outputId": "f1c9719c-4b5d-4794-f4c4-c39b83e717df"
      },
      "outputs": [
        {
          "name": "stdout",
          "output_type": "stream",
          "text": [
            "3    38189\n",
            "5    34186\n",
            "4    14542\n",
            "0     5643\n",
            "2     3084\n",
            "1       18\n",
            "Name: ProviderId, dtype: int64\n",
            "2    45405\n",
            "0    45027\n",
            "8     1920\n",
            "1     1613\n",
            "7     1279\n",
            "5      216\n",
            "3      175\n",
            "6       25\n",
            "4        2\n",
            "Name: ProductCategory, dtype: int64\n",
            "2    56935\n",
            "1    37141\n",
            "3     1048\n",
            "0      538\n",
            "Name: ChannelId, dtype: int64\n",
            "19    32635\n",
            "16    24344\n",
            "1     15384\n",
            "6     11964\n",
            "0      2885\n",
            "17     2403\n",
            "11     1512\n",
            "2      1377\n",
            "8       965\n",
            "5       789\n",
            "4       296\n",
            "9       236\n",
            "10      216\n",
            "21      197\n",
            "14      175\n",
            "12      112\n",
            "20       86\n",
            "15       31\n",
            "18       25\n",
            "22       17\n",
            "7        10\n",
            "3         2\n",
            "13        1\n",
            "Name: ProductId, dtype: int64\n"
          ]
        }
      ],
      "source": [
        "for col in cat_cols:\n",
        "    print(train_df[col].value_counts())"
      ]
    },
    {
      "cell_type": "markdown",
      "metadata": {
        "id": "zulf3-QZWu-k"
      },
      "source": [
        "Creating a column called credit that outputs 0 if the amount is less than 1 else 1"
      ]
    },
    {
      "cell_type": "code",
      "execution_count": null,
      "metadata": {
        "id": "O1t4xZb9G9V_"
      },
      "outputs": [],
      "source": [
        "def credit(row):\n",
        "  if row < 1:\n",
        "    return 0\n",
        "  else:\n",
        "    return 1"
      ]
    },
    {
      "cell_type": "code",
      "execution_count": null,
      "metadata": {
        "colab": {
          "base_uri": "https://localhost:8080/"
        },
        "id": "lQ8iR8ekJ_Ya",
        "outputId": "a0145720-6f1b-494c-ff08-1f32730f8a89"
      },
      "outputs": [
        {
          "data": {
            "text/plain": [
              "0        1\n",
              "1        0\n",
              "2        1\n",
              "3        1\n",
              "4        0\n",
              "        ..\n",
              "95657    0\n",
              "95658    1\n",
              "95659    0\n",
              "95660    1\n",
              "95661    0\n",
              "Name: Credit, Length: 95662, dtype: int64"
            ]
          },
          "execution_count": 103,
          "metadata": {},
          "output_type": "execute_result"
        }
      ],
      "source": [
        "train_df['Credit'] = train_df['Amount'].apply(credit)\n",
        "train_df['Credit']"
      ]
    },
    {
      "cell_type": "code",
      "execution_count": null,
      "metadata": {
        "colab": {
          "base_uri": "https://localhost:8080/",
          "height": 488
        },
        "id": "1SpAqppyKYBM",
        "outputId": "cb66da57-5716-4e36-9f80-3120dc3716fa"
      },
      "outputs": [
        {
          "data": {
            "text/html": [
              "\n",
              "  <div id=\"df-271fcd58-a1f0-4de9-9170-5fac7c12acb8\">\n",
              "    <div class=\"colab-df-container\">\n",
              "      <div>\n",
              "<style scoped>\n",
              "    .dataframe tbody tr th:only-of-type {\n",
              "        vertical-align: middle;\n",
              "    }\n",
              "\n",
              "    .dataframe tbody tr th {\n",
              "        vertical-align: top;\n",
              "    }\n",
              "\n",
              "    .dataframe thead th {\n",
              "        text-align: right;\n",
              "    }\n",
              "</style>\n",
              "<table border=\"1\" class=\"dataframe\">\n",
              "  <thead>\n",
              "    <tr style=\"text-align: right;\">\n",
              "      <th></th>\n",
              "      <th>ProviderId</th>\n",
              "      <th>ProductId</th>\n",
              "      <th>ProductCategory</th>\n",
              "      <th>ChannelId</th>\n",
              "      <th>Value</th>\n",
              "      <th>PricingStrategy</th>\n",
              "      <th>FraudResult</th>\n",
              "      <th>Month</th>\n",
              "      <th>Year</th>\n",
              "      <th>Day</th>\n",
              "      <th>Credit</th>\n",
              "    </tr>\n",
              "  </thead>\n",
              "  <tbody>\n",
              "    <tr>\n",
              "      <th>0</th>\n",
              "      <td>5</td>\n",
              "      <td>1</td>\n",
              "      <td>0</td>\n",
              "      <td>2</td>\n",
              "      <td>1000</td>\n",
              "      <td>2</td>\n",
              "      <td>0</td>\n",
              "      <td>11</td>\n",
              "      <td>2018</td>\n",
              "      <td>15</td>\n",
              "      <td>1</td>\n",
              "    </tr>\n",
              "    <tr>\n",
              "      <th>1</th>\n",
              "      <td>3</td>\n",
              "      <td>19</td>\n",
              "      <td>2</td>\n",
              "      <td>1</td>\n",
              "      <td>20</td>\n",
              "      <td>2</td>\n",
              "      <td>0</td>\n",
              "      <td>11</td>\n",
              "      <td>2018</td>\n",
              "      <td>15</td>\n",
              "      <td>0</td>\n",
              "    </tr>\n",
              "    <tr>\n",
              "      <th>2</th>\n",
              "      <td>5</td>\n",
              "      <td>0</td>\n",
              "      <td>0</td>\n",
              "      <td>2</td>\n",
              "      <td>500</td>\n",
              "      <td>2</td>\n",
              "      <td>0</td>\n",
              "      <td>11</td>\n",
              "      <td>2018</td>\n",
              "      <td>15</td>\n",
              "      <td>1</td>\n",
              "    </tr>\n",
              "    <tr>\n",
              "      <th>3</th>\n",
              "      <td>0</td>\n",
              "      <td>11</td>\n",
              "      <td>8</td>\n",
              "      <td>2</td>\n",
              "      <td>21800</td>\n",
              "      <td>2</td>\n",
              "      <td>0</td>\n",
              "      <td>11</td>\n",
              "      <td>2018</td>\n",
              "      <td>15</td>\n",
              "      <td>1</td>\n",
              "    </tr>\n",
              "    <tr>\n",
              "      <th>4</th>\n",
              "      <td>3</td>\n",
              "      <td>19</td>\n",
              "      <td>2</td>\n",
              "      <td>1</td>\n",
              "      <td>644</td>\n",
              "      <td>2</td>\n",
              "      <td>0</td>\n",
              "      <td>11</td>\n",
              "      <td>2018</td>\n",
              "      <td>15</td>\n",
              "      <td>0</td>\n",
              "    </tr>\n",
              "    <tr>\n",
              "      <th>...</th>\n",
              "      <td>...</td>\n",
              "      <td>...</td>\n",
              "      <td>...</td>\n",
              "      <td>...</td>\n",
              "      <td>...</td>\n",
              "      <td>...</td>\n",
              "      <td>...</td>\n",
              "      <td>...</td>\n",
              "      <td>...</td>\n",
              "      <td>...</td>\n",
              "      <td>...</td>\n",
              "    </tr>\n",
              "    <tr>\n",
              "      <th>95657</th>\n",
              "      <td>3</td>\n",
              "      <td>19</td>\n",
              "      <td>2</td>\n",
              "      <td>1</td>\n",
              "      <td>1000</td>\n",
              "      <td>2</td>\n",
              "      <td>0</td>\n",
              "      <td>2</td>\n",
              "      <td>2019</td>\n",
              "      <td>13</td>\n",
              "      <td>0</td>\n",
              "    </tr>\n",
              "    <tr>\n",
              "      <th>95658</th>\n",
              "      <td>5</td>\n",
              "      <td>1</td>\n",
              "      <td>0</td>\n",
              "      <td>2</td>\n",
              "      <td>1000</td>\n",
              "      <td>2</td>\n",
              "      <td>0</td>\n",
              "      <td>2</td>\n",
              "      <td>2019</td>\n",
              "      <td>13</td>\n",
              "      <td>1</td>\n",
              "    </tr>\n",
              "    <tr>\n",
              "      <th>95659</th>\n",
              "      <td>3</td>\n",
              "      <td>19</td>\n",
              "      <td>2</td>\n",
              "      <td>1</td>\n",
              "      <td>20</td>\n",
              "      <td>2</td>\n",
              "      <td>0</td>\n",
              "      <td>2</td>\n",
              "      <td>2019</td>\n",
              "      <td>13</td>\n",
              "      <td>0</td>\n",
              "    </tr>\n",
              "    <tr>\n",
              "      <th>95660</th>\n",
              "      <td>5</td>\n",
              "      <td>8</td>\n",
              "      <td>7</td>\n",
              "      <td>2</td>\n",
              "      <td>3000</td>\n",
              "      <td>2</td>\n",
              "      <td>0</td>\n",
              "      <td>2</td>\n",
              "      <td>2019</td>\n",
              "      <td>13</td>\n",
              "      <td>1</td>\n",
              "    </tr>\n",
              "    <tr>\n",
              "      <th>95661</th>\n",
              "      <td>3</td>\n",
              "      <td>19</td>\n",
              "      <td>2</td>\n",
              "      <td>1</td>\n",
              "      <td>60</td>\n",
              "      <td>2</td>\n",
              "      <td>0</td>\n",
              "      <td>2</td>\n",
              "      <td>2019</td>\n",
              "      <td>13</td>\n",
              "      <td>0</td>\n",
              "    </tr>\n",
              "  </tbody>\n",
              "</table>\n",
              "<p>95662 rows × 11 columns</p>\n",
              "</div>\n",
              "      <button class=\"colab-df-convert\" onclick=\"convertToInteractive('df-271fcd58-a1f0-4de9-9170-5fac7c12acb8')\"\n",
              "              title=\"Convert this dataframe to an interactive table.\"\n",
              "              style=\"display:none;\">\n",
              "        \n",
              "  <svg xmlns=\"http://www.w3.org/2000/svg\" height=\"24px\"viewBox=\"0 0 24 24\"\n",
              "       width=\"24px\">\n",
              "    <path d=\"M0 0h24v24H0V0z\" fill=\"none\"/>\n",
              "    <path d=\"M18.56 5.44l.94 2.06.94-2.06 2.06-.94-2.06-.94-.94-2.06-.94 2.06-2.06.94zm-11 1L8.5 8.5l.94-2.06 2.06-.94-2.06-.94L8.5 2.5l-.94 2.06-2.06.94zm10 10l.94 2.06.94-2.06 2.06-.94-2.06-.94-.94-2.06-.94 2.06-2.06.94z\"/><path d=\"M17.41 7.96l-1.37-1.37c-.4-.4-.92-.59-1.43-.59-.52 0-1.04.2-1.43.59L10.3 9.45l-7.72 7.72c-.78.78-.78 2.05 0 2.83L4 21.41c.39.39.9.59 1.41.59.51 0 1.02-.2 1.41-.59l7.78-7.78 2.81-2.81c.8-.78.8-2.07 0-2.86zM5.41 20L4 18.59l7.72-7.72 1.47 1.35L5.41 20z\"/>\n",
              "  </svg>\n",
              "      </button>\n",
              "      \n",
              "  <style>\n",
              "    .colab-df-container {\n",
              "      display:flex;\n",
              "      flex-wrap:wrap;\n",
              "      gap: 12px;\n",
              "    }\n",
              "\n",
              "    .colab-df-convert {\n",
              "      background-color: #E8F0FE;\n",
              "      border: none;\n",
              "      border-radius: 50%;\n",
              "      cursor: pointer;\n",
              "      display: none;\n",
              "      fill: #1967D2;\n",
              "      height: 32px;\n",
              "      padding: 0 0 0 0;\n",
              "      width: 32px;\n",
              "    }\n",
              "\n",
              "    .colab-df-convert:hover {\n",
              "      background-color: #E2EBFA;\n",
              "      box-shadow: 0px 1px 2px rgba(60, 64, 67, 0.3), 0px 1px 3px 1px rgba(60, 64, 67, 0.15);\n",
              "      fill: #174EA6;\n",
              "    }\n",
              "\n",
              "    [theme=dark] .colab-df-convert {\n",
              "      background-color: #3B4455;\n",
              "      fill: #D2E3FC;\n",
              "    }\n",
              "\n",
              "    [theme=dark] .colab-df-convert:hover {\n",
              "      background-color: #434B5C;\n",
              "      box-shadow: 0px 1px 3px 1px rgba(0, 0, 0, 0.15);\n",
              "      filter: drop-shadow(0px 1px 2px rgba(0, 0, 0, 0.3));\n",
              "      fill: #FFFFFF;\n",
              "    }\n",
              "  </style>\n",
              "\n",
              "      <script>\n",
              "        const buttonEl =\n",
              "          document.querySelector('#df-271fcd58-a1f0-4de9-9170-5fac7c12acb8 button.colab-df-convert');\n",
              "        buttonEl.style.display =\n",
              "          google.colab.kernel.accessAllowed ? 'block' : 'none';\n",
              "\n",
              "        async function convertToInteractive(key) {\n",
              "          const element = document.querySelector('#df-271fcd58-a1f0-4de9-9170-5fac7c12acb8');\n",
              "          const dataTable =\n",
              "            await google.colab.kernel.invokeFunction('convertToInteractive',\n",
              "                                                     [key], {});\n",
              "          if (!dataTable) return;\n",
              "\n",
              "          const docLinkHtml = 'Like what you see? Visit the ' +\n",
              "            '<a target=\"_blank\" href=https://colab.research.google.com/notebooks/data_table.ipynb>data table notebook</a>'\n",
              "            + ' to learn more about interactive tables.';\n",
              "          element.innerHTML = '';\n",
              "          dataTable['output_type'] = 'display_data';\n",
              "          await google.colab.output.renderOutput(dataTable, element);\n",
              "          const docLink = document.createElement('div');\n",
              "          docLink.innerHTML = docLinkHtml;\n",
              "          element.appendChild(docLink);\n",
              "        }\n",
              "      </script>\n",
              "    </div>\n",
              "  </div>\n",
              "  "
            ],
            "text/plain": [
              "       ProviderId  ProductId  ProductCategory  ChannelId  Value  \\\n",
              "0               5          1                0          2   1000   \n",
              "1               3         19                2          1     20   \n",
              "2               5          0                0          2    500   \n",
              "3               0         11                8          2  21800   \n",
              "4               3         19                2          1    644   \n",
              "...           ...        ...              ...        ...    ...   \n",
              "95657           3         19                2          1   1000   \n",
              "95658           5          1                0          2   1000   \n",
              "95659           3         19                2          1     20   \n",
              "95660           5          8                7          2   3000   \n",
              "95661           3         19                2          1     60   \n",
              "\n",
              "       PricingStrategy  FraudResult  Month  Year  Day  Credit  \n",
              "0                    2            0     11  2018   15       1  \n",
              "1                    2            0     11  2018   15       0  \n",
              "2                    2            0     11  2018   15       1  \n",
              "3                    2            0     11  2018   15       1  \n",
              "4                    2            0     11  2018   15       0  \n",
              "...                ...          ...    ...   ...  ...     ...  \n",
              "95657                2            0      2  2019   13       0  \n",
              "95658                2            0      2  2019   13       1  \n",
              "95659                2            0      2  2019   13       0  \n",
              "95660                2            0      2  2019   13       1  \n",
              "95661                2            0      2  2019   13       0  \n",
              "\n",
              "[95662 rows x 11 columns]"
            ]
          },
          "execution_count": 104,
          "metadata": {},
          "output_type": "execute_result"
        }
      ],
      "source": [
        "\n",
        "#dropping unnecessary columns in preparation for modelling \n",
        "train_data = train_df.drop(columns=['TransactionId','BatchId', 'SubscriptionId', \n",
        "                                    'CustomerId', 'AccountId', 'Amount', 'CountryCode', 'CurrencyCode', 'TransactionStartTime'])\n",
        "train_data"
      ]
    },
    {
      "cell_type": "markdown",
      "metadata": {
        "id": "xorRot5gXZ3S"
      },
      "source": [
        "### Feature correlation"
      ]
    },
    {
      "cell_type": "code",
      "execution_count": null,
      "metadata": {
        "colab": {
          "base_uri": "https://localhost:8080/",
          "height": 600
        },
        "id": "WIn1c4M4MrUr",
        "outputId": "55874478-5196-4ca6-e08b-bc4fdfa64ccf"
      },
      "outputs": [
        {
          "data": {
            "image/png": "[encoded data removed]",
            "text/plain": [
              "<Figure size 1152x648 with 2 Axes>"
            ]
          },
          "metadata": {},
          "output_type": "display_data"
        }
      ],
      "source": [
        "\n",
        "plt.figure(figsize=(16, 9))\n",
        "sns.heatmap(train_data.corr(), annot=True)\n",
        "plt.show()"
      ]
    },
    {
      "cell_type": "code",
      "execution_count": null,
      "metadata": {
        "id": "LMmn7I1DO4LK"
      },
      "outputs": [],
      "source": [
        "X = train_data.drop(['FraudResult'], axis=1).values"
      ]
    },
    {
      "cell_type": "code",
      "execution_count": null,
      "metadata": {
        "id": "AH2T1LBiPH1-"
      },
      "outputs": [],
      "source": [
        "y = train_data['FraudResult'].values.reshape(-1,1)"
      ]
    },
    {
      "cell_type": "code",
      "execution_count": null,
      "metadata": {
        "colab": {
          "base_uri": "https://localhost:8080/"
        },
        "id": "mEA2USVlPQVC",
        "outputId": "4c162783-2da1-405b-9ff2-04aad214c552"
      },
      "outputs": [
        {
          "name": "stdout",
          "output_type": "stream",
          "text": [
            "(95662, 10) (95662, 1)\n"
          ]
        }
      ],
      "source": [
        "print(X.shape, y.shape)"
      ]
    },
    {
      "cell_type": "markdown",
      "metadata": {
        "id": "AxJEIIVWXi3r"
      },
      "source": [
        "### Train-test split validation"
      ]
    },
    {
      "cell_type": "code",
      "execution_count": null,
      "metadata": {
        "id": "PqNxt43hNBtk"
      },
      "outputs": [],
      "source": [
        "from sklearn.model_selection import train_test_split"
      ]
    },
    {
      "cell_type": "code",
      "execution_count": null,
      "metadata": {
        "id": "GofnAzvPPkG1"
      },
      "outputs": [],
      "source": [
        "X_train, X_test, y_train, y_test = train_test_split(X, y, test_size=0.3, random_state=42)"
      ]
    },
    {
      "cell_type": "markdown",
      "metadata": {
        "id": "TG_-byMTXqZC"
      },
      "source": [
        "### Feature scaling"
      ]
    },
    {
      "cell_type": "code",
      "execution_count": null,
      "metadata": {
        "id": "a0ZRQRo9QdT1"
      },
      "outputs": [],
      "source": [
        "from sklearn.preprocessing import StandardScaler"
      ]
    },
    {
      "cell_type": "code",
      "execution_count": null,
      "metadata": {
        "id": "zj_KlAf4QnIm"
      },
      "outputs": [],
      "source": [
        "scaler = StandardScaler()\n",
        "rescaledX_train = scaler.fit_transform(X_train)\n",
        "rescaledX_test = scaler.transform(X_test)"
      ]
    },
    {
      "cell_type": "markdown",
      "metadata": {
        "id": "FnkHPrO5X0gv"
      },
      "source": [
        "###Logistic Regression model"
      ]
    },
    {
      "cell_type": "code",
      "execution_count": null,
      "metadata": {
        "colab": {
          "base_uri": "https://localhost:8080/"
        },
        "id": "B9YOSUATRFyC",
        "outputId": "32652761-3643-40b7-ff5e-5665090fbfba"
      },
      "outputs": [
        {
          "data": {
            "text/plain": [
              "LogisticRegression()"
            ]
          },
          "execution_count": 113,
          "metadata": {},
          "output_type": "execute_result"
        }
      ],
      "source": [
        "from sklearn.linear_model import LogisticRegression\n",
        "log = LogisticRegression()\n",
        "log.fit(rescaledX_train, y_train)"
      ]
    },
    {
      "cell_type": "code",
      "execution_count": null,
      "metadata": {
        "id": "-YRkE3UERlJl"
      },
      "outputs": [],
      "source": [
        "pred = log.predict(rescaledX_test)"
      ]
    },
    {
      "cell_type": "code",
      "execution_count": null,
      "metadata": {
        "colab": {
          "base_uri": "https://localhost:8080/"
        },
        "id": "XGMuTNE3Ryen",
        "outputId": "7888f20b-46e0-45d9-a814-53cf6e867123"
      },
      "outputs": [
        {
          "data": {
            "text/plain": [
              "0.9979093348200285"
            ]
          },
          "execution_count": 115,
          "metadata": {},
          "output_type": "execute_result"
        }
      ],
      "source": [
        "log.score(rescaledX_test, y_test)"
      ]
    },
    {
      "cell_type": "code",
      "execution_count": null,
      "metadata": {
        "id": "2HJ5ktD2TV3c"
      },
      "outputs": [],
      "source": [
        "from sklearn.metrics import classification_report"
      ]
    },
    {
      "cell_type": "code",
      "execution_count": null,
      "metadata": {
        "colab": {
          "base_uri": "https://localhost:8080/"
        },
        "id": "tr4_rqsLTdw9",
        "outputId": "b693691f-76f1-45f7-832f-83ae0ff813b0"
      },
      "outputs": [
        {
          "name": "stdout",
          "output_type": "stream",
          "text": [
            "              precision    recall  f1-score   support\n",
            "\n",
            "           0       1.00      1.00      1.00     28643\n",
            "           1       0.43      0.23      0.30        56\n",
            "\n",
            "    accuracy                           1.00     28699\n",
            "   macro avg       0.72      0.62      0.65     28699\n",
            "weighted avg       1.00      1.00      1.00     28699\n",
            "\n"
          ]
        }
      ],
      "source": [
        "print(classification_report(y_test, pred))"
      ]
    },
    {
      "cell_type": "markdown",
      "metadata": {
        "id": "xePLNF-gX7EV"
      },
      "source": [
        "### Random forest model"
      ]
    },
    {
      "cell_type": "code",
      "execution_count": null,
      "metadata": {
        "colab": {
          "base_uri": "https://localhost:8080/"
        },
        "id": "q-ufoAx8Tu5E",
        "outputId": "986d16d0-3470-42b4-e0f5-1eda92e8650d"
      },
      "outputs": [
        {
          "data": {
            "text/plain": [
              "RandomForestClassifier()"
            ]
          },
          "execution_count": 118,
          "metadata": {},
          "output_type": "execute_result"
        }
      ],
      "source": [
        "from sklearn.ensemble import RandomForestClassifier\n",
        "forest = RandomForestClassifier(n_estimators=100)\n",
        "forest.fit(rescaledX_train, y_train)"
      ]
    },
    {
      "cell_type": "code",
      "execution_count": null,
      "metadata": {
        "id": "AoJh29B6USBb"
      },
      "outputs": [],
      "source": [
        "pred_forest = forest.predict(rescaledX_test)"
      ]
    },
    {
      "cell_type": "code",
      "execution_count": null,
      "metadata": {
        "colab": {
          "base_uri": "https://localhost:8080/"
        },
        "id": "6njN00m2UcQW",
        "outputId": "1319f383-f7f8-4894-b931-a75e46efe4cb"
      },
      "outputs": [
        {
          "data": {
            "text/plain": [
              "0.9995470225443395"
            ]
          },
          "execution_count": 120,
          "metadata": {},
          "output_type": "execute_result"
        }
      ],
      "source": [
        "forest.score(rescaledX_test, y_test)"
      ]
    },
    {
      "cell_type": "code",
      "execution_count": null,
      "metadata": {
        "colab": {
          "base_uri": "https://localhost:8080/"
        },
        "id": "oe-2Fo6jUl3_",
        "outputId": "c3df39b4-9ffa-46a4-c0c9-6141efef4206"
      },
      "outputs": [
        {
          "name": "stdout",
          "output_type": "stream",
          "text": [
            "              precision    recall  f1-score   support\n",
            "\n",
            "           0       1.00      1.00      1.00     28643\n",
            "           1       0.88      0.89      0.88        56\n",
            "\n",
            "    accuracy                           1.00     28699\n",
            "   macro avg       0.94      0.95      0.94     28699\n",
            "weighted avg       1.00      1.00      1.00     28699\n",
            "\n"
          ]
        }
      ],
      "source": [
        "print(classification_report(y_test, pred_forest))"
      ]
    },
    {
      "cell_type": "markdown",
      "metadata": {
        "id": "bnz3aSXDKmot"
      },
      "source": [
        "Random forest proved to be the optimal model as deduced from the classification report above. It gave better precision and recall for the positive class compared to the traditional logistic regression."
      ]
    },
    {
      "cell_type": "markdown",
      "metadata": {
        "id": "JXzh_uGZ_qvr"
      },
      "source": [
        "### Working on the test data"
      ]
    },
    {
      "cell_type": "code",
      "execution_count": null,
      "metadata": {
        "colab": {
          "base_uri": "https://localhost:8080/",
          "height": 488
        },
        "id": "9uV-0MntKp6o",
        "outputId": "72e78c36-087c-4e99-ab4b-5acdb0994206"
      },
      "outputs": [
        {
          "data": {
            "text/html": [
              "\n",
              "  <div id=\"df-fb4ac7d6-d06c-4c31-908b-bcb0ef456658\">\n",
              "    <div class=\"colab-df-container\">\n",
              "      <div>\n",
              "<style scoped>\n",
              "    .dataframe tbody tr th:only-of-type {\n",
              "        vertical-align: middle;\n",
              "    }\n",
              "\n",
              "    .dataframe tbody tr th {\n",
              "        vertical-align: top;\n",
              "    }\n",
              "\n",
              "    .dataframe thead th {\n",
              "        text-align: right;\n",
              "    }\n",
              "</style>\n",
              "<table border=\"1\" class=\"dataframe\">\n",
              "  <thead>\n",
              "    <tr style=\"text-align: right;\">\n",
              "      <th></th>\n",
              "      <th>TransactionId</th>\n",
              "      <th>BatchId</th>\n",
              "      <th>AccountId</th>\n",
              "      <th>SubscriptionId</th>\n",
              "      <th>CustomerId</th>\n",
              "      <th>CurrencyCode</th>\n",
              "      <th>CountryCode</th>\n",
              "      <th>ProviderId</th>\n",
              "      <th>ProductId</th>\n",
              "      <th>ProductCategory</th>\n",
              "      <th>ChannelId</th>\n",
              "      <th>Amount</th>\n",
              "      <th>Value</th>\n",
              "      <th>TransactionStartTime</th>\n",
              "      <th>PricingStrategy</th>\n",
              "    </tr>\n",
              "  </thead>\n",
              "  <tbody>\n",
              "    <tr>\n",
              "      <th>0</th>\n",
              "      <td>TransactionId_50600</td>\n",
              "      <td>BatchId_35028</td>\n",
              "      <td>AccountId_2441</td>\n",
              "      <td>SubscriptionId_4426</td>\n",
              "      <td>CustomerId_2857</td>\n",
              "      <td>UGX</td>\n",
              "      <td>256</td>\n",
              "      <td>ProviderId_5</td>\n",
              "      <td>ProductId_3</td>\n",
              "      <td>airtime</td>\n",
              "      <td>ChannelId_3</td>\n",
              "      <td>1000.0</td>\n",
              "      <td>1000</td>\n",
              "      <td>2019-02-13T10:01:40Z</td>\n",
              "      <td>4</td>\n",
              "    </tr>\n",
              "    <tr>\n",
              "      <th>1</th>\n",
              "      <td>TransactionId_95109</td>\n",
              "      <td>BatchId_45139</td>\n",
              "      <td>AccountId_3439</td>\n",
              "      <td>SubscriptionId_2643</td>\n",
              "      <td>CustomerId_3874</td>\n",
              "      <td>UGX</td>\n",
              "      <td>256</td>\n",
              "      <td>ProviderId_5</td>\n",
              "      <td>ProductId_15</td>\n",
              "      <td>financial_services</td>\n",
              "      <td>ChannelId_3</td>\n",
              "      <td>2000.0</td>\n",
              "      <td>2000</td>\n",
              "      <td>2019-02-13T10:02:12Z</td>\n",
              "      <td>2</td>\n",
              "    </tr>\n",
              "    <tr>\n",
              "      <th>2</th>\n",
              "      <td>TransactionId_47357</td>\n",
              "      <td>BatchId_74887</td>\n",
              "      <td>AccountId_4841</td>\n",
              "      <td>SubscriptionId_3829</td>\n",
              "      <td>CustomerId_2857</td>\n",
              "      <td>UGX</td>\n",
              "      <td>256</td>\n",
              "      <td>ProviderId_4</td>\n",
              "      <td>ProductId_6</td>\n",
              "      <td>financial_services</td>\n",
              "      <td>ChannelId_2</td>\n",
              "      <td>-50.0</td>\n",
              "      <td>50</td>\n",
              "      <td>2019-02-13T10:02:30Z</td>\n",
              "      <td>2</td>\n",
              "    </tr>\n",
              "    <tr>\n",
              "      <th>3</th>\n",
              "      <td>TransactionId_28185</td>\n",
              "      <td>BatchId_11025</td>\n",
              "      <td>AccountId_2685</td>\n",
              "      <td>SubscriptionId_4626</td>\n",
              "      <td>CustomerId_3105</td>\n",
              "      <td>UGX</td>\n",
              "      <td>256</td>\n",
              "      <td>ProviderId_5</td>\n",
              "      <td>ProductId_10</td>\n",
              "      <td>airtime</td>\n",
              "      <td>ChannelId_3</td>\n",
              "      <td>3000.0</td>\n",
              "      <td>3000</td>\n",
              "      <td>2019-02-13T10:02:38Z</td>\n",
              "      <td>4</td>\n",
              "    </tr>\n",
              "    <tr>\n",
              "      <th>4</th>\n",
              "      <td>TransactionId_22140</td>\n",
              "      <td>BatchId_29804</td>\n",
              "      <td>AccountId_4841</td>\n",
              "      <td>SubscriptionId_3829</td>\n",
              "      <td>CustomerId_3105</td>\n",
              "      <td>UGX</td>\n",
              "      <td>256</td>\n",
              "      <td>ProviderId_4</td>\n",
              "      <td>ProductId_6</td>\n",
              "      <td>financial_services</td>\n",
              "      <td>ChannelId_2</td>\n",
              "      <td>-60.0</td>\n",
              "      <td>60</td>\n",
              "      <td>2019-02-13T10:02:58Z</td>\n",
              "      <td>2</td>\n",
              "    </tr>\n",
              "    <tr>\n",
              "      <th>...</th>\n",
              "      <td>...</td>\n",
              "      <td>...</td>\n",
              "      <td>...</td>\n",
              "      <td>...</td>\n",
              "      <td>...</td>\n",
              "      <td>...</td>\n",
              "      <td>...</td>\n",
              "      <td>...</td>\n",
              "      <td>...</td>\n",
              "      <td>...</td>\n",
              "      <td>...</td>\n",
              "      <td>...</td>\n",
              "      <td>...</td>\n",
              "      <td>...</td>\n",
              "      <td>...</td>\n",
              "    </tr>\n",
              "    <tr>\n",
              "      <th>45014</th>\n",
              "      <td>TransactionId_116198</td>\n",
              "      <td>BatchId_117348</td>\n",
              "      <td>AccountId_4841</td>\n",
              "      <td>SubscriptionId_3829</td>\n",
              "      <td>CustomerId_5225</td>\n",
              "      <td>UGX</td>\n",
              "      <td>256</td>\n",
              "      <td>ProviderId_4</td>\n",
              "      <td>ProductId_6</td>\n",
              "      <td>financial_services</td>\n",
              "      <td>ChannelId_3</td>\n",
              "      <td>-5000.0</td>\n",
              "      <td>5000</td>\n",
              "      <td>2019-03-14T23:56:28Z</td>\n",
              "      <td>2</td>\n",
              "    </tr>\n",
              "    <tr>\n",
              "      <th>45015</th>\n",
              "      <td>TransactionId_24829</td>\n",
              "      <td>BatchId_53630</td>\n",
              "      <td>AccountId_4803</td>\n",
              "      <td>SubscriptionId_1738</td>\n",
              "      <td>CustomerId_5272</td>\n",
              "      <td>UGX</td>\n",
              "      <td>256</td>\n",
              "      <td>ProviderId_3</td>\n",
              "      <td>ProductId_10</td>\n",
              "      <td>airtime</td>\n",
              "      <td>ChannelId_3</td>\n",
              "      <td>10000.0</td>\n",
              "      <td>10000</td>\n",
              "      <td>2019-03-14T23:57:38Z</td>\n",
              "      <td>1</td>\n",
              "    </tr>\n",
              "    <tr>\n",
              "      <th>45016</th>\n",
              "      <td>TransactionId_102920</td>\n",
              "      <td>BatchId_112209</td>\n",
              "      <td>AccountId_4817</td>\n",
              "      <td>SubscriptionId_4613</td>\n",
              "      <td>CustomerId_5286</td>\n",
              "      <td>UGX</td>\n",
              "      <td>256</td>\n",
              "      <td>ProviderId_3</td>\n",
              "      <td>ProductId_10</td>\n",
              "      <td>airtime</td>\n",
              "      <td>ChannelId_3</td>\n",
              "      <td>10000.0</td>\n",
              "      <td>10000</td>\n",
              "      <td>2019-03-14T23:59:17Z</td>\n",
              "      <td>1</td>\n",
              "    </tr>\n",
              "    <tr>\n",
              "      <th>45017</th>\n",
              "      <td>TransactionId_128439</td>\n",
              "      <td>BatchId_58734</td>\n",
              "      <td>AccountId_4841</td>\n",
              "      <td>SubscriptionId_3829</td>\n",
              "      <td>CustomerId_5286</td>\n",
              "      <td>UGX</td>\n",
              "      <td>256</td>\n",
              "      <td>ProviderId_4</td>\n",
              "      <td>ProductId_6</td>\n",
              "      <td>financial_services</td>\n",
              "      <td>ChannelId_3</td>\n",
              "      <td>-5000.0</td>\n",
              "      <td>5000</td>\n",
              "      <td>2019-03-14T23:59:39Z</td>\n",
              "      <td>2</td>\n",
              "    </tr>\n",
              "    <tr>\n",
              "      <th>45018</th>\n",
              "      <td>TransactionId_45927</td>\n",
              "      <td>BatchId_98308</td>\n",
              "      <td>AccountId_4593</td>\n",
              "      <td>SubscriptionId_3866</td>\n",
              "      <td>CustomerId_5057</td>\n",
              "      <td>UGX</td>\n",
              "      <td>256</td>\n",
              "      <td>ProviderId_5</td>\n",
              "      <td>ProductId_3</td>\n",
              "      <td>airtime</td>\n",
              "      <td>ChannelId_3</td>\n",
              "      <td>3500.0</td>\n",
              "      <td>3500</td>\n",
              "      <td>2019-03-14T23:59:51Z</td>\n",
              "      <td>4</td>\n",
              "    </tr>\n",
              "  </tbody>\n",
              "</table>\n",
              "<p>45019 rows × 15 columns</p>\n",
              "</div>\n",
              "      <button class=\"colab-df-convert\" onclick=\"convertToInteractive('df-fb4ac7d6-d06c-4c31-908b-bcb0ef456658')\"\n",
              "              title=\"Convert this dataframe to an interactive table.\"\n",
              "              style=\"display:none;\">\n",
              "        \n",
              "  <svg xmlns=\"http://www.w3.org/2000/svg\" height=\"24px\"viewBox=\"0 0 24 24\"\n",
              "       width=\"24px\">\n",
              "    <path d=\"M0 0h24v24H0V0z\" fill=\"none\"/>\n",
              "    <path d=\"M18.56 5.44l.94 2.06.94-2.06 2.06-.94-2.06-.94-.94-2.06-.94 2.06-2.06.94zm-11 1L8.5 8.5l.94-2.06 2.06-.94-2.06-.94L8.5 2.5l-.94 2.06-2.06.94zm10 10l.94 2.06.94-2.06 2.06-.94-2.06-.94-.94-2.06-.94 2.06-2.06.94z\"/><path d=\"M17.41 7.96l-1.37-1.37c-.4-.4-.92-.59-1.43-.59-.52 0-1.04.2-1.43.59L10.3 9.45l-7.72 7.72c-.78.78-.78 2.05 0 2.83L4 21.41c.39.39.9.59 1.41.59.51 0 1.02-.2 1.41-.59l7.78-7.78 2.81-2.81c.8-.78.8-2.07 0-2.86zM5.41 20L4 18.59l7.72-7.72 1.47 1.35L5.41 20z\"/>\n",
              "  </svg>\n",
              "      </button>\n",
              "      \n",
              "  <style>\n",
              "    .colab-df-container {\n",
              "      display:flex;\n",
              "      flex-wrap:wrap;\n",
              "      gap: 12px;\n",
              "    }\n",
              "\n",
              "    .colab-df-convert {\n",
              "      background-color: #E8F0FE;\n",
              "      border: none;\n",
              "      border-radius: 50%;\n",
              "      cursor: pointer;\n",
              "      display: none;\n",
              "      fill: #1967D2;\n",
              "      height: 32px;\n",
              "      padding: 0 0 0 0;\n",
              "      width: 32px;\n",
              "    }\n",
              "\n",
              "    .colab-df-convert:hover {\n",
              "      background-color: #E2EBFA;\n",
              "      box-shadow: 0px 1px 2px rgba(60, 64, 67, 0.3), 0px 1px 3px 1px rgba(60, 64, 67, 0.15);\n",
              "      fill: #174EA6;\n",
              "    }\n",
              "\n",
              "    [theme=dark] .colab-df-convert {\n",
              "      background-color: #3B4455;\n",
              "      fill: #D2E3FC;\n",
              "    }\n",
              "\n",
              "    [theme=dark] .colab-df-convert:hover {\n",
              "      background-color: #434B5C;\n",
              "      box-shadow: 0px 1px 3px 1px rgba(0, 0, 0, 0.15);\n",
              "      filter: drop-shadow(0px 1px 2px rgba(0, 0, 0, 0.3));\n",
              "      fill: #FFFFFF;\n",
              "    }\n",
              "  </style>\n",
              "\n",
              "      <script>\n",
              "        const buttonEl =\n",
              "          document.querySelector('#df-fb4ac7d6-d06c-4c31-908b-bcb0ef456658 button.colab-df-convert');\n",
              "        buttonEl.style.display =\n",
              "          google.colab.kernel.accessAllowed ? 'block' : 'none';\n",
              "\n",
              "        async function convertToInteractive(key) {\n",
              "          const element = document.querySelector('#df-fb4ac7d6-d06c-4c31-908b-bcb0ef456658');\n",
              "          const dataTable =\n",
              "            await google.colab.kernel.invokeFunction('convertToInteractive',\n",
              "                                                     [key], {});\n",
              "          if (!dataTable) return;\n",
              "\n",
              "          const docLinkHtml = 'Like what you see? Visit the ' +\n",
              "            '<a target=\"_blank\" href=https://colab.research.google.com/notebooks/data_table.ipynb>data table notebook</a>'\n",
              "            + ' to learn more about interactive tables.';\n",
              "          element.innerHTML = '';\n",
              "          dataTable['output_type'] = 'display_data';\n",
              "          await google.colab.output.renderOutput(dataTable, element);\n",
              "          const docLink = document.createElement('div');\n",
              "          docLink.innerHTML = docLinkHtml;\n",
              "          element.appendChild(docLink);\n",
              "        }\n",
              "      </script>\n",
              "    </div>\n",
              "  </div>\n",
              "  "
            ],
            "text/plain": [
              "              TransactionId         BatchId       AccountId  \\\n",
              "0       TransactionId_50600   BatchId_35028  AccountId_2441   \n",
              "1       TransactionId_95109   BatchId_45139  AccountId_3439   \n",
              "2       TransactionId_47357   BatchId_74887  AccountId_4841   \n",
              "3       TransactionId_28185   BatchId_11025  AccountId_2685   \n",
              "4       TransactionId_22140   BatchId_29804  AccountId_4841   \n",
              "...                     ...             ...             ...   \n",
              "45014  TransactionId_116198  BatchId_117348  AccountId_4841   \n",
              "45015   TransactionId_24829   BatchId_53630  AccountId_4803   \n",
              "45016  TransactionId_102920  BatchId_112209  AccountId_4817   \n",
              "45017  TransactionId_128439   BatchId_58734  AccountId_4841   \n",
              "45018   TransactionId_45927   BatchId_98308  AccountId_4593   \n",
              "\n",
              "            SubscriptionId       CustomerId CurrencyCode  CountryCode  \\\n",
              "0      SubscriptionId_4426  CustomerId_2857          UGX          256   \n",
              "1      SubscriptionId_2643  CustomerId_3874          UGX          256   \n",
              "2      SubscriptionId_3829  CustomerId_2857          UGX          256   \n",
              "3      SubscriptionId_4626  CustomerId_3105          UGX          256   \n",
              "4      SubscriptionId_3829  CustomerId_3105          UGX          256   \n",
              "...                    ...              ...          ...          ...   \n",
              "45014  SubscriptionId_3829  CustomerId_5225          UGX          256   \n",
              "45015  SubscriptionId_1738  CustomerId_5272          UGX          256   \n",
              "45016  SubscriptionId_4613  CustomerId_5286          UGX          256   \n",
              "45017  SubscriptionId_3829  CustomerId_5286          UGX          256   \n",
              "45018  SubscriptionId_3866  CustomerId_5057          UGX          256   \n",
              "\n",
              "         ProviderId     ProductId     ProductCategory    ChannelId   Amount  \\\n",
              "0      ProviderId_5   ProductId_3             airtime  ChannelId_3   1000.0   \n",
              "1      ProviderId_5  ProductId_15  financial_services  ChannelId_3   2000.0   \n",
              "2      ProviderId_4   ProductId_6  financial_services  ChannelId_2    -50.0   \n",
              "3      ProviderId_5  ProductId_10             airtime  ChannelId_3   3000.0   \n",
              "4      ProviderId_4   ProductId_6  financial_services  ChannelId_2    -60.0   \n",
              "...             ...           ...                 ...          ...      ...   \n",
              "45014  ProviderId_4   ProductId_6  financial_services  ChannelId_3  -5000.0   \n",
              "45015  ProviderId_3  ProductId_10             airtime  ChannelId_3  10000.0   \n",
              "45016  ProviderId_3  ProductId_10             airtime  ChannelId_3  10000.0   \n",
              "45017  ProviderId_4   ProductId_6  financial_services  ChannelId_3  -5000.0   \n",
              "45018  ProviderId_5   ProductId_3             airtime  ChannelId_3   3500.0   \n",
              "\n",
              "       Value  TransactionStartTime  PricingStrategy  \n",
              "0       1000  2019-02-13T10:01:40Z                4  \n",
              "1       2000  2019-02-13T10:02:12Z                2  \n",
              "2         50  2019-02-13T10:02:30Z                2  \n",
              "3       3000  2019-02-13T10:02:38Z                4  \n",
              "4         60  2019-02-13T10:02:58Z                2  \n",
              "...      ...                   ...              ...  \n",
              "45014   5000  2019-03-14T23:56:28Z                2  \n",
              "45015  10000  2019-03-14T23:57:38Z                1  \n",
              "45016  10000  2019-03-14T23:59:17Z                1  \n",
              "45017   5000  2019-03-14T23:59:39Z                2  \n",
              "45018   3500  2019-03-14T23:59:51Z                4  \n",
              "\n",
              "[45019 rows x 15 columns]"
            ]
          },
          "execution_count": 122,
          "metadata": {},
          "output_type": "execute_result"
        }
      ],
      "source": [
        "test = pd.read_csv('/content/drive/MyDrive/Datasets/test.csv')\n",
        "test"
      ]
    },
    {
      "cell_type": "code",
      "execution_count": null,
      "metadata": {
        "colab": {
          "background_save": true
        },
        "id": "UX0BWkqAL1q8"
      },
      "outputs": [],
      "source": [
        "\n",
        "#converting the transaction start time column to datetime\n",
        "test['TransactionStartTime'] = pd.to_datetime(test['TransactionStartTime'])"
      ]
    },
    {
      "cell_type": "code",
      "execution_count": null,
      "metadata": {
        "colab": {
          "background_save": true
        },
        "id": "wjnS1GhyMFrF"
      },
      "outputs": [],
      "source": [
        "test['Month'] = test['TransactionStartTime'].dt.month"
      ]
    },
    {
      "cell_type": "code",
      "execution_count": null,
      "metadata": {
        "colab": {
          "background_save": true
        },
        "id": "Y8b3H1LBMGVB"
      },
      "outputs": [],
      "source": [
        "test['Year'] = test['TransactionStartTime'].dt.year"
      ]
    },
    {
      "cell_type": "code",
      "execution_count": null,
      "metadata": {
        "colab": {
          "background_save": true
        },
        "id": "LlKftQV2MHXD"
      },
      "outputs": [],
      "source": [
        "test['Day'] = test['TransactionStartTime'].dt.day"
      ]
    },
    {
      "cell_type": "code",
      "execution_count": null,
      "metadata": {
        "colab": {
          "background_save": true,
          "base_uri": "https://localhost:8080/",
          "height": 661
        },
        "id": "dUc3R6YJMstD",
        "outputId": "c00d6de3-2227-460d-94a3-bee81f18ca99"
      },
      "outputs": [
        {
          "data": {
            "text/html": [
              "\n",
              "  <div id=\"df-c3d18d33-1de4-4ad0-9c4f-41eac2a757f5\">\n",
              "    <div class=\"colab-df-container\">\n",
              "      <div>\n",
              "<style scoped>\n",
              "    .dataframe tbody tr th:only-of-type {\n",
              "        vertical-align: middle;\n",
              "    }\n",
              "\n",
              "    .dataframe tbody tr th {\n",
              "        vertical-align: top;\n",
              "    }\n",
              "\n",
              "    .dataframe thead th {\n",
              "        text-align: right;\n",
              "    }\n",
              "</style>\n",
              "<table border=\"1\" class=\"dataframe\">\n",
              "  <thead>\n",
              "    <tr style=\"text-align: right;\">\n",
              "      <th></th>\n",
              "      <th>TransactionId</th>\n",
              "      <th>BatchId</th>\n",
              "      <th>AccountId</th>\n",
              "      <th>SubscriptionId</th>\n",
              "      <th>CustomerId</th>\n",
              "      <th>CurrencyCode</th>\n",
              "      <th>CountryCode</th>\n",
              "      <th>ProviderId</th>\n",
              "      <th>ProductId</th>\n",
              "      <th>ProductCategory</th>\n",
              "      <th>ChannelId</th>\n",
              "      <th>Amount</th>\n",
              "      <th>Value</th>\n",
              "      <th>TransactionStartTime</th>\n",
              "      <th>PricingStrategy</th>\n",
              "      <th>Month</th>\n",
              "      <th>Year</th>\n",
              "      <th>Day</th>\n",
              "    </tr>\n",
              "  </thead>\n",
              "  <tbody>\n",
              "    <tr>\n",
              "      <th>0</th>\n",
              "      <td>TransactionId_50600</td>\n",
              "      <td>BatchId_35028</td>\n",
              "      <td>AccountId_2441</td>\n",
              "      <td>SubscriptionId_4426</td>\n",
              "      <td>CustomerId_2857</td>\n",
              "      <td>UGX</td>\n",
              "      <td>256</td>\n",
              "      <td>ProviderId_5</td>\n",
              "      <td>ProductId_3</td>\n",
              "      <td>airtime</td>\n",
              "      <td>ChannelId_3</td>\n",
              "      <td>1000.0</td>\n",
              "      <td>1000</td>\n",
              "      <td>2019-02-13 10:01:40+00:00</td>\n",
              "      <td>4</td>\n",
              "      <td>2</td>\n",
              "      <td>2019</td>\n",
              "      <td>13</td>\n",
              "    </tr>\n",
              "    <tr>\n",
              "      <th>1</th>\n",
              "      <td>TransactionId_95109</td>\n",
              "      <td>BatchId_45139</td>\n",
              "      <td>AccountId_3439</td>\n",
              "      <td>SubscriptionId_2643</td>\n",
              "      <td>CustomerId_3874</td>\n",
              "      <td>UGX</td>\n",
              "      <td>256</td>\n",
              "      <td>ProviderId_5</td>\n",
              "      <td>ProductId_15</td>\n",
              "      <td>financial_services</td>\n",
              "      <td>ChannelId_3</td>\n",
              "      <td>2000.0</td>\n",
              "      <td>2000</td>\n",
              "      <td>2019-02-13 10:02:12+00:00</td>\n",
              "      <td>2</td>\n",
              "      <td>2</td>\n",
              "      <td>2019</td>\n",
              "      <td>13</td>\n",
              "    </tr>\n",
              "    <tr>\n",
              "      <th>2</th>\n",
              "      <td>TransactionId_47357</td>\n",
              "      <td>BatchId_74887</td>\n",
              "      <td>AccountId_4841</td>\n",
              "      <td>SubscriptionId_3829</td>\n",
              "      <td>CustomerId_2857</td>\n",
              "      <td>UGX</td>\n",
              "      <td>256</td>\n",
              "      <td>ProviderId_4</td>\n",
              "      <td>ProductId_6</td>\n",
              "      <td>financial_services</td>\n",
              "      <td>ChannelId_2</td>\n",
              "      <td>-50.0</td>\n",
              "      <td>50</td>\n",
              "      <td>2019-02-13 10:02:30+00:00</td>\n",
              "      <td>2</td>\n",
              "      <td>2</td>\n",
              "      <td>2019</td>\n",
              "      <td>13</td>\n",
              "    </tr>\n",
              "    <tr>\n",
              "      <th>3</th>\n",
              "      <td>TransactionId_28185</td>\n",
              "      <td>BatchId_11025</td>\n",
              "      <td>AccountId_2685</td>\n",
              "      <td>SubscriptionId_4626</td>\n",
              "      <td>CustomerId_3105</td>\n",
              "      <td>UGX</td>\n",
              "      <td>256</td>\n",
              "      <td>ProviderId_5</td>\n",
              "      <td>ProductId_10</td>\n",
              "      <td>airtime</td>\n",
              "      <td>ChannelId_3</td>\n",
              "      <td>3000.0</td>\n",
              "      <td>3000</td>\n",
              "      <td>2019-02-13 10:02:38+00:00</td>\n",
              "      <td>4</td>\n",
              "      <td>2</td>\n",
              "      <td>2019</td>\n",
              "      <td>13</td>\n",
              "    </tr>\n",
              "    <tr>\n",
              "      <th>4</th>\n",
              "      <td>TransactionId_22140</td>\n",
              "      <td>BatchId_29804</td>\n",
              "      <td>AccountId_4841</td>\n",
              "      <td>SubscriptionId_3829</td>\n",
              "      <td>CustomerId_3105</td>\n",
              "      <td>UGX</td>\n",
              "      <td>256</td>\n",
              "      <td>ProviderId_4</td>\n",
              "      <td>ProductId_6</td>\n",
              "      <td>financial_services</td>\n",
              "      <td>ChannelId_2</td>\n",
              "      <td>-60.0</td>\n",
              "      <td>60</td>\n",
              "      <td>2019-02-13 10:02:58+00:00</td>\n",
              "      <td>2</td>\n",
              "      <td>2</td>\n",
              "      <td>2019</td>\n",
              "      <td>13</td>\n",
              "    </tr>\n",
              "    <tr>\n",
              "      <th>...</th>\n",
              "      <td>...</td>\n",
              "      <td>...</td>\n",
              "      <td>...</td>\n",
              "      <td>...</td>\n",
              "      <td>...</td>\n",
              "      <td>...</td>\n",
              "      <td>...</td>\n",
              "      <td>...</td>\n",
              "      <td>...</td>\n",
              "      <td>...</td>\n",
              "      <td>...</td>\n",
              "      <td>...</td>\n",
              "      <td>...</td>\n",
              "      <td>...</td>\n",
              "      <td>...</td>\n",
              "      <td>...</td>\n",
              "      <td>...</td>\n",
              "      <td>...</td>\n",
              "    </tr>\n",
              "    <tr>\n",
              "      <th>45014</th>\n",
              "      <td>TransactionId_116198</td>\n",
              "      <td>BatchId_117348</td>\n",
              "      <td>AccountId_4841</td>\n",
              "      <td>SubscriptionId_3829</td>\n",
              "      <td>CustomerId_5225</td>\n",
              "      <td>UGX</td>\n",
              "      <td>256</td>\n",
              "      <td>ProviderId_4</td>\n",
              "      <td>ProductId_6</td>\n",
              "      <td>financial_services</td>\n",
              "      <td>ChannelId_3</td>\n",
              "      <td>-5000.0</td>\n",
              "      <td>5000</td>\n",
              "      <td>2019-03-14 23:56:28+00:00</td>\n",
              "      <td>2</td>\n",
              "      <td>3</td>\n",
              "      <td>2019</td>\n",
              "      <td>14</td>\n",
              "    </tr>\n",
              "    <tr>\n",
              "      <th>45015</th>\n",
              "      <td>TransactionId_24829</td>\n",
              "      <td>BatchId_53630</td>\n",
              "      <td>AccountId_4803</td>\n",
              "      <td>SubscriptionId_1738</td>\n",
              "      <td>CustomerId_5272</td>\n",
              "      <td>UGX</td>\n",
              "      <td>256</td>\n",
              "      <td>ProviderId_3</td>\n",
              "      <td>ProductId_10</td>\n",
              "      <td>airtime</td>\n",
              "      <td>ChannelId_3</td>\n",
              "      <td>10000.0</td>\n",
              "      <td>10000</td>\n",
              "      <td>2019-03-14 23:57:38+00:00</td>\n",
              "      <td>1</td>\n",
              "      <td>3</td>\n",
              "      <td>2019</td>\n",
              "      <td>14</td>\n",
              "    </tr>\n",
              "    <tr>\n",
              "      <th>45016</th>\n",
              "      <td>TransactionId_102920</td>\n",
              "      <td>BatchId_112209</td>\n",
              "      <td>AccountId_4817</td>\n",
              "      <td>SubscriptionId_4613</td>\n",
              "      <td>CustomerId_5286</td>\n",
              "      <td>UGX</td>\n",
              "      <td>256</td>\n",
              "      <td>ProviderId_3</td>\n",
              "      <td>ProductId_10</td>\n",
              "      <td>airtime</td>\n",
              "      <td>ChannelId_3</td>\n",
              "      <td>10000.0</td>\n",
              "      <td>10000</td>\n",
              "      <td>2019-03-14 23:59:17+00:00</td>\n",
              "      <td>1</td>\n",
              "      <td>3</td>\n",
              "      <td>2019</td>\n",
              "      <td>14</td>\n",
              "    </tr>\n",
              "    <tr>\n",
              "      <th>45017</th>\n",
              "      <td>TransactionId_128439</td>\n",
              "      <td>BatchId_58734</td>\n",
              "      <td>AccountId_4841</td>\n",
              "      <td>SubscriptionId_3829</td>\n",
              "      <td>CustomerId_5286</td>\n",
              "      <td>UGX</td>\n",
              "      <td>256</td>\n",
              "      <td>ProviderId_4</td>\n",
              "      <td>ProductId_6</td>\n",
              "      <td>financial_services</td>\n",
              "      <td>ChannelId_3</td>\n",
              "      <td>-5000.0</td>\n",
              "      <td>5000</td>\n",
              "      <td>2019-03-14 23:59:39+00:00</td>\n",
              "      <td>2</td>\n",
              "      <td>3</td>\n",
              "      <td>2019</td>\n",
              "      <td>14</td>\n",
              "    </tr>\n",
              "    <tr>\n",
              "      <th>45018</th>\n",
              "      <td>TransactionId_45927</td>\n",
              "      <td>BatchId_98308</td>\n",
              "      <td>AccountId_4593</td>\n",
              "      <td>SubscriptionId_3866</td>\n",
              "      <td>CustomerId_5057</td>\n",
              "      <td>UGX</td>\n",
              "      <td>256</td>\n",
              "      <td>ProviderId_5</td>\n",
              "      <td>ProductId_3</td>\n",
              "      <td>airtime</td>\n",
              "      <td>ChannelId_3</td>\n",
              "      <td>3500.0</td>\n",
              "      <td>3500</td>\n",
              "      <td>2019-03-14 23:59:51+00:00</td>\n",
              "      <td>4</td>\n",
              "      <td>3</td>\n",
              "      <td>2019</td>\n",
              "      <td>14</td>\n",
              "    </tr>\n",
              "  </tbody>\n",
              "</table>\n",
              "<p>45019 rows × 18 columns</p>\n",
              "</div>\n",
              "      <button class=\"colab-df-convert\" onclick=\"convertToInteractive('df-c3d18d33-1de4-4ad0-9c4f-41eac2a757f5')\"\n",
              "              title=\"Convert this dataframe to an interactive table.\"\n",
              "              style=\"display:none;\">\n",
              "        \n",
              "  <svg xmlns=\"http://www.w3.org/2000/svg\" height=\"24px\"viewBox=\"0 0 24 24\"\n",
              "       width=\"24px\">\n",
              "    <path d=\"M0 0h24v24H0V0z\" fill=\"none\"/>\n",
              "    <path d=\"M18.56 5.44l.94 2.06.94-2.06 2.06-.94-2.06-.94-.94-2.06-.94 2.06-2.06.94zm-11 1L8.5 8.5l.94-2.06 2.06-.94-2.06-.94L8.5 2.5l-.94 2.06-2.06.94zm10 10l.94 2.06.94-2.06 2.06-.94-2.06-.94-.94-2.06-.94 2.06-2.06.94z\"/><path d=\"M17.41 7.96l-1.37-1.37c-.4-.4-.92-.59-1.43-.59-.52 0-1.04.2-1.43.59L10.3 9.45l-7.72 7.72c-.78.78-.78 2.05 0 2.83L4 21.41c.39.39.9.59 1.41.59.51 0 1.02-.2 1.41-.59l7.78-7.78 2.81-2.81c.8-.78.8-2.07 0-2.86zM5.41 20L4 18.59l7.72-7.72 1.47 1.35L5.41 20z\"/>\n",
              "  </svg>\n",
              "      </button>\n",
              "      \n",
              "  <style>\n",
              "    .colab-df-container {\n",
              "      display:flex;\n",
              "      flex-wrap:wrap;\n",
              "      gap: 12px;\n",
              "    }\n",
              "\n",
              "    .colab-df-convert {\n",
              "      background-color: #E8F0FE;\n",
              "      border: none;\n",
              "      border-radius: 50%;\n",
              "      cursor: pointer;\n",
              "      display: none;\n",
              "      fill: #1967D2;\n",
              "      height: 32px;\n",
              "      padding: 0 0 0 0;\n",
              "      width: 32px;\n",
              "    }\n",
              "\n",
              "    .colab-df-convert:hover {\n",
              "      background-color: #E2EBFA;\n",
              "      box-shadow: 0px 1px 2px rgba(60, 64, 67, 0.3), 0px 1px 3px 1px rgba(60, 64, 67, 0.15);\n",
              "      fill: #174EA6;\n",
              "    }\n",
              "\n",
              "    [theme=dark] .colab-df-convert {\n",
              "      background-color: #3B4455;\n",
              "      fill: #D2E3FC;\n",
              "    }\n",
              "\n",
              "    [theme=dark] .colab-df-convert:hover {\n",
              "      background-color: #434B5C;\n",
              "      box-shadow: 0px 1px 3px 1px rgba(0, 0, 0, 0.15);\n",
              "      filter: drop-shadow(0px 1px 2px rgba(0, 0, 0, 0.3));\n",
              "      fill: #FFFFFF;\n",
              "    }\n",
              "  </style>\n",
              "\n",
              "      <script>\n",
              "        const buttonEl =\n",
              "          document.querySelector('#df-c3d18d33-1de4-4ad0-9c4f-41eac2a757f5 button.colab-df-convert');\n",
              "        buttonEl.style.display =\n",
              "          google.colab.kernel.accessAllowed ? 'block' : 'none';\n",
              "\n",
              "        async function convertToInteractive(key) {\n",
              "          const element = document.querySelector('#df-c3d18d33-1de4-4ad0-9c4f-41eac2a757f5');\n",
              "          const dataTable =\n",
              "            await google.colab.kernel.invokeFunction('convertToInteractive',\n",
              "                                                     [key], {});\n",
              "          if (!dataTable) return;\n",
              "\n",
              "          const docLinkHtml = 'Like what you see? Visit the ' +\n",
              "            '<a target=\"_blank\" href=https://colab.research.google.com/notebooks/data_table.ipynb>data table notebook</a>'\n",
              "            + ' to learn more about interactive tables.';\n",
              "          element.innerHTML = '';\n",
              "          dataTable['output_type'] = 'display_data';\n",
              "          await google.colab.output.renderOutput(dataTable, element);\n",
              "          const docLink = document.createElement('div');\n",
              "          docLink.innerHTML = docLinkHtml;\n",
              "          element.appendChild(docLink);\n",
              "        }\n",
              "      </script>\n",
              "    </div>\n",
              "  </div>\n",
              "  "
            ],
            "text/plain": [
              "              TransactionId         BatchId       AccountId  \\\n",
              "0       TransactionId_50600   BatchId_35028  AccountId_2441   \n",
              "1       TransactionId_95109   BatchId_45139  AccountId_3439   \n",
              "2       TransactionId_47357   BatchId_74887  AccountId_4841   \n",
              "3       TransactionId_28185   BatchId_11025  AccountId_2685   \n",
              "4       TransactionId_22140   BatchId_29804  AccountId_4841   \n",
              "...                     ...             ...             ...   \n",
              "45014  TransactionId_116198  BatchId_117348  AccountId_4841   \n",
              "45015   TransactionId_24829   BatchId_53630  AccountId_4803   \n",
              "45016  TransactionId_102920  BatchId_112209  AccountId_4817   \n",
              "45017  TransactionId_128439   BatchId_58734  AccountId_4841   \n",
              "45018   TransactionId_45927   BatchId_98308  AccountId_4593   \n",
              "\n",
              "            SubscriptionId       CustomerId CurrencyCode  CountryCode  \\\n",
              "0      SubscriptionId_4426  CustomerId_2857          UGX          256   \n",
              "1      SubscriptionId_2643  CustomerId_3874          UGX          256   \n",
              "2      SubscriptionId_3829  CustomerId_2857          UGX          256   \n",
              "3      SubscriptionId_4626  CustomerId_3105          UGX          256   \n",
              "4      SubscriptionId_3829  CustomerId_3105          UGX          256   \n",
              "...                    ...              ...          ...          ...   \n",
              "45014  SubscriptionId_3829  CustomerId_5225          UGX          256   \n",
              "45015  SubscriptionId_1738  CustomerId_5272          UGX          256   \n",
              "45016  SubscriptionId_4613  CustomerId_5286          UGX          256   \n",
              "45017  SubscriptionId_3829  CustomerId_5286          UGX          256   \n",
              "45018  SubscriptionId_3866  CustomerId_5057          UGX          256   \n",
              "\n",
              "         ProviderId     ProductId     ProductCategory    ChannelId   Amount  \\\n",
              "0      ProviderId_5   ProductId_3             airtime  ChannelId_3   1000.0   \n",
              "1      ProviderId_5  ProductId_15  financial_services  ChannelId_3   2000.0   \n",
              "2      ProviderId_4   ProductId_6  financial_services  ChannelId_2    -50.0   \n",
              "3      ProviderId_5  ProductId_10             airtime  ChannelId_3   3000.0   \n",
              "4      ProviderId_4   ProductId_6  financial_services  ChannelId_2    -60.0   \n",
              "...             ...           ...                 ...          ...      ...   \n",
              "45014  ProviderId_4   ProductId_6  financial_services  ChannelId_3  -5000.0   \n",
              "45015  ProviderId_3  ProductId_10             airtime  ChannelId_3  10000.0   \n",
              "45016  ProviderId_3  ProductId_10             airtime  ChannelId_3  10000.0   \n",
              "45017  ProviderId_4   ProductId_6  financial_services  ChannelId_3  -5000.0   \n",
              "45018  ProviderId_5   ProductId_3             airtime  ChannelId_3   3500.0   \n",
              "\n",
              "       Value      TransactionStartTime  PricingStrategy  Month  Year  Day  \n",
              "0       1000 2019-02-13 10:01:40+00:00                4      2  2019   13  \n",
              "1       2000 2019-02-13 10:02:12+00:00                2      2  2019   13  \n",
              "2         50 2019-02-13 10:02:30+00:00                2      2  2019   13  \n",
              "3       3000 2019-02-13 10:02:38+00:00                4      2  2019   13  \n",
              "4         60 2019-02-13 10:02:58+00:00                2      2  2019   13  \n",
              "...      ...                       ...              ...    ...   ...  ...  \n",
              "45014   5000 2019-03-14 23:56:28+00:00                2      3  2019   14  \n",
              "45015  10000 2019-03-14 23:57:38+00:00                1      3  2019   14  \n",
              "45016  10000 2019-03-14 23:59:17+00:00                1      3  2019   14  \n",
              "45017   5000 2019-03-14 23:59:39+00:00                2      3  2019   14  \n",
              "45018   3500 2019-03-14 23:59:51+00:00                4      3  2019   14  \n",
              "\n",
              "[45019 rows x 18 columns]"
            ]
          },
          "execution_count": 127,
          "metadata": {},
          "output_type": "execute_result"
        }
      ],
      "source": [
        "test"
      ]
    },
    {
      "cell_type": "code",
      "execution_count": null,
      "metadata": {
        "colab": {
          "background_save": true,
          "base_uri": "https://localhost:8080/"
        },
        "id": "iT-Qk8vgPUMx",
        "outputId": "0009d4ae-9592-4ed1-95a3-62ce2d81adc2"
      },
      "outputs": [
        {
          "name": "stdout",
          "output_type": "stream",
          "text": [
            "ProviderId_4    18256\n",
            "ProviderId_6    15821\n",
            "ProviderId_5     6977\n",
            "ProviderId_1     2391\n",
            "ProviderId_3     1568\n",
            "ProviderId_2        6\n",
            "Name: ProviderId, dtype: int64\n",
            "financial_services    21700\n",
            "airtime               20923\n",
            "data_bundles            914\n",
            "utility_bill            740\n",
            "tv                      459\n",
            "retail                  184\n",
            "movies                   78\n",
            "ticket                   16\n",
            "transport                 5\n",
            "Name: ProductCategory, dtype: int64\n",
            "ChannelId_3    38090\n",
            "ChannelId_2     6198\n",
            "ChannelId_5      602\n",
            "ChannelId_1      102\n",
            "ChannelId_4       27\n",
            "Name: ChannelId, dtype: int64\n",
            "ProductId_6     15186\n",
            "ProductId_3     10310\n",
            "ProductId_10     8482\n",
            "ProductId_15     6007\n",
            "ProductId_1      1212\n",
            "ProductId_4       875\n",
            "ProductId_11      867\n",
            "ProductId_21      566\n",
            "ProductId_14      473\n",
            "ProductId_19      334\n",
            "ProductId_26      184\n",
            "ProductId_13      105\n",
            "ProductId_24       78\n",
            "ProductId_8        74\n",
            "ProductId_22       69\n",
            "ProductId_7        42\n",
            "ProductId_2        41\n",
            "ProductId_16       35\n",
            "ProductId_25       31\n",
            "ProductId_20       16\n",
            "ProductId_27        9\n",
            "ProductId_18        7\n",
            "ProductId_17        6\n",
            "ProductId_5         5\n",
            "ProductId_9         3\n",
            "ProductId_23        2\n",
            "Name: ProductId, dtype: int64\n"
          ]
        }
      ],
      "source": [
        "cat_cols\n",
        "for col in cat_cols:\n",
        "    print(test[col].value_counts())"
      ]
    },
    {
      "cell_type": "code",
      "execution_count": null,
      "metadata": {
        "colab": {
          "background_save": true
        },
        "id": "v7RjcWSMQQAF"
      },
      "outputs": [],
      "source": [
        "\n",
        "for cat_col in cat_cols:\n",
        "  test[cat_col] = le.fit_transform(test[cat_col])"
      ]
    },
    {
      "cell_type": "code",
      "execution_count": null,
      "metadata": {
        "colab": {
          "background_save": true,
          "base_uri": "https://localhost:8080/"
        },
        "id": "7um8Xdo9QZnD",
        "outputId": "02f2b139-86de-4ead-8beb-a0011066d8bf"
      },
      "outputs": [
        {
          "name": "stdout",
          "output_type": "stream",
          "text": [
            "3    18256\n",
            "5    15821\n",
            "4     6977\n",
            "0     2391\n",
            "2     1568\n",
            "1        6\n",
            "Name: ProviderId, dtype: int64\n",
            "2    21700\n",
            "0    20923\n",
            "1      914\n",
            "8      740\n",
            "7      459\n",
            "4      184\n",
            "3       78\n",
            "5       16\n",
            "6        5\n",
            "Name: ProductCategory, dtype: int64\n",
            "2    38090\n",
            "1     6198\n",
            "4      602\n",
            "0      102\n",
            "3       27\n",
            "Name: ChannelId, dtype: int64\n",
            "22    15186\n",
            "19    10310\n",
            "1      8482\n",
            "5      6007\n",
            "0      1212\n",
            "20      875\n",
            "2       867\n",
            "12      566\n",
            "4       473\n",
            "9       334\n",
            "17      184\n",
            "3       105\n",
            "15       78\n",
            "24       74\n",
            "13       69\n",
            "23       42\n",
            "10       41\n",
            "6        35\n",
            "16       31\n",
            "11       16\n",
            "18        9\n",
            "8         7\n",
            "7         6\n",
            "21        5\n",
            "25        3\n",
            "14        2\n",
            "Name: ProductId, dtype: int64\n"
          ]
        }
      ],
      "source": [
        "for col in cat_cols:\n",
        "    print(test[col].value_counts())"
      ]
    },
    {
      "cell_type": "code",
      "execution_count": null,
      "metadata": {
        "colab": {
          "background_save": true,
          "base_uri": "https://localhost:8080/"
        },
        "id": "knW2gpvuVGhg",
        "outputId": "30a9a095-6308-4cd9-89ba-73f078082e28"
      },
      "outputs": [
        {
          "data": {
            "text/plain": [
              "0        1\n",
              "1        1\n",
              "2        0\n",
              "3        1\n",
              "4        0\n",
              "        ..\n",
              "45014    0\n",
              "45015    1\n",
              "45016    1\n",
              "45017    0\n",
              "45018    1\n",
              "Name: Credit, Length: 45019, dtype: int64"
            ]
          },
          "execution_count": 131,
          "metadata": {},
          "output_type": "execute_result"
        }
      ],
      "source": [
        "test['Credit'] = test['Amount'].apply(credit)\n",
        "test['Credit']"
      ]
    },
    {
      "cell_type": "code",
      "execution_count": null,
      "metadata": {
        "colab": {
          "background_save": true,
          "base_uri": "https://localhost:8080/",
          "height": 424
        },
        "id": "IkwQ2heEWAK4",
        "outputId": "e9e24ff3-fba5-4e79-8745-893a59b9def3"
      },
      "outputs": [
        {
          "data": {
            "text/html": [
              "\n",
              "  <div id=\"df-0643dd8a-1b47-4ec9-94f3-5e55f928afbd\">\n",
              "    <div class=\"colab-df-container\">\n",
              "      <div>\n",
              "<style scoped>\n",
              "    .dataframe tbody tr th:only-of-type {\n",
              "        vertical-align: middle;\n",
              "    }\n",
              "\n",
              "    .dataframe tbody tr th {\n",
              "        vertical-align: top;\n",
              "    }\n",
              "\n",
              "    .dataframe thead th {\n",
              "        text-align: right;\n",
              "    }\n",
              "</style>\n",
              "<table border=\"1\" class=\"dataframe\">\n",
              "  <thead>\n",
              "    <tr style=\"text-align: right;\">\n",
              "      <th></th>\n",
              "      <th>ProviderId</th>\n",
              "      <th>ProductId</th>\n",
              "      <th>ProductCategory</th>\n",
              "      <th>ChannelId</th>\n",
              "      <th>Value</th>\n",
              "      <th>PricingStrategy</th>\n",
              "      <th>Month</th>\n",
              "      <th>Year</th>\n",
              "      <th>Day</th>\n",
              "      <th>Credit</th>\n",
              "    </tr>\n",
              "  </thead>\n",
              "  <tbody>\n",
              "    <tr>\n",
              "      <th>0</th>\n",
              "      <td>4</td>\n",
              "      <td>19</td>\n",
              "      <td>0</td>\n",
              "      <td>2</td>\n",
              "      <td>1000</td>\n",
              "      <td>4</td>\n",
              "      <td>2</td>\n",
              "      <td>2019</td>\n",
              "      <td>13</td>\n",
              "      <td>1</td>\n",
              "    </tr>\n",
              "    <tr>\n",
              "      <th>1</th>\n",
              "      <td>4</td>\n",
              "      <td>5</td>\n",
              "      <td>2</td>\n",
              "      <td>2</td>\n",
              "      <td>2000</td>\n",
              "      <td>2</td>\n",
              "      <td>2</td>\n",
              "      <td>2019</td>\n",
              "      <td>13</td>\n",
              "      <td>1</td>\n",
              "    </tr>\n",
              "    <tr>\n",
              "      <th>2</th>\n",
              "      <td>3</td>\n",
              "      <td>22</td>\n",
              "      <td>2</td>\n",
              "      <td>1</td>\n",
              "      <td>50</td>\n",
              "      <td>2</td>\n",
              "      <td>2</td>\n",
              "      <td>2019</td>\n",
              "      <td>13</td>\n",
              "      <td>0</td>\n",
              "    </tr>\n",
              "    <tr>\n",
              "      <th>3</th>\n",
              "      <td>4</td>\n",
              "      <td>1</td>\n",
              "      <td>0</td>\n",
              "      <td>2</td>\n",
              "      <td>3000</td>\n",
              "      <td>4</td>\n",
              "      <td>2</td>\n",
              "      <td>2019</td>\n",
              "      <td>13</td>\n",
              "      <td>1</td>\n",
              "    </tr>\n",
              "    <tr>\n",
              "      <th>4</th>\n",
              "      <td>3</td>\n",
              "      <td>22</td>\n",
              "      <td>2</td>\n",
              "      <td>1</td>\n",
              "      <td>60</td>\n",
              "      <td>2</td>\n",
              "      <td>2</td>\n",
              "      <td>2019</td>\n",
              "      <td>13</td>\n",
              "      <td>0</td>\n",
              "    </tr>\n",
              "    <tr>\n",
              "      <th>...</th>\n",
              "      <td>...</td>\n",
              "      <td>...</td>\n",
              "      <td>...</td>\n",
              "      <td>...</td>\n",
              "      <td>...</td>\n",
              "      <td>...</td>\n",
              "      <td>...</td>\n",
              "      <td>...</td>\n",
              "      <td>...</td>\n",
              "      <td>...</td>\n",
              "    </tr>\n",
              "    <tr>\n",
              "      <th>45014</th>\n",
              "      <td>3</td>\n",
              "      <td>22</td>\n",
              "      <td>2</td>\n",
              "      <td>2</td>\n",
              "      <td>5000</td>\n",
              "      <td>2</td>\n",
              "      <td>3</td>\n",
              "      <td>2019</td>\n",
              "      <td>14</td>\n",
              "      <td>0</td>\n",
              "    </tr>\n",
              "    <tr>\n",
              "      <th>45015</th>\n",
              "      <td>2</td>\n",
              "      <td>1</td>\n",
              "      <td>0</td>\n",
              "      <td>2</td>\n",
              "      <td>10000</td>\n",
              "      <td>1</td>\n",
              "      <td>3</td>\n",
              "      <td>2019</td>\n",
              "      <td>14</td>\n",
              "      <td>1</td>\n",
              "    </tr>\n",
              "    <tr>\n",
              "      <th>45016</th>\n",
              "      <td>2</td>\n",
              "      <td>1</td>\n",
              "      <td>0</td>\n",
              "      <td>2</td>\n",
              "      <td>10000</td>\n",
              "      <td>1</td>\n",
              "      <td>3</td>\n",
              "      <td>2019</td>\n",
              "      <td>14</td>\n",
              "      <td>1</td>\n",
              "    </tr>\n",
              "    <tr>\n",
              "      <th>45017</th>\n",
              "      <td>3</td>\n",
              "      <td>22</td>\n",
              "      <td>2</td>\n",
              "      <td>2</td>\n",
              "      <td>5000</td>\n",
              "      <td>2</td>\n",
              "      <td>3</td>\n",
              "      <td>2019</td>\n",
              "      <td>14</td>\n",
              "      <td>0</td>\n",
              "    </tr>\n",
              "    <tr>\n",
              "      <th>45018</th>\n",
              "      <td>4</td>\n",
              "      <td>19</td>\n",
              "      <td>0</td>\n",
              "      <td>2</td>\n",
              "      <td>3500</td>\n",
              "      <td>4</td>\n",
              "      <td>3</td>\n",
              "      <td>2019</td>\n",
              "      <td>14</td>\n",
              "      <td>1</td>\n",
              "    </tr>\n",
              "  </tbody>\n",
              "</table>\n",
              "<p>45019 rows × 10 columns</p>\n",
              "</div>\n",
              "      <button class=\"colab-df-convert\" onclick=\"convertToInteractive('df-0643dd8a-1b47-4ec9-94f3-5e55f928afbd')\"\n",
              "              title=\"Convert this dataframe to an interactive table.\"\n",
              "              style=\"display:none;\">\n",
              "        \n",
              "  <svg xmlns=\"http://www.w3.org/2000/svg\" height=\"24px\"viewBox=\"0 0 24 24\"\n",
              "       width=\"24px\">\n",
              "    <path d=\"M0 0h24v24H0V0z\" fill=\"none\"/>\n",
              "    <path d=\"M18.56 5.44l.94 2.06.94-2.06 2.06-.94-2.06-.94-.94-2.06-.94 2.06-2.06.94zm-11 1L8.5 8.5l.94-2.06 2.06-.94-2.06-.94L8.5 2.5l-.94 2.06-2.06.94zm10 10l.94 2.06.94-2.06 2.06-.94-2.06-.94-.94-2.06-.94 2.06-2.06.94z\"/><path d=\"M17.41 7.96l-1.37-1.37c-.4-.4-.92-.59-1.43-.59-.52 0-1.04.2-1.43.59L10.3 9.45l-7.72 7.72c-.78.78-.78 2.05 0 2.83L4 21.41c.39.39.9.59 1.41.59.51 0 1.02-.2 1.41-.59l7.78-7.78 2.81-2.81c.8-.78.8-2.07 0-2.86zM5.41 20L4 18.59l7.72-7.72 1.47 1.35L5.41 20z\"/>\n",
              "  </svg>\n",
              "      </button>\n",
              "      \n",
              "  <style>\n",
              "    .colab-df-container {\n",
              "      display:flex;\n",
              "      flex-wrap:wrap;\n",
              "      gap: 12px;\n",
              "    }\n",
              "\n",
              "    .colab-df-convert {\n",
              "      background-color: #E8F0FE;\n",
              "      border: none;\n",
              "      border-radius: 50%;\n",
              "      cursor: pointer;\n",
              "      display: none;\n",
              "      fill: #1967D2;\n",
              "      height: 32px;\n",
              "      padding: 0 0 0 0;\n",
              "      width: 32px;\n",
              "    }\n",
              "\n",
              "    .colab-df-convert:hover {\n",
              "      background-color: #E2EBFA;\n",
              "      box-shadow: 0px 1px 2px rgba(60, 64, 67, 0.3), 0px 1px 3px 1px rgba(60, 64, 67, 0.15);\n",
              "      fill: #174EA6;\n",
              "    }\n",
              "\n",
              "    [theme=dark] .colab-df-convert {\n",
              "      background-color: #3B4455;\n",
              "      fill: #D2E3FC;\n",
              "    }\n",
              "\n",
              "    [theme=dark] .colab-df-convert:hover {\n",
              "      background-color: #434B5C;\n",
              "      box-shadow: 0px 1px 3px 1px rgba(0, 0, 0, 0.15);\n",
              "      filter: drop-shadow(0px 1px 2px rgba(0, 0, 0, 0.3));\n",
              "      fill: #FFFFFF;\n",
              "    }\n",
              "  </style>\n",
              "\n",
              "      <script>\n",
              "        const buttonEl =\n",
              "          document.querySelector('#df-0643dd8a-1b47-4ec9-94f3-5e55f928afbd button.colab-df-convert');\n",
              "        buttonEl.style.display =\n",
              "          google.colab.kernel.accessAllowed ? 'block' : 'none';\n",
              "\n",
              "        async function convertToInteractive(key) {\n",
              "          const element = document.querySelector('#df-0643dd8a-1b47-4ec9-94f3-5e55f928afbd');\n",
              "          const dataTable =\n",
              "            await google.colab.kernel.invokeFunction('convertToInteractive',\n",
              "                                                     [key], {});\n",
              "          if (!dataTable) return;\n",
              "\n",
              "          const docLinkHtml = 'Like what you see? Visit the ' +\n",
              "            '<a target=\"_blank\" href=https://colab.research.google.com/notebooks/data_table.ipynb>data table notebook</a>'\n",
              "            + ' to learn more about interactive tables.';\n",
              "          element.innerHTML = '';\n",
              "          dataTable['output_type'] = 'display_data';\n",
              "          await google.colab.output.renderOutput(dataTable, element);\n",
              "          const docLink = document.createElement('div');\n",
              "          docLink.innerHTML = docLinkHtml;\n",
              "          element.appendChild(docLink);\n",
              "        }\n",
              "      </script>\n",
              "    </div>\n",
              "  </div>\n",
              "  "
            ],
            "text/plain": [
              "       ProviderId  ProductId  ProductCategory  ChannelId  Value  \\\n",
              "0               4         19                0          2   1000   \n",
              "1               4          5                2          2   2000   \n",
              "2               3         22                2          1     50   \n",
              "3               4          1                0          2   3000   \n",
              "4               3         22                2          1     60   \n",
              "...           ...        ...              ...        ...    ...   \n",
              "45014           3         22                2          2   5000   \n",
              "45015           2          1                0          2  10000   \n",
              "45016           2          1                0          2  10000   \n",
              "45017           3         22                2          2   5000   \n",
              "45018           4         19                0          2   3500   \n",
              "\n",
              "       PricingStrategy  Month  Year  Day  Credit  \n",
              "0                    4      2  2019   13       1  \n",
              "1                    2      2  2019   13       1  \n",
              "2                    2      2  2019   13       0  \n",
              "3                    4      2  2019   13       1  \n",
              "4                    2      2  2019   13       0  \n",
              "...                ...    ...   ...  ...     ...  \n",
              "45014                2      3  2019   14       0  \n",
              "45015                1      3  2019   14       1  \n",
              "45016                1      3  2019   14       1  \n",
              "45017                2      3  2019   14       0  \n",
              "45018                4      3  2019   14       1  \n",
              "\n",
              "[45019 rows x 10 columns]"
            ]
          },
          "execution_count": 132,
          "metadata": {},
          "output_type": "execute_result"
        }
      ],
      "source": [
        "\n",
        "#dropping unnecessary columns in preparation for modelling \n",
        "test_data = test.drop(columns=['TransactionId','BatchId', 'SubscriptionId', \n",
        "                                    'CustomerId', 'AccountId', 'Amount', 'CountryCode', 'CurrencyCode', 'TransactionStartTime'])\n",
        "test_data"
      ]
    },
    {
      "cell_type": "code",
      "execution_count": null,
      "metadata": {
        "colab": {
          "background_save": true,
          "base_uri": "https://localhost:8080/"
        },
        "id": "wZRKdld9WH0P",
        "outputId": "9853c8b2-8b73-4dd7-801c-163f6419049e"
      },
      "outputs": [
        {
          "data": {
            "text/plain": [
              "array([[   4,   19,    0, ..., 2019,   13,    1],\n",
              "       [   4,    5,    2, ..., 2019,   13,    1],\n",
              "       [   3,   22,    2, ..., 2019,   13,    0],\n",
              "       ...,\n",
              "       [   2,    1,    0, ..., 2019,   14,    1],\n",
              "       [   3,   22,    2, ..., 2019,   14,    0],\n",
              "       [   4,   19,    0, ..., 2019,   14,    1]])"
            ]
          },
          "execution_count": 133,
          "metadata": {},
          "output_type": "execute_result"
        }
      ],
      "source": [
        "original_test = test_data.values\n",
        "original_test"
      ]
    },
    {
      "cell_type": "code",
      "execution_count": null,
      "metadata": {
        "colab": {
          "background_save": true
        },
        "id": "0MA3H_MLWwQY"
      },
      "outputs": [],
      "source": [
        "\n",
        "rescaledtest = scaler.fit_transform(original_test)\n"
      ]
    },
    {
      "cell_type": "code",
      "execution_count": null,
      "metadata": {
        "colab": {
          "background_save": true
        },
        "id": "8DGYeFbVW4_a"
      },
      "outputs": [],
      "source": [
        "prediction = forest.predict_proba(rescaledtest)[:, 1]\n",
        "prediction = list(prediction)"
      ]
    },
    {
      "cell_type": "code",
      "execution_count": null,
      "metadata": {
        "colab": {
          "background_save": true
        },
        "id": "DCZJ6feGDxZ1"
      },
      "outputs": [],
      "source": [
        "id = test['TransactionId'].values\n",
        "id = list(id)"
      ]
    },
    {
      "cell_type": "code",
      "execution_count": null,
      "metadata": {
        "colab": {
          "background_save": true
        },
        "id": "2kwjrzAeEz_t"
      },
      "outputs": [],
      "source": [
        "predictions = list(zip(id, prediction))"
      ]
    },
    {
      "cell_type": "code",
      "execution_count": null,
      "metadata": {
        "colab": {
          "background_save": true,
          "base_uri": "https://localhost:8080/",
          "height": 424
        },
        "id": "s6MnUEZ5EJ6n",
        "outputId": "050fbcb0-bf05-430c-86b0-32a3544db0e9"
      },
      "outputs": [
        {
          "data": {
            "text/html": [
              "\n",
              "  <div id=\"df-7eb0d86e-20ed-45b4-ade5-e4ac1e16a04f\">\n",
              "    <div class=\"colab-df-container\">\n",
              "      <div>\n",
              "<style scoped>\n",
              "    .dataframe tbody tr th:only-of-type {\n",
              "        vertical-align: middle;\n",
              "    }\n",
              "\n",
              "    .dataframe tbody tr th {\n",
              "        vertical-align: top;\n",
              "    }\n",
              "\n",
              "    .dataframe thead th {\n",
              "        text-align: right;\n",
              "    }\n",
              "</style>\n",
              "<table border=\"1\" class=\"dataframe\">\n",
              "  <thead>\n",
              "    <tr style=\"text-align: right;\">\n",
              "      <th></th>\n",
              "      <th>TransactionId</th>\n",
              "      <th>Probability of being fraudulent</th>\n",
              "    </tr>\n",
              "  </thead>\n",
              "  <tbody>\n",
              "    <tr>\n",
              "      <th>0</th>\n",
              "      <td>TransactionId_50600</td>\n",
              "      <td>0.0</td>\n",
              "    </tr>\n",
              "    <tr>\n",
              "      <th>1</th>\n",
              "      <td>TransactionId_95109</td>\n",
              "      <td>0.0</td>\n",
              "    </tr>\n",
              "    <tr>\n",
              "      <th>2</th>\n",
              "      <td>TransactionId_47357</td>\n",
              "      <td>0.0</td>\n",
              "    </tr>\n",
              "    <tr>\n",
              "      <th>3</th>\n",
              "      <td>TransactionId_28185</td>\n",
              "      <td>0.0</td>\n",
              "    </tr>\n",
              "    <tr>\n",
              "      <th>4</th>\n",
              "      <td>TransactionId_22140</td>\n",
              "      <td>0.0</td>\n",
              "    </tr>\n",
              "    <tr>\n",
              "      <th>...</th>\n",
              "      <td>...</td>\n",
              "      <td>...</td>\n",
              "    </tr>\n",
              "    <tr>\n",
              "      <th>45014</th>\n",
              "      <td>TransactionId_116198</td>\n",
              "      <td>0.0</td>\n",
              "    </tr>\n",
              "    <tr>\n",
              "      <th>45015</th>\n",
              "      <td>TransactionId_24829</td>\n",
              "      <td>0.0</td>\n",
              "    </tr>\n",
              "    <tr>\n",
              "      <th>45016</th>\n",
              "      <td>TransactionId_102920</td>\n",
              "      <td>0.0</td>\n",
              "    </tr>\n",
              "    <tr>\n",
              "      <th>45017</th>\n",
              "      <td>TransactionId_128439</td>\n",
              "      <td>0.0</td>\n",
              "    </tr>\n",
              "    <tr>\n",
              "      <th>45018</th>\n",
              "      <td>TransactionId_45927</td>\n",
              "      <td>0.0</td>\n",
              "    </tr>\n",
              "  </tbody>\n",
              "</table>\n",
              "<p>45019 rows × 2 columns</p>\n",
              "</div>\n",
              "      <button class=\"colab-df-convert\" onclick=\"convertToInteractive('df-7eb0d86e-20ed-45b4-ade5-e4ac1e16a04f')\"\n",
              "              title=\"Convert this dataframe to an interactive table.\"\n",
              "              style=\"display:none;\">\n",
              "        \n",
              "  <svg xmlns=\"http://www.w3.org/2000/svg\" height=\"24px\"viewBox=\"0 0 24 24\"\n",
              "       width=\"24px\">\n",
              "    <path d=\"M0 0h24v24H0V0z\" fill=\"none\"/>\n",
              "    <path d=\"M18.56 5.44l.94 2.06.94-2.06 2.06-.94-2.06-.94-.94-2.06-.94 2.06-2.06.94zm-11 1L8.5 8.5l.94-2.06 2.06-.94-2.06-.94L8.5 2.5l-.94 2.06-2.06.94zm10 10l.94 2.06.94-2.06 2.06-.94-2.06-.94-.94-2.06-.94 2.06-2.06.94z\"/><path d=\"M17.41 7.96l-1.37-1.37c-.4-.4-.92-.59-1.43-.59-.52 0-1.04.2-1.43.59L10.3 9.45l-7.72 7.72c-.78.78-.78 2.05 0 2.83L4 21.41c.39.39.9.59 1.41.59.51 0 1.02-.2 1.41-.59l7.78-7.78 2.81-2.81c.8-.78.8-2.07 0-2.86zM5.41 20L4 18.59l7.72-7.72 1.47 1.35L5.41 20z\"/>\n",
              "  </svg>\n",
              "      </button>\n",
              "      \n",
              "  <style>\n",
              "    .colab-df-container {\n",
              "      display:flex;\n",
              "      flex-wrap:wrap;\n",
              "      gap: 12px;\n",
              "    }\n",
              "\n",
              "    .colab-df-convert {\n",
              "      background-color: #E8F0FE;\n",
              "      border: none;\n",
              "      border-radius: 50%;\n",
              "      cursor: pointer;\n",
              "      display: none;\n",
              "      fill: #1967D2;\n",
              "      height: 32px;\n",
              "      padding: 0 0 0 0;\n",
              "      width: 32px;\n",
              "    }\n",
              "\n",
              "    .colab-df-convert:hover {\n",
              "      background-color: #E2EBFA;\n",
              "      box-shadow: 0px 1px 2px rgba(60, 64, 67, 0.3), 0px 1px 3px 1px rgba(60, 64, 67, 0.15);\n",
              "      fill: #174EA6;\n",
              "    }\n",
              "\n",
              "    [theme=dark] .colab-df-convert {\n",
              "      background-color: #3B4455;\n",
              "      fill: #D2E3FC;\n",
              "    }\n",
              "\n",
              "    [theme=dark] .colab-df-convert:hover {\n",
              "      background-color: #434B5C;\n",
              "      box-shadow: 0px 1px 3px 1px rgba(0, 0, 0, 0.15);\n",
              "      filter: drop-shadow(0px 1px 2px rgba(0, 0, 0, 0.3));\n",
              "      fill: #FFFFFF;\n",
              "    }\n",
              "  </style>\n",
              "\n",
              "      <script>\n",
              "        const buttonEl =\n",
              "          document.querySelector('#df-7eb0d86e-20ed-45b4-ade5-e4ac1e16a04f button.colab-df-convert');\n",
              "        buttonEl.style.display =\n",
              "          google.colab.kernel.accessAllowed ? 'block' : 'none';\n",
              "\n",
              "        async function convertToInteractive(key) {\n",
              "          const element = document.querySelector('#df-7eb0d86e-20ed-45b4-ade5-e4ac1e16a04f');\n",
              "          const dataTable =\n",
              "            await google.colab.kernel.invokeFunction('convertToInteractive',\n",
              "                                                     [key], {});\n",
              "          if (!dataTable) return;\n",
              "\n",
              "          const docLinkHtml = 'Like what you see? Visit the ' +\n",
              "            '<a target=\"_blank\" href=https://colab.research.google.com/notebooks/data_table.ipynb>data table notebook</a>'\n",
              "            + ' to learn more about interactive tables.';\n",
              "          element.innerHTML = '';\n",
              "          dataTable['output_type'] = 'display_data';\n",
              "          await google.colab.output.renderOutput(dataTable, element);\n",
              "          const docLink = document.createElement('div');\n",
              "          docLink.innerHTML = docLinkHtml;\n",
              "          element.appendChild(docLink);\n",
              "        }\n",
              "      </script>\n",
              "    </div>\n",
              "  </div>\n",
              "  "
            ],
            "text/plain": [
              "              TransactionId  Probability of being fraudulent\n",
              "0       TransactionId_50600                              0.0\n",
              "1       TransactionId_95109                              0.0\n",
              "2       TransactionId_47357                              0.0\n",
              "3       TransactionId_28185                              0.0\n",
              "4       TransactionId_22140                              0.0\n",
              "...                     ...                              ...\n",
              "45014  TransactionId_116198                              0.0\n",
              "45015   TransactionId_24829                              0.0\n",
              "45016  TransactionId_102920                              0.0\n",
              "45017  TransactionId_128439                              0.0\n",
              "45018   TransactionId_45927                              0.0\n",
              "\n",
              "[45019 rows x 2 columns]"
            ]
          },
          "execution_count": 138,
          "metadata": {},
          "output_type": "execute_result"
        }
      ],
      "source": [
        "final_predictions = pd.DataFrame(predictions, columns=['TransactionId', 'Probability of being fraudulent'])\n",
        "final_predictions"
      ]
    }
  ],
  "metadata": {
    "colab": {
      "provenance": []
    },
    "kernelspec": {
      "display_name": "Python 3",
      "name": "python3"
    },
    "language_info": {
      "name": "python"
    }
  },
  "nbformat": 4,
  "nbformat_minor": 0
}