{
  "nbformat": 4,
  "nbformat_minor": 0,
  "metadata": {
    "colab": {
      "provenance": [],
      "collapsed_sections": [
        "NfQ88Qt_WnvM",
        "xorRot5gXZ3S",
        "AxJEIIVWXi3r",
        "TG_-byMTXqZC",
        "FnkHPrO5X0gv"
      ]
    },
    "kernelspec": {
      "name": "python3",
      "display_name": "Python 3"
    },
    "language_info": {
      "name": "python"
    }
  },
  "cells": [
    {
      "cell_type": "code",
      "execution_count": 1,
      "metadata": {
        "id": "XUje_8aIjyJ4"
      },
      "outputs": [],
      "source": [
        "#import all necessary modules\n",
        "import numpy as np\n",
        "import pandas as pd\n",
        "import matplotlib.pyplot as plt\n",
        "import seaborn as sns\n",
        "from sklearn.preprocessing import LabelEncoder"
      ]
    },
    {
      "cell_type": "markdown",
      "source": [
        "###Loading the data"
      ],
      "metadata": {
        "id": "OsmY9_7ZVGFt"
      }
    },
    {
      "cell_type": "code",
      "source": [
        "train_df = pd.read_csv('/content/drive/MyDrive/Datasets/training.csv')\n",
        "train_df.head()"
      ],
      "metadata": {
        "colab": {
          "base_uri": "https://localhost:8080/",
          "height": 270
        },
        "id": "NHuOU0bupuLl",
        "outputId": "7d5905bd-86cc-471c-ca12-7f6859ca5118"
      },
      "execution_count": 2,
      "outputs": [
        {
          "output_type": "execute_result",
          "data": {
            "text/plain": [
              "         TransactionId         BatchId       AccountId       SubscriptionId  \\\n",
              "0  TransactionId_76871   BatchId_36123  AccountId_3957   SubscriptionId_887   \n",
              "1  TransactionId_73770   BatchId_15642  AccountId_4841  SubscriptionId_3829   \n",
              "2  TransactionId_26203   BatchId_53941  AccountId_4229   SubscriptionId_222   \n",
              "3    TransactionId_380  BatchId_102363   AccountId_648  SubscriptionId_2185   \n",
              "4  TransactionId_28195   BatchId_38780  AccountId_4841  SubscriptionId_3829   \n",
              "\n",
              "        CustomerId CurrencyCode  CountryCode    ProviderId     ProductId  \\\n",
              "0  CustomerId_4406          UGX          256  ProviderId_6  ProductId_10   \n",
              "1  CustomerId_4406          UGX          256  ProviderId_4   ProductId_6   \n",
              "2  CustomerId_4683          UGX          256  ProviderId_6   ProductId_1   \n",
              "3   CustomerId_988          UGX          256  ProviderId_1  ProductId_21   \n",
              "4   CustomerId_988          UGX          256  ProviderId_4   ProductId_6   \n",
              "\n",
              "      ProductCategory    ChannelId   Amount  Value  TransactionStartTime  \\\n",
              "0             airtime  ChannelId_3   1000.0   1000  2018-11-15T02:18:49Z   \n",
              "1  financial_services  ChannelId_2    -20.0     20  2018-11-15T02:19:08Z   \n",
              "2             airtime  ChannelId_3    500.0    500  2018-11-15T02:44:21Z   \n",
              "3        utility_bill  ChannelId_3  20000.0  21800  2018-11-15T03:32:55Z   \n",
              "4  financial_services  ChannelId_2   -644.0    644  2018-11-15T03:34:21Z   \n",
              "\n",
              "   PricingStrategy  FraudResult  \n",
              "0                2            0  \n",
              "1                2            0  \n",
              "2                2            0  \n",
              "3                2            0  \n",
              "4                2            0  "
            ],
            "text/html": [
              "\n",
              "  <div id=\"df-60f49403-4348-4d88-8374-14764b290bb1\">\n",
              "    <div class=\"colab-df-container\">\n",
              "      <div>\n",
              "<style scoped>\n",
              "    .dataframe tbody tr th:only-of-type {\n",
              "        vertical-align: middle;\n",
              "    }\n",
              "\n",
              "    .dataframe tbody tr th {\n",
              "        vertical-align: top;\n",
              "    }\n",
              "\n",
              "    .dataframe thead th {\n",
              "        text-align: right;\n",
              "    }\n",
              "</style>\n",
              "<table border=\"1\" class=\"dataframe\">\n",
              "  <thead>\n",
              "    <tr style=\"text-align: right;\">\n",
              "      <th></th>\n",
              "      <th>TransactionId</th>\n",
              "      <th>BatchId</th>\n",
              "      <th>AccountId</th>\n",
              "      <th>SubscriptionId</th>\n",
              "      <th>CustomerId</th>\n",
              "      <th>CurrencyCode</th>\n",
              "      <th>CountryCode</th>\n",
              "      <th>ProviderId</th>\n",
              "      <th>ProductId</th>\n",
              "      <th>ProductCategory</th>\n",
              "      <th>ChannelId</th>\n",
              "      <th>Amount</th>\n",
              "      <th>Value</th>\n",
              "      <th>TransactionStartTime</th>\n",
              "      <th>PricingStrategy</th>\n",
              "      <th>FraudResult</th>\n",
              "    </tr>\n",
              "  </thead>\n",
              "  <tbody>\n",
              "    <tr>\n",
              "      <th>0</th>\n",
              "      <td>TransactionId_76871</td>\n",
              "      <td>BatchId_36123</td>\n",
              "      <td>AccountId_3957</td>\n",
              "      <td>SubscriptionId_887</td>\n",
              "      <td>CustomerId_4406</td>\n",
              "      <td>UGX</td>\n",
              "      <td>256</td>\n",
              "      <td>ProviderId_6</td>\n",
              "      <td>ProductId_10</td>\n",
              "      <td>airtime</td>\n",
              "      <td>ChannelId_3</td>\n",
              "      <td>1000.0</td>\n",
              "      <td>1000</td>\n",
              "      <td>2018-11-15T02:18:49Z</td>\n",
              "      <td>2</td>\n",
              "      <td>0</td>\n",
              "    </tr>\n",
              "    <tr>\n",
              "      <th>1</th>\n",
              "      <td>TransactionId_73770</td>\n",
              "      <td>BatchId_15642</td>\n",
              "      <td>AccountId_4841</td>\n",
              "      <td>SubscriptionId_3829</td>\n",
              "      <td>CustomerId_4406</td>\n",
              "      <td>UGX</td>\n",
              "      <td>256</td>\n",
              "      <td>ProviderId_4</td>\n",
              "      <td>ProductId_6</td>\n",
              "      <td>financial_services</td>\n",
              "      <td>ChannelId_2</td>\n",
              "      <td>-20.0</td>\n",
              "      <td>20</td>\n",
              "      <td>2018-11-15T02:19:08Z</td>\n",
              "      <td>2</td>\n",
              "      <td>0</td>\n",
              "    </tr>\n",
              "    <tr>\n",
              "      <th>2</th>\n",
              "      <td>TransactionId_26203</td>\n",
              "      <td>BatchId_53941</td>\n",
              "      <td>AccountId_4229</td>\n",
              "      <td>SubscriptionId_222</td>\n",
              "      <td>CustomerId_4683</td>\n",
              "      <td>UGX</td>\n",
              "      <td>256</td>\n",
              "      <td>ProviderId_6</td>\n",
              "      <td>ProductId_1</td>\n",
              "      <td>airtime</td>\n",
              "      <td>ChannelId_3</td>\n",
              "      <td>500.0</td>\n",
              "      <td>500</td>\n",
              "      <td>2018-11-15T02:44:21Z</td>\n",
              "      <td>2</td>\n",
              "      <td>0</td>\n",
              "    </tr>\n",
              "    <tr>\n",
              "      <th>3</th>\n",
              "      <td>TransactionId_380</td>\n",
              "      <td>BatchId_102363</td>\n",
              "      <td>AccountId_648</td>\n",
              "      <td>SubscriptionId_2185</td>\n",
              "      <td>CustomerId_988</td>\n",
              "      <td>UGX</td>\n",
              "      <td>256</td>\n",
              "      <td>ProviderId_1</td>\n",
              "      <td>ProductId_21</td>\n",
              "      <td>utility_bill</td>\n",
              "      <td>ChannelId_3</td>\n",
              "      <td>20000.0</td>\n",
              "      <td>21800</td>\n",
              "      <td>2018-11-15T03:32:55Z</td>\n",
              "      <td>2</td>\n",
              "      <td>0</td>\n",
              "    </tr>\n",
              "    <tr>\n",
              "      <th>4</th>\n",
              "      <td>TransactionId_28195</td>\n",
              "      <td>BatchId_38780</td>\n",
              "      <td>AccountId_4841</td>\n",
              "      <td>SubscriptionId_3829</td>\n",
              "      <td>CustomerId_988</td>\n",
              "      <td>UGX</td>\n",
              "      <td>256</td>\n",
              "      <td>ProviderId_4</td>\n",
              "      <td>ProductId_6</td>\n",
              "      <td>financial_services</td>\n",
              "      <td>ChannelId_2</td>\n",
              "      <td>-644.0</td>\n",
              "      <td>644</td>\n",
              "      <td>2018-11-15T03:34:21Z</td>\n",
              "      <td>2</td>\n",
              "      <td>0</td>\n",
              "    </tr>\n",
              "  </tbody>\n",
              "</table>\n",
              "</div>\n",
              "      <button class=\"colab-df-convert\" onclick=\"convertToInteractive('df-60f49403-4348-4d88-8374-14764b290bb1')\"\n",
              "              title=\"Convert this dataframe to an interactive table.\"\n",
              "              style=\"display:none;\">\n",
              "        \n",
              "  <svg xmlns=\"http://www.w3.org/2000/svg\" height=\"24px\"viewBox=\"0 0 24 24\"\n",
              "       width=\"24px\">\n",
              "    <path d=\"M0 0h24v24H0V0z\" fill=\"none\"/>\n",
              "    <path d=\"M18.56 5.44l.94 2.06.94-2.06 2.06-.94-2.06-.94-.94-2.06-.94 2.06-2.06.94zm-11 1L8.5 8.5l.94-2.06 2.06-.94-2.06-.94L8.5 2.5l-.94 2.06-2.06.94zm10 10l.94 2.06.94-2.06 2.06-.94-2.06-.94-.94-2.06-.94 2.06-2.06.94z\"/><path d=\"M17.41 7.96l-1.37-1.37c-.4-.4-.92-.59-1.43-.59-.52 0-1.04.2-1.43.59L10.3 9.45l-7.72 7.72c-.78.78-.78 2.05 0 2.83L4 21.41c.39.39.9.59 1.41.59.51 0 1.02-.2 1.41-.59l7.78-7.78 2.81-2.81c.8-.78.8-2.07 0-2.86zM5.41 20L4 18.59l7.72-7.72 1.47 1.35L5.41 20z\"/>\n",
              "  </svg>\n",
              "      </button>\n",
              "      \n",
              "  <style>\n",
              "    .colab-df-container {\n",
              "      display:flex;\n",
              "      flex-wrap:wrap;\n",
              "      gap: 12px;\n",
              "    }\n",
              "\n",
              "    .colab-df-convert {\n",
              "      background-color: #E8F0FE;\n",
              "      border: none;\n",
              "      border-radius: 50%;\n",
              "      cursor: pointer;\n",
              "      display: none;\n",
              "      fill: #1967D2;\n",
              "      height: 32px;\n",
              "      padding: 0 0 0 0;\n",
              "      width: 32px;\n",
              "    }\n",
              "\n",
              "    .colab-df-convert:hover {\n",
              "      background-color: #E2EBFA;\n",
              "      box-shadow: 0px 1px 2px rgba(60, 64, 67, 0.3), 0px 1px 3px 1px rgba(60, 64, 67, 0.15);\n",
              "      fill: #174EA6;\n",
              "    }\n",
              "\n",
              "    [theme=dark] .colab-df-convert {\n",
              "      background-color: #3B4455;\n",
              "      fill: #D2E3FC;\n",
              "    }\n",
              "\n",
              "    [theme=dark] .colab-df-convert:hover {\n",
              "      background-color: #434B5C;\n",
              "      box-shadow: 0px 1px 3px 1px rgba(0, 0, 0, 0.15);\n",
              "      filter: drop-shadow(0px 1px 2px rgba(0, 0, 0, 0.3));\n",
              "      fill: #FFFFFF;\n",
              "    }\n",
              "  </style>\n",
              "\n",
              "      <script>\n",
              "        const buttonEl =\n",
              "          document.querySelector('#df-60f49403-4348-4d88-8374-14764b290bb1 button.colab-df-convert');\n",
              "        buttonEl.style.display =\n",
              "          google.colab.kernel.accessAllowed ? 'block' : 'none';\n",
              "\n",
              "        async function convertToInteractive(key) {\n",
              "          const element = document.querySelector('#df-60f49403-4348-4d88-8374-14764b290bb1');\n",
              "          const dataTable =\n",
              "            await google.colab.kernel.invokeFunction('convertToInteractive',\n",
              "                                                     [key], {});\n",
              "          if (!dataTable) return;\n",
              "\n",
              "          const docLinkHtml = 'Like what you see? Visit the ' +\n",
              "            '<a target=\"_blank\" href=https://colab.research.google.com/notebooks/data_table.ipynb>data table notebook</a>'\n",
              "            + ' to learn more about interactive tables.';\n",
              "          element.innerHTML = '';\n",
              "          dataTable['output_type'] = 'display_data';\n",
              "          await google.colab.output.renderOutput(dataTable, element);\n",
              "          const docLink = document.createElement('div');\n",
              "          docLink.innerHTML = docLinkHtml;\n",
              "          element.appendChild(docLink);\n",
              "        }\n",
              "      </script>\n",
              "    </div>\n",
              "  </div>\n",
              "  "
            ]
          },
          "metadata": {},
          "execution_count": 2
        }
      ]
    },
    {
      "cell_type": "code",
      "source": [
        "\n",
        "#checking for null values\n",
        "train_df.isna().sum()"
      ],
      "metadata": {
        "colab": {
          "base_uri": "https://localhost:8080/"
        },
        "id": "TyGyKGopqQhu",
        "outputId": "d7792139-c933-433e-ee07-52aa6ee3e1b9"
      },
      "execution_count": 3,
      "outputs": [
        {
          "output_type": "execute_result",
          "data": {
            "text/plain": [
              "TransactionId           0\n",
              "BatchId                 0\n",
              "AccountId               0\n",
              "SubscriptionId          0\n",
              "CustomerId              0\n",
              "CurrencyCode            0\n",
              "CountryCode             0\n",
              "ProviderId              0\n",
              "ProductId               0\n",
              "ProductCategory         0\n",
              "ChannelId               0\n",
              "Amount                  0\n",
              "Value                   0\n",
              "TransactionStartTime    0\n",
              "PricingStrategy         0\n",
              "FraudResult             0\n",
              "dtype: int64"
            ]
          },
          "metadata": {},
          "execution_count": 3
        }
      ]
    },
    {
      "cell_type": "code",
      "source": [
        "\n",
        "#checking for duplicates\n",
        "train_df.duplicated().sum()"
      ],
      "metadata": {
        "colab": {
          "base_uri": "https://localhost:8080/"
        },
        "id": "HC8AZUCQqY2Y",
        "outputId": "b51a1820-7b2e-407b-86c5-176e0f79ddef"
      },
      "execution_count": 4,
      "outputs": [
        {
          "output_type": "execute_result",
          "data": {
            "text/plain": [
              "0"
            ]
          },
          "metadata": {},
          "execution_count": 4
        }
      ]
    },
    {
      "cell_type": "code",
      "source": [
        "\n",
        "#overview of the columns\n",
        "train_df.info()"
      ],
      "metadata": {
        "colab": {
          "base_uri": "https://localhost:8080/"
        },
        "id": "fWwrfI9Qqgei",
        "outputId": "97a71fbe-8369-4fba-ac31-571841bc3454"
      },
      "execution_count": 5,
      "outputs": [
        {
          "output_type": "stream",
          "name": "stdout",
          "text": [
            "<class 'pandas.core.frame.DataFrame'>\n",
            "RangeIndex: 95662 entries, 0 to 95661\n",
            "Data columns (total 16 columns):\n",
            " #   Column                Non-Null Count  Dtype  \n",
            "---  ------                --------------  -----  \n",
            " 0   TransactionId         95662 non-null  object \n",
            " 1   BatchId               95662 non-null  object \n",
            " 2   AccountId             95662 non-null  object \n",
            " 3   SubscriptionId        95662 non-null  object \n",
            " 4   CustomerId            95662 non-null  object \n",
            " 5   CurrencyCode          95662 non-null  object \n",
            " 6   CountryCode           95662 non-null  int64  \n",
            " 7   ProviderId            95662 non-null  object \n",
            " 8   ProductId             95662 non-null  object \n",
            " 9   ProductCategory       95662 non-null  object \n",
            " 10  ChannelId             95662 non-null  object \n",
            " 11  Amount                95662 non-null  float64\n",
            " 12  Value                 95662 non-null  int64  \n",
            " 13  TransactionStartTime  95662 non-null  object \n",
            " 14  PricingStrategy       95662 non-null  int64  \n",
            " 15  FraudResult           95662 non-null  int64  \n",
            "dtypes: float64(1), int64(4), object(11)\n",
            "memory usage: 11.7+ MB\n"
          ]
        }
      ]
    },
    {
      "cell_type": "code",
      "source": [
        "train_df['CountryCode'].value_counts()"
      ],
      "metadata": {
        "colab": {
          "base_uri": "https://localhost:8080/"
        },
        "id": "_pjVcxMPsIEk",
        "outputId": "5a321bb0-65c9-42d2-b9ea-5efbf8430c54"
      },
      "execution_count": 6,
      "outputs": [
        {
          "output_type": "execute_result",
          "data": {
            "text/plain": [
              "256    95662\n",
              "Name: CountryCode, dtype: int64"
            ]
          },
          "metadata": {},
          "execution_count": 6
        }
      ]
    },
    {
      "cell_type": "code",
      "source": [
        "train_df['CurrencyCode'].value_counts()"
      ],
      "metadata": {
        "colab": {
          "base_uri": "https://localhost:8080/"
        },
        "id": "qaRCbdFWsGrd",
        "outputId": "11d66b9f-4ffe-46e8-c095-f300ad04b0bf"
      },
      "execution_count": 7,
      "outputs": [
        {
          "output_type": "execute_result",
          "data": {
            "text/plain": [
              "UGX    95662\n",
              "Name: CurrencyCode, dtype: int64"
            ]
          },
          "metadata": {},
          "execution_count": 7
        }
      ]
    },
    {
      "cell_type": "markdown",
      "source": [
        "From above, it is observed that primary source of the data is Uganda"
      ],
      "metadata": {
        "id": "cCPZShTFV6hj"
      }
    },
    {
      "cell_type": "code",
      "source": [
        "train_df['Amount'].describe()"
      ],
      "metadata": {
        "colab": {
          "base_uri": "https://localhost:8080/"
        },
        "id": "m47aGcHOsgdo",
        "outputId": "0c385e09-2053-4453-ecbb-5e20bb65f279"
      },
      "execution_count": 8,
      "outputs": [
        {
          "output_type": "execute_result",
          "data": {
            "text/plain": [
              "count    9.566200e+04\n",
              "mean     6.717846e+03\n",
              "std      1.233068e+05\n",
              "min     -1.000000e+06\n",
              "25%     -5.000000e+01\n",
              "50%      1.000000e+03\n",
              "75%      2.800000e+03\n",
              "max      9.880000e+06\n",
              "Name: Amount, dtype: float64"
            ]
          },
          "metadata": {},
          "execution_count": 8
        }
      ]
    },
    {
      "cell_type": "code",
      "source": [
        "\n",
        "#visualizing how the amount is distributed\n",
        "sns.boxplot(train_df['Amount'])\n",
        "plt.title('A boxplot showing how the amount is distributed')\n",
        "plt.show()"
      ],
      "metadata": {
        "colab": {
          "base_uri": "https://localhost:8080/",
          "height": 350
        },
        "id": "FYEYex0htAPL",
        "outputId": "640921cc-6ca6-4451-f3d9-b6fb71e13c59"
      },
      "execution_count": 9,
      "outputs": [
        {
          "output_type": "stream",
          "name": "stderr",
          "text": [
            "/usr/local/lib/python3.8/dist-packages/seaborn/_decorators.py:36: FutureWarning: Pass the following variable as a keyword arg: x. From version 0.12, the only valid positional argument will be `data`, and passing other arguments without an explicit keyword will result in an error or misinterpretation.\n",
            "  warnings.warn(\n"
          ]
        },
        {
          "output_type": "display_data",
          "data": {
            "text/plain": [
              "<Figure size 432x288 with 1 Axes>"
            ],
            "image/png": "[encoded data removed]"
          },
          "metadata": {
            "needs_background": "light"
          }
        }
      ]
    },
    {
      "cell_type": "code",
      "source": [
        "\n",
        "#converting the transaction start time column to datetime\n",
        "train_df['TransactionStartTime'] = pd.to_datetime(train_df['TransactionStartTime'])"
      ],
      "metadata": {
        "id": "-F13HnvXt5Gy"
      },
      "execution_count": 10,
      "outputs": []
    },
    {
      "cell_type": "markdown",
      "source": [
        "Extracting the year, month, and day from the start time column"
      ],
      "metadata": {
        "id": "j_yleFvXWUe_"
      }
    },
    {
      "cell_type": "code",
      "source": [
        "train_df['Month'] = train_df['TransactionStartTime'].dt.month"
      ],
      "metadata": {
        "id": "w-rSI_-BuF9m"
      },
      "execution_count": 11,
      "outputs": []
    },
    {
      "cell_type": "code",
      "source": [
        "train_df['Year'] = train_df['TransactionStartTime'].dt.year"
      ],
      "metadata": {
        "id": "SuBzGAIzONgW"
      },
      "execution_count": 12,
      "outputs": []
    },
    {
      "cell_type": "code",
      "source": [
        "train_df['Day'] = train_df['TransactionStartTime'].dt.day"
      ],
      "metadata": {
        "id": "suV9zFY1OUe6"
      },
      "execution_count": 13,
      "outputs": []
    },
    {
      "cell_type": "code",
      "source": [
        "train_df['Month'].value_counts()"
      ],
      "metadata": {
        "colab": {
          "base_uri": "https://localhost:8080/"
        },
        "id": "5rPwpneBurHH",
        "outputId": "82a8b694-bdfe-421c-a816-443ab3eb8dda"
      },
      "execution_count": 14,
      "outputs": [
        {
          "output_type": "execute_result",
          "data": {
            "text/plain": [
              "12    35635\n",
              "1     31783\n",
              "2     15772\n",
              "11    12472\n",
              "Name: Month, dtype: int64"
            ]
          },
          "metadata": {},
          "execution_count": 14
        }
      ]
    },
    {
      "cell_type": "code",
      "source": [
        "train_df['ProviderId'].value_counts()"
      ],
      "metadata": {
        "id": "K5Brhax5voCp",
        "colab": {
          "base_uri": "https://localhost:8080/"
        },
        "outputId": "e4c1720d-f986-4a00-f021-4a9c5d8d24bd"
      },
      "execution_count": 15,
      "outputs": [
        {
          "output_type": "execute_result",
          "data": {
            "text/plain": [
              "ProviderId_4    38189\n",
              "ProviderId_6    34186\n",
              "ProviderId_5    14542\n",
              "ProviderId_1     5643\n",
              "ProviderId_3     3084\n",
              "ProviderId_2       18\n",
              "Name: ProviderId, dtype: int64"
            ]
          },
          "metadata": {},
          "execution_count": 15
        }
      ]
    },
    {
      "cell_type": "code",
      "source": [
        "train_df['ProductId'].value_counts()"
      ],
      "metadata": {
        "colab": {
          "base_uri": "https://localhost:8080/"
        },
        "id": "6ql1uaahARHf",
        "outputId": "b95d2faa-1506-4dd3-a032-7ac2c40701d9"
      },
      "execution_count": 16,
      "outputs": [
        {
          "output_type": "execute_result",
          "data": {
            "text/plain": [
              "ProductId_6     32635\n",
              "ProductId_3     24344\n",
              "ProductId_10    15384\n",
              "ProductId_15    11964\n",
              "ProductId_1      2885\n",
              "ProductId_4      2403\n",
              "ProductId_21     1512\n",
              "ProductId_11     1377\n",
              "ProductId_19      965\n",
              "ProductId_14      789\n",
              "ProductId_13      296\n",
              "ProductId_2       236\n",
              "ProductId_20      216\n",
              "ProductId_8       197\n",
              "ProductId_24      175\n",
              "ProductId_22      112\n",
              "ProductId_7        86\n",
              "ProductId_27       31\n",
              "ProductId_5        25\n",
              "ProductId_9        17\n",
              "ProductId_16       10\n",
              "ProductId_12        2\n",
              "ProductId_23        1\n",
              "Name: ProductId, dtype: int64"
            ]
          },
          "metadata": {},
          "execution_count": 16
        }
      ]
    },
    {
      "cell_type": "code",
      "source": [
        "train_df['ProductCategory'].value_counts()"
      ],
      "metadata": {
        "colab": {
          "base_uri": "https://localhost:8080/"
        },
        "id": "6H7PYjHfAaZb",
        "outputId": "1ff5e5b5-79a9-448c-e926-9dc4559353f2"
      },
      "execution_count": 17,
      "outputs": [
        {
          "output_type": "execute_result",
          "data": {
            "text/plain": [
              "financial_services    45405\n",
              "airtime               45027\n",
              "utility_bill           1920\n",
              "data_bundles           1613\n",
              "tv                     1279\n",
              "ticket                  216\n",
              "movies                  175\n",
              "transport                25\n",
              "other                     2\n",
              "Name: ProductCategory, dtype: int64"
            ]
          },
          "metadata": {},
          "execution_count": 17
        }
      ]
    },
    {
      "cell_type": "code",
      "source": [
        "train_df['ChannelId'].value_counts()"
      ],
      "metadata": {
        "colab": {
          "base_uri": "https://localhost:8080/"
        },
        "id": "XgiMw3DvBPsf",
        "outputId": "d8524280-befa-42e6-d887-e21d4b5936f9"
      },
      "execution_count": 18,
      "outputs": [
        {
          "output_type": "execute_result",
          "data": {
            "text/plain": [
              "ChannelId_3    56935\n",
              "ChannelId_2    37141\n",
              "ChannelId_5     1048\n",
              "ChannelId_1      538\n",
              "Name: ChannelId, dtype: int64"
            ]
          },
          "metadata": {},
          "execution_count": 18
        }
      ]
    },
    {
      "cell_type": "code",
      "source": [
        "train_df['PricingStrategy'].value_counts()"
      ],
      "metadata": {
        "colab": {
          "base_uri": "https://localhost:8080/"
        },
        "id": "_1-n3c6fBtMH",
        "outputId": "3c94fb2b-0e00-42e1-a474-7907c6eb1d9c"
      },
      "execution_count": 19,
      "outputs": [
        {
          "output_type": "execute_result",
          "data": {
            "text/plain": [
              "2    79848\n",
              "4    13562\n",
              "1     1867\n",
              "0      385\n",
              "Name: PricingStrategy, dtype: int64"
            ]
          },
          "metadata": {},
          "execution_count": 19
        }
      ]
    },
    {
      "cell_type": "code",
      "source": [
        "train_df['FraudResult'].value_counts()"
      ],
      "metadata": {
        "colab": {
          "base_uri": "https://localhost:8080/"
        },
        "id": "RAOgoXQ7u6s0",
        "outputId": "acf612b0-efe8-4457-d8e0-358b3d3e2148"
      },
      "execution_count": 20,
      "outputs": [
        {
          "output_type": "execute_result",
          "data": {
            "text/plain": [
              "0    95469\n",
              "1      193\n",
              "Name: FraudResult, dtype: int64"
            ]
          },
          "metadata": {},
          "execution_count": 20
        }
      ]
    },
    {
      "cell_type": "markdown",
      "source": [
        "From above, we can see that the dataset is highly imbalanced. Therefore, accuracy won't be the appropriate metric for the data. Other metrics like precision and recall will be used to evaluate the data."
      ],
      "metadata": {
        "id": "Bb-1Zh6ALHcS"
      }
    },
    {
      "cell_type": "markdown",
      "source": [
        "### Feature Encoding"
      ],
      "metadata": {
        "id": "NfQ88Qt_WnvM"
      }
    },
    {
      "cell_type": "code",
      "source": [
        "cat_cols = ['ProviderId', 'ProductCategory', 'ChannelId', 'ProductId']"
      ],
      "metadata": {
        "id": "v-3xJQdZvlFp"
      },
      "execution_count": 21,
      "outputs": []
    },
    {
      "cell_type": "code",
      "source": [
        "le = LabelEncoder()\n",
        "for cat_col in cat_cols:\n",
        "  train_df[cat_col] = le.fit_transform(train_df[cat_col])"
      ],
      "metadata": {
        "id": "wLvH8EIyE9eP"
      },
      "execution_count": 22,
      "outputs": []
    },
    {
      "cell_type": "code",
      "source": [
        "train_df"
      ],
      "metadata": {
        "colab": {
          "base_uri": "https://localhost:8080/",
          "height": 0
        },
        "id": "zfMxBB8YGY66",
        "outputId": "b9b434e6-4489-478a-cda6-a27fd324b8bc"
      },
      "execution_count": 23,
      "outputs": [
        {
          "output_type": "execute_result",
          "data": {
            "text/plain": [
              "              TransactionId         BatchId       AccountId  \\\n",
              "0       TransactionId_76871   BatchId_36123  AccountId_3957   \n",
              "1       TransactionId_73770   BatchId_15642  AccountId_4841   \n",
              "2       TransactionId_26203   BatchId_53941  AccountId_4229   \n",
              "3         TransactionId_380  BatchId_102363   AccountId_648   \n",
              "4       TransactionId_28195   BatchId_38780  AccountId_4841   \n",
              "...                     ...             ...             ...   \n",
              "95657   TransactionId_89881   BatchId_96668  AccountId_4841   \n",
              "95658   TransactionId_91597    BatchId_3503  AccountId_3439   \n",
              "95659   TransactionId_82501  BatchId_118602  AccountId_4841   \n",
              "95660  TransactionId_136354   BatchId_70924  AccountId_1346   \n",
              "95661   TransactionId_35670   BatchId_29317  AccountId_4841   \n",
              "\n",
              "            SubscriptionId       CustomerId CurrencyCode  CountryCode  \\\n",
              "0       SubscriptionId_887  CustomerId_4406          UGX          256   \n",
              "1      SubscriptionId_3829  CustomerId_4406          UGX          256   \n",
              "2       SubscriptionId_222  CustomerId_4683          UGX          256   \n",
              "3      SubscriptionId_2185   CustomerId_988          UGX          256   \n",
              "4      SubscriptionId_3829   CustomerId_988          UGX          256   \n",
              "...                    ...              ...          ...          ...   \n",
              "95657  SubscriptionId_3829  CustomerId_3078          UGX          256   \n",
              "95658  SubscriptionId_2643  CustomerId_3874          UGX          256   \n",
              "95659  SubscriptionId_3829  CustomerId_3874          UGX          256   \n",
              "95660   SubscriptionId_652  CustomerId_1709          UGX          256   \n",
              "95661  SubscriptionId_3829  CustomerId_1709          UGX          256   \n",
              "\n",
              "       ProviderId  ProductId  ProductCategory  ChannelId   Amount  Value  \\\n",
              "0               5          1                0          2   1000.0   1000   \n",
              "1               3         19                2          1    -20.0     20   \n",
              "2               5          0                0          2    500.0    500   \n",
              "3               0         11                8          2  20000.0  21800   \n",
              "4               3         19                2          1   -644.0    644   \n",
              "...           ...        ...              ...        ...      ...    ...   \n",
              "95657           3         19                2          1  -1000.0   1000   \n",
              "95658           5          1                0          2   1000.0   1000   \n",
              "95659           3         19                2          1    -20.0     20   \n",
              "95660           5          8                7          2   3000.0   3000   \n",
              "95661           3         19                2          1    -60.0     60   \n",
              "\n",
              "           TransactionStartTime  PricingStrategy  FraudResult  Month  Year  \\\n",
              "0     2018-11-15 02:18:49+00:00                2            0     11  2018   \n",
              "1     2018-11-15 02:19:08+00:00                2            0     11  2018   \n",
              "2     2018-11-15 02:44:21+00:00                2            0     11  2018   \n",
              "3     2018-11-15 03:32:55+00:00                2            0     11  2018   \n",
              "4     2018-11-15 03:34:21+00:00                2            0     11  2018   \n",
              "...                         ...              ...          ...    ...   ...   \n",
              "95657 2019-02-13 09:54:09+00:00                2            0      2  2019   \n",
              "95658 2019-02-13 09:54:25+00:00                2            0      2  2019   \n",
              "95659 2019-02-13 09:54:35+00:00                2            0      2  2019   \n",
              "95660 2019-02-13 10:01:10+00:00                2            0      2  2019   \n",
              "95661 2019-02-13 10:01:28+00:00                2            0      2  2019   \n",
              "\n",
              "       Day  \n",
              "0       15  \n",
              "1       15  \n",
              "2       15  \n",
              "3       15  \n",
              "4       15  \n",
              "...    ...  \n",
              "95657   13  \n",
              "95658   13  \n",
              "95659   13  \n",
              "95660   13  \n",
              "95661   13  \n",
              "\n",
              "[95662 rows x 19 columns]"
            ],
            "text/html": [
              "\n",
              "  <div id=\"df-70f90285-3336-4142-87e4-b74e1e5163bb\">\n",
              "    <div class=\"colab-df-container\">\n",
              "      <div>\n",
              "<style scoped>\n",
              "    .dataframe tbody tr th:only-of-type {\n",
              "        vertical-align: middle;\n",
              "    }\n",
              "\n",
              "    .dataframe tbody tr th {\n",
              "        vertical-align: top;\n",
              "    }\n",
              "\n",
              "    .dataframe thead th {\n",
              "        text-align: right;\n",
              "    }\n",
              "</style>\n",
              "<table border=\"1\" class=\"dataframe\">\n",
              "  <thead>\n",
              "    <tr style=\"text-align: right;\">\n",
              "      <th></th>\n",
              "      <th>TransactionId</th>\n",
              "      <th>BatchId</th>\n",
              "      <th>AccountId</th>\n",
              "      <th>SubscriptionId</th>\n",
              "      <th>CustomerId</th>\n",
              "      <th>CurrencyCode</th>\n",
              "      <th>CountryCode</th>\n",
              "      <th>ProviderId</th>\n",
              "      <th>ProductId</th>\n",
              "      <th>ProductCategory</th>\n",
              "      <th>ChannelId</th>\n",
              "      <th>Amount</th>\n",
              "      <th>Value</th>\n",
              "      <th>TransactionStartTime</th>\n",
              "      <th>PricingStrategy</th>\n",
              "      <th>FraudResult</th>\n",
              "      <th>Month</th>\n",
              "      <th>Year</th>\n",
              "      <th>Day</th>\n",
              "    </tr>\n",
              "  </thead>\n",
              "  <tbody>\n",
              "    <tr>\n",
              "      <th>0</th>\n",
              "      <td>TransactionId_76871</td>\n",
              "      <td>BatchId_36123</td>\n",
              "      <td>AccountId_3957</td>\n",
              "      <td>SubscriptionId_887</td>\n",
              "      <td>CustomerId_4406</td>\n",
              "      <td>UGX</td>\n",
              "      <td>256</td>\n",
              "      <td>5</td>\n",
              "      <td>1</td>\n",
              "      <td>0</td>\n",
              "      <td>2</td>\n",
              "      <td>1000.0</td>\n",
              "      <td>1000</td>\n",
              "      <td>2018-11-15 02:18:49+00:00</td>\n",
              "      <td>2</td>\n",
              "      <td>0</td>\n",
              "      <td>11</td>\n",
              "      <td>2018</td>\n",
              "      <td>15</td>\n",
              "    </tr>\n",
              "    <tr>\n",
              "      <th>1</th>\n",
              "      <td>TransactionId_73770</td>\n",
              "      <td>BatchId_15642</td>\n",
              "      <td>AccountId_4841</td>\n",
              "      <td>SubscriptionId_3829</td>\n",
              "      <td>CustomerId_4406</td>\n",
              "      <td>UGX</td>\n",
              "      <td>256</td>\n",
              "      <td>3</td>\n",
              "      <td>19</td>\n",
              "      <td>2</td>\n",
              "      <td>1</td>\n",
              "      <td>-20.0</td>\n",
              "      <td>20</td>\n",
              "      <td>2018-11-15 02:19:08+00:00</td>\n",
              "      <td>2</td>\n",
              "      <td>0</td>\n",
              "      <td>11</td>\n",
              "      <td>2018</td>\n",
              "      <td>15</td>\n",
              "    </tr>\n",
              "    <tr>\n",
              "      <th>2</th>\n",
              "      <td>TransactionId_26203</td>\n",
              "      <td>BatchId_53941</td>\n",
              "      <td>AccountId_4229</td>\n",
              "      <td>SubscriptionId_222</td>\n",
              "      <td>CustomerId_4683</td>\n",
              "      <td>UGX</td>\n",
              "      <td>256</td>\n",
              "      <td>5</td>\n",
              "      <td>0</td>\n",
              "      <td>0</td>\n",
              "      <td>2</td>\n",
              "      <td>500.0</td>\n",
              "      <td>500</td>\n",
              "      <td>2018-11-15 02:44:21+00:00</td>\n",
              "      <td>2</td>\n",
              "      <td>0</td>\n",
              "      <td>11</td>\n",
              "      <td>2018</td>\n",
              "      <td>15</td>\n",
              "    </tr>\n",
              "    <tr>\n",
              "      <th>3</th>\n",
              "      <td>TransactionId_380</td>\n",
              "      <td>BatchId_102363</td>\n",
              "      <td>AccountId_648</td>\n",
              "      <td>SubscriptionId_2185</td>\n",
              "      <td>CustomerId_988</td>\n",
              "      <td>UGX</td>\n",
              "      <td>256</td>\n",
              "      <td>0</td>\n",
              "      <td>11</td>\n",
              "      <td>8</td>\n",
              "      <td>2</td>\n",
              "      <td>20000.0</td>\n",
              "      <td>21800</td>\n",
              "      <td>2018-11-15 03:32:55+00:00</td>\n",
              "      <td>2</td>\n",
              "      <td>0</td>\n",
              "      <td>11</td>\n",
              "      <td>2018</td>\n",
              "      <td>15</td>\n",
              "    </tr>\n",
              "    <tr>\n",
              "      <th>4</th>\n",
              "      <td>TransactionId_28195</td>\n",
              "      <td>BatchId_38780</td>\n",
              "      <td>AccountId_4841</td>\n",
              "      <td>SubscriptionId_3829</td>\n",
              "      <td>CustomerId_988</td>\n",
              "      <td>UGX</td>\n",
              "      <td>256</td>\n",
              "      <td>3</td>\n",
              "      <td>19</td>\n",
              "      <td>2</td>\n",
              "      <td>1</td>\n",
              "      <td>-644.0</td>\n",
              "      <td>644</td>\n",
              "      <td>2018-11-15 03:34:21+00:00</td>\n",
              "      <td>2</td>\n",
              "      <td>0</td>\n",
              "      <td>11</td>\n",
              "      <td>2018</td>\n",
              "      <td>15</td>\n",
              "    </tr>\n",
              "    <tr>\n",
              "      <th>...</th>\n",
              "      <td>...</td>\n",
              "      <td>...</td>\n",
              "      <td>...</td>\n",
              "      <td>...</td>\n",
              "      <td>...</td>\n",
              "      <td>...</td>\n",
              "      <td>...</td>\n",
              "      <td>...</td>\n",
              "      <td>...</td>\n",
              "      <td>...</td>\n",
              "      <td>...</td>\n",
              "      <td>...</td>\n",
              "      <td>...</td>\n",
              "      <td>...</td>\n",
              "      <td>...</td>\n",
              "      <td>...</td>\n",
              "      <td>...</td>\n",
              "      <td>...</td>\n",
              "      <td>...</td>\n",
              "    </tr>\n",
              "    <tr>\n",
              "      <th>95657</th>\n",
              "      <td>TransactionId_89881</td>\n",
              "      <td>BatchId_96668</td>\n",
              "      <td>AccountId_4841</td>\n",
              "      <td>SubscriptionId_3829</td>\n",
              "      <td>CustomerId_3078</td>\n",
              "      <td>UGX</td>\n",
              "      <td>256</td>\n",
              "      <td>3</td>\n",
              "      <td>19</td>\n",
              "      <td>2</td>\n",
              "      <td>1</td>\n",
              "      <td>-1000.0</td>\n",
              "      <td>1000</td>\n",
              "      <td>2019-02-13 09:54:09+00:00</td>\n",
              "      <td>2</td>\n",
              "      <td>0</td>\n",
              "      <td>2</td>\n",
              "      <td>2019</td>\n",
              "      <td>13</td>\n",
              "    </tr>\n",
              "    <tr>\n",
              "      <th>95658</th>\n",
              "      <td>TransactionId_91597</td>\n",
              "      <td>BatchId_3503</td>\n",
              "      <td>AccountId_3439</td>\n",
              "      <td>SubscriptionId_2643</td>\n",
              "      <td>CustomerId_3874</td>\n",
              "      <td>UGX</td>\n",
              "      <td>256</td>\n",
              "      <td>5</td>\n",
              "      <td>1</td>\n",
              "      <td>0</td>\n",
              "      <td>2</td>\n",
              "      <td>1000.0</td>\n",
              "      <td>1000</td>\n",
              "      <td>2019-02-13 09:54:25+00:00</td>\n",
              "      <td>2</td>\n",
              "      <td>0</td>\n",
              "      <td>2</td>\n",
              "      <td>2019</td>\n",
              "      <td>13</td>\n",
              "    </tr>\n",
              "    <tr>\n",
              "      <th>95659</th>\n",
              "      <td>TransactionId_82501</td>\n",
              "      <td>BatchId_118602</td>\n",
              "      <td>AccountId_4841</td>\n",
              "      <td>SubscriptionId_3829</td>\n",
              "      <td>CustomerId_3874</td>\n",
              "      <td>UGX</td>\n",
              "      <td>256</td>\n",
              "      <td>3</td>\n",
              "      <td>19</td>\n",
              "      <td>2</td>\n",
              "      <td>1</td>\n",
              "      <td>-20.0</td>\n",
              "      <td>20</td>\n",
              "      <td>2019-02-13 09:54:35+00:00</td>\n",
              "      <td>2</td>\n",
              "      <td>0</td>\n",
              "      <td>2</td>\n",
              "      <td>2019</td>\n",
              "      <td>13</td>\n",
              "    </tr>\n",
              "    <tr>\n",
              "      <th>95660</th>\n",
              "      <td>TransactionId_136354</td>\n",
              "      <td>BatchId_70924</td>\n",
              "      <td>AccountId_1346</td>\n",
              "      <td>SubscriptionId_652</td>\n",
              "      <td>CustomerId_1709</td>\n",
              "      <td>UGX</td>\n",
              "      <td>256</td>\n",
              "      <td>5</td>\n",
              "      <td>8</td>\n",
              "      <td>7</td>\n",
              "      <td>2</td>\n",
              "      <td>3000.0</td>\n",
              "      <td>3000</td>\n",
              "      <td>2019-02-13 10:01:10+00:00</td>\n",
              "      <td>2</td>\n",
              "      <td>0</td>\n",
              "      <td>2</td>\n",
              "      <td>2019</td>\n",
              "      <td>13</td>\n",
              "    </tr>\n",
              "    <tr>\n",
              "      <th>95661</th>\n",
              "      <td>TransactionId_35670</td>\n",
              "      <td>BatchId_29317</td>\n",
              "      <td>AccountId_4841</td>\n",
              "      <td>SubscriptionId_3829</td>\n",
              "      <td>CustomerId_1709</td>\n",
              "      <td>UGX</td>\n",
              "      <td>256</td>\n",
              "      <td>3</td>\n",
              "      <td>19</td>\n",
              "      <td>2</td>\n",
              "      <td>1</td>\n",
              "      <td>-60.0</td>\n",
              "      <td>60</td>\n",
              "      <td>2019-02-13 10:01:28+00:00</td>\n",
              "      <td>2</td>\n",
              "      <td>0</td>\n",
              "      <td>2</td>\n",
              "      <td>2019</td>\n",
              "      <td>13</td>\n",
              "    </tr>\n",
              "  </tbody>\n",
              "</table>\n",
              "<p>95662 rows × 19 columns</p>\n",
              "</div>\n",
              "      <button class=\"colab-df-convert\" onclick=\"convertToInteractive('df-70f90285-3336-4142-87e4-b74e1e5163bb')\"\n",
              "              title=\"Convert this dataframe to an interactive table.\"\n",
              "              style=\"display:none;\">\n",
              "        \n",
              "  <svg xmlns=\"http://www.w3.org/2000/svg\" height=\"24px\"viewBox=\"0 0 24 24\"\n",
              "       width=\"24px\">\n",
              "    <path d=\"M0 0h24v24H0V0z\" fill=\"none\"/>\n",
              "    <path d=\"M18.56 5.44l.94 2.06.94-2.06 2.06-.94-2.06-.94-.94-2.06-.94 2.06-2.06.94zm-11 1L8.5 8.5l.94-2.06 2.06-.94-2.06-.94L8.5 2.5l-.94 2.06-2.06.94zm10 10l.94 2.06.94-2.06 2.06-.94-2.06-.94-.94-2.06-.94 2.06-2.06.94z\"/><path d=\"M17.41 7.96l-1.37-1.37c-.4-.4-.92-.59-1.43-.59-.52 0-1.04.2-1.43.59L10.3 9.45l-7.72 7.72c-.78.78-.78 2.05 0 2.83L4 21.41c.39.39.9.59 1.41.59.51 0 1.02-.2 1.41-.59l7.78-7.78 2.81-2.81c.8-.78.8-2.07 0-2.86zM5.41 20L4 18.59l7.72-7.72 1.47 1.35L5.41 20z\"/>\n",
              "  </svg>\n",
              "      </button>\n",
              "      \n",
              "  <style>\n",
              "    .colab-df-container {\n",
              "      display:flex;\n",
              "      flex-wrap:wrap;\n",
              "      gap: 12px;\n",
              "    }\n",
              "\n",
              "    .colab-df-convert {\n",
              "      background-color: #E8F0FE;\n",
              "      border: none;\n",
              "      border-radius: 50%;\n",
              "      cursor: pointer;\n",
              "      display: none;\n",
              "      fill: #1967D2;\n",
              "      height: 32px;\n",
              "      padding: 0 0 0 0;\n",
              "      width: 32px;\n",
              "    }\n",
              "\n",
              "    .colab-df-convert:hover {\n",
              "      background-color: #E2EBFA;\n",
              "      box-shadow: 0px 1px 2px rgba(60, 64, 67, 0.3), 0px 1px 3px 1px rgba(60, 64, 67, 0.15);\n",
              "      fill: #174EA6;\n",
              "    }\n",
              "\n",
              "    [theme=dark] .colab-df-convert {\n",
              "      background-color: #3B4455;\n",
              "      fill: #D2E3FC;\n",
              "    }\n",
              "\n",
              "    [theme=dark] .colab-df-convert:hover {\n",
              "      background-color: #434B5C;\n",
              "      box-shadow: 0px 1px 3px 1px rgba(0, 0, 0, 0.15);\n",
              "      filter: drop-shadow(0px 1px 2px rgba(0, 0, 0, 0.3));\n",
              "      fill: #FFFFFF;\n",
              "    }\n",
              "  </style>\n",
              "\n",
              "      <script>\n",
              "        const buttonEl =\n",
              "          document.querySelector('#df-70f90285-3336-4142-87e4-b74e1e5163bb button.colab-df-convert');\n",
              "        buttonEl.style.display =\n",
              "          google.colab.kernel.accessAllowed ? 'block' : 'none';\n",
              "\n",
              "        async function convertToInteractive(key) {\n",
              "          const element = document.querySelector('#df-70f90285-3336-4142-87e4-b74e1e5163bb');\n",
              "          const dataTable =\n",
              "            await google.colab.kernel.invokeFunction('convertToInteractive',\n",
              "                                                     [key], {});\n",
              "          if (!dataTable) return;\n",
              "\n",
              "          const docLinkHtml = 'Like what you see? Visit the ' +\n",
              "            '<a target=\"_blank\" href=https://colab.research.google.com/notebooks/data_table.ipynb>data table notebook</a>'\n",
              "            + ' to learn more about interactive tables.';\n",
              "          element.innerHTML = '';\n",
              "          dataTable['output_type'] = 'display_data';\n",
              "          await google.colab.output.renderOutput(dataTable, element);\n",
              "          const docLink = document.createElement('div');\n",
              "          docLink.innerHTML = docLinkHtml;\n",
              "          element.appendChild(docLink);\n",
              "        }\n",
              "      </script>\n",
              "    </div>\n",
              "  </div>\n",
              "  "
            ]
          },
          "metadata": {},
          "execution_count": 23
        }
      ]
    },
    {
      "cell_type": "code",
      "source": [
        "for col in cat_cols:\n",
        "    print(train_df[col].value_counts())"
      ],
      "metadata": {
        "colab": {
          "base_uri": "https://localhost:8080/"
        },
        "id": "iic2iiR3Nj-V",
        "outputId": "51d26fb7-f5a8-4f6c-d5ac-a31e4c206b0f"
      },
      "execution_count": 24,
      "outputs": [
        {
          "output_type": "stream",
          "name": "stdout",
          "text": [
            "3    38189\n",
            "5    34186\n",
            "4    14542\n",
            "0     5643\n",
            "2     3084\n",
            "1       18\n",
            "Name: ProviderId, dtype: int64\n",
            "2    45405\n",
            "0    45027\n",
            "8     1920\n",
            "1     1613\n",
            "7     1279\n",
            "5      216\n",
            "3      175\n",
            "6       25\n",
            "4        2\n",
            "Name: ProductCategory, dtype: int64\n",
            "2    56935\n",
            "1    37141\n",
            "3     1048\n",
            "0      538\n",
            "Name: ChannelId, dtype: int64\n",
            "19    32635\n",
            "16    24344\n",
            "1     15384\n",
            "6     11964\n",
            "0      2885\n",
            "17     2403\n",
            "11     1512\n",
            "2      1377\n",
            "8       965\n",
            "5       789\n",
            "4       296\n",
            "9       236\n",
            "10      216\n",
            "21      197\n",
            "14      175\n",
            "12      112\n",
            "20       86\n",
            "15       31\n",
            "18       25\n",
            "22       17\n",
            "7        10\n",
            "3         2\n",
            "13        1\n",
            "Name: ProductId, dtype: int64\n"
          ]
        }
      ]
    },
    {
      "cell_type": "markdown",
      "source": [
        "Creating a column called credit that outputs 0 if the amount is less than 1 else 1"
      ],
      "metadata": {
        "id": "zulf3-QZWu-k"
      }
    },
    {
      "cell_type": "code",
      "source": [
        "def credit(row):\n",
        "  if row < 1:\n",
        "    return 0\n",
        "  else:\n",
        "    return 1"
      ],
      "metadata": {
        "id": "O1t4xZb9G9V_"
      },
      "execution_count": 25,
      "outputs": []
    },
    {
      "cell_type": "code",
      "source": [
        "train_df['Credit'] = train_df['Amount'].apply(credit)\n",
        "train_df['Credit']"
      ],
      "metadata": {
        "colab": {
          "base_uri": "https://localhost:8080/"
        },
        "id": "lQ8iR8ekJ_Ya",
        "outputId": "e9853f31-52b7-4ab0-d660-4e1ad3b7b83b"
      },
      "execution_count": 26,
      "outputs": [
        {
          "output_type": "execute_result",
          "data": {
            "text/plain": [
              "0        1\n",
              "1        0\n",
              "2        1\n",
              "3        1\n",
              "4        0\n",
              "        ..\n",
              "95657    0\n",
              "95658    1\n",
              "95659    0\n",
              "95660    1\n",
              "95661    0\n",
              "Name: Credit, Length: 95662, dtype: int64"
            ]
          },
          "metadata": {},
          "execution_count": 26
        }
      ]
    },
    {
      "cell_type": "code",
      "source": [
        "\n",
        "#dropping unnecessary columns in preparation for modelling \n",
        "train_data = train_df.drop(columns=['TransactionId','BatchId', 'SubscriptionId', \n",
        "                                    'CustomerId', 'AccountId', 'Amount', 'CountryCode', 'CurrencyCode', 'TransactionStartTime'])\n",
        "train_data"
      ],
      "metadata": {
        "colab": {
          "base_uri": "https://localhost:8080/",
          "height": 0
        },
        "id": "1SpAqppyKYBM",
        "outputId": "74ca8ad8-7716-4a51-8c99-ccbf92c6cc0f"
      },
      "execution_count": 27,
      "outputs": [
        {
          "output_type": "execute_result",
          "data": {
            "text/plain": [
              "       ProviderId  ProductId  ProductCategory  ChannelId  Value  \\\n",
              "0               5          1                0          2   1000   \n",
              "1               3         19                2          1     20   \n",
              "2               5          0                0          2    500   \n",
              "3               0         11                8          2  21800   \n",
              "4               3         19                2          1    644   \n",
              "...           ...        ...              ...        ...    ...   \n",
              "95657           3         19                2          1   1000   \n",
              "95658           5          1                0          2   1000   \n",
              "95659           3         19                2          1     20   \n",
              "95660           5          8                7          2   3000   \n",
              "95661           3         19                2          1     60   \n",
              "\n",
              "       PricingStrategy  FraudResult  Month  Year  Day  Credit  \n",
              "0                    2            0     11  2018   15       1  \n",
              "1                    2            0     11  2018   15       0  \n",
              "2                    2            0     11  2018   15       1  \n",
              "3                    2            0     11  2018   15       1  \n",
              "4                    2            0     11  2018   15       0  \n",
              "...                ...          ...    ...   ...  ...     ...  \n",
              "95657                2            0      2  2019   13       0  \n",
              "95658                2            0      2  2019   13       1  \n",
              "95659                2            0      2  2019   13       0  \n",
              "95660                2            0      2  2019   13       1  \n",
              "95661                2            0      2  2019   13       0  \n",
              "\n",
              "[95662 rows x 11 columns]"
            ],
            "text/html": [
              "\n",
              "  <div id=\"df-3c0a797b-475e-400f-acd8-f09cbd634035\">\n",
              "    <div class=\"colab-df-container\">\n",
              "      <div>\n",
              "<style scoped>\n",
              "    .dataframe tbody tr th:only-of-type {\n",
              "        vertical-align: middle;\n",
              "    }\n",
              "\n",
              "    .dataframe tbody tr th {\n",
              "        vertical-align: top;\n",
              "    }\n",
              "\n",
              "    .dataframe thead th {\n",
              "        text-align: right;\n",
              "    }\n",
              "</style>\n",
              "<table border=\"1\" class=\"dataframe\">\n",
              "  <thead>\n",
              "    <tr style=\"text-align: right;\">\n",
              "      <th></th>\n",
              "      <th>ProviderId</th>\n",
              "      <th>ProductId</th>\n",
              "      <th>ProductCategory</th>\n",
              "      <th>ChannelId</th>\n",
              "      <th>Value</th>\n",
              "      <th>PricingStrategy</th>\n",
              "      <th>FraudResult</th>\n",
              "      <th>Month</th>\n",
              "      <th>Year</th>\n",
              "      <th>Day</th>\n",
              "      <th>Credit</th>\n",
              "    </tr>\n",
              "  </thead>\n",
              "  <tbody>\n",
              "    <tr>\n",
              "      <th>0</th>\n",
              "      <td>5</td>\n",
              "      <td>1</td>\n",
              "      <td>0</td>\n",
              "      <td>2</td>\n",
              "      <td>1000</td>\n",
              "      <td>2</td>\n",
              "      <td>0</td>\n",
              "      <td>11</td>\n",
              "      <td>2018</td>\n",
              "      <td>15</td>\n",
              "      <td>1</td>\n",
              "    </tr>\n",
              "    <tr>\n",
              "      <th>1</th>\n",
              "      <td>3</td>\n",
              "      <td>19</td>\n",
              "      <td>2</td>\n",
              "      <td>1</td>\n",
              "      <td>20</td>\n",
              "      <td>2</td>\n",
              "      <td>0</td>\n",
              "      <td>11</td>\n",
              "      <td>2018</td>\n",
              "      <td>15</td>\n",
              "      <td>0</td>\n",
              "    </tr>\n",
              "    <tr>\n",
              "      <th>2</th>\n",
              "      <td>5</td>\n",
              "      <td>0</td>\n",
              "      <td>0</td>\n",
              "      <td>2</td>\n",
              "      <td>500</td>\n",
              "      <td>2</td>\n",
              "      <td>0</td>\n",
              "      <td>11</td>\n",
              "      <td>2018</td>\n",
              "      <td>15</td>\n",
              "      <td>1</td>\n",
              "    </tr>\n",
              "    <tr>\n",
              "      <th>3</th>\n",
              "      <td>0</td>\n",
              "      <td>11</td>\n",
              "      <td>8</td>\n",
              "      <td>2</td>\n",
              "      <td>21800</td>\n",
              "      <td>2</td>\n",
              "      <td>0</td>\n",
              "      <td>11</td>\n",
              "      <td>2018</td>\n",
              "      <td>15</td>\n",
              "      <td>1</td>\n",
              "    </tr>\n",
              "    <tr>\n",
              "      <th>4</th>\n",
              "      <td>3</td>\n",
              "      <td>19</td>\n",
              "      <td>2</td>\n",
              "      <td>1</td>\n",
              "      <td>644</td>\n",
              "      <td>2</td>\n",
              "      <td>0</td>\n",
              "      <td>11</td>\n",
              "      <td>2018</td>\n",
              "      <td>15</td>\n",
              "      <td>0</td>\n",
              "    </tr>\n",
              "    <tr>\n",
              "      <th>...</th>\n",
              "      <td>...</td>\n",
              "      <td>...</td>\n",
              "      <td>...</td>\n",
              "      <td>...</td>\n",
              "      <td>...</td>\n",
              "      <td>...</td>\n",
              "      <td>...</td>\n",
              "      <td>...</td>\n",
              "      <td>...</td>\n",
              "      <td>...</td>\n",
              "      <td>...</td>\n",
              "    </tr>\n",
              "    <tr>\n",
              "      <th>95657</th>\n",
              "      <td>3</td>\n",
              "      <td>19</td>\n",
              "      <td>2</td>\n",
              "      <td>1</td>\n",
              "      <td>1000</td>\n",
              "      <td>2</td>\n",
              "      <td>0</td>\n",
              "      <td>2</td>\n",
              "      <td>2019</td>\n",
              "      <td>13</td>\n",
              "      <td>0</td>\n",
              "    </tr>\n",
              "    <tr>\n",
              "      <th>95658</th>\n",
              "      <td>5</td>\n",
              "      <td>1</td>\n",
              "      <td>0</td>\n",
              "      <td>2</td>\n",
              "      <td>1000</td>\n",
              "      <td>2</td>\n",
              "      <td>0</td>\n",
              "      <td>2</td>\n",
              "      <td>2019</td>\n",
              "      <td>13</td>\n",
              "      <td>1</td>\n",
              "    </tr>\n",
              "    <tr>\n",
              "      <th>95659</th>\n",
              "      <td>3</td>\n",
              "      <td>19</td>\n",
              "      <td>2</td>\n",
              "      <td>1</td>\n",
              "      <td>20</td>\n",
              "      <td>2</td>\n",
              "      <td>0</td>\n",
              "      <td>2</td>\n",
              "      <td>2019</td>\n",
              "      <td>13</td>\n",
              "      <td>0</td>\n",
              "    </tr>\n",
              "    <tr>\n",
              "      <th>95660</th>\n",
              "      <td>5</td>\n",
              "      <td>8</td>\n",
              "      <td>7</td>\n",
              "      <td>2</td>\n",
              "      <td>3000</td>\n",
              "      <td>2</td>\n",
              "      <td>0</td>\n",
              "      <td>2</td>\n",
              "      <td>2019</td>\n",
              "      <td>13</td>\n",
              "      <td>1</td>\n",
              "    </tr>\n",
              "    <tr>\n",
              "      <th>95661</th>\n",
              "      <td>3</td>\n",
              "      <td>19</td>\n",
              "      <td>2</td>\n",
              "      <td>1</td>\n",
              "      <td>60</td>\n",
              "      <td>2</td>\n",
              "      <td>0</td>\n",
              "      <td>2</td>\n",
              "      <td>2019</td>\n",
              "      <td>13</td>\n",
              "      <td>0</td>\n",
              "    </tr>\n",
              "  </tbody>\n",
              "</table>\n",
              "<p>95662 rows × 11 columns</p>\n",
              "</div>\n",
              "      <button class=\"colab-df-convert\" onclick=\"convertToInteractive('df-3c0a797b-475e-400f-acd8-f09cbd634035')\"\n",
              "              title=\"Convert this dataframe to an interactive table.\"\n",
              "              style=\"display:none;\">\n",
              "        \n",
              "  <svg xmlns=\"http://www.w3.org/2000/svg\" height=\"24px\"viewBox=\"0 0 24 24\"\n",
              "       width=\"24px\">\n",
              "    <path d=\"M0 0h24v24H0V0z\" fill=\"none\"/>\n",
              "    <path d=\"M18.56 5.44l.94 2.06.94-2.06 2.06-.94-2.06-.94-.94-2.06-.94 2.06-2.06.94zm-11 1L8.5 8.5l.94-2.06 2.06-.94-2.06-.94L8.5 2.5l-.94 2.06-2.06.94zm10 10l.94 2.06.94-2.06 2.06-.94-2.06-.94-.94-2.06-.94 2.06-2.06.94z\"/><path d=\"M17.41 7.96l-1.37-1.37c-.4-.4-.92-.59-1.43-.59-.52 0-1.04.2-1.43.59L10.3 9.45l-7.72 7.72c-.78.78-.78 2.05 0 2.83L4 21.41c.39.39.9.59 1.41.59.51 0 1.02-.2 1.41-.59l7.78-7.78 2.81-2.81c.8-.78.8-2.07 0-2.86zM5.41 20L4 18.59l7.72-7.72 1.47 1.35L5.41 20z\"/>\n",
              "  </svg>\n",
              "      </button>\n",
              "      \n",
              "  <style>\n",
              "    .colab-df-container {\n",
              "      display:flex;\n",
              "      flex-wrap:wrap;\n",
              "      gap: 12px;\n",
              "    }\n",
              "\n",
              "    .colab-df-convert {\n",
              "      background-color: #E8F0FE;\n",
              "      border: none;\n",
              "      border-radius: 50%;\n",
              "      cursor: pointer;\n",
              "      display: none;\n",
              "      fill: #1967D2;\n",
              "      height: 32px;\n",
              "      padding: 0 0 0 0;\n",
              "      width: 32px;\n",
              "    }\n",
              "\n",
              "    .colab-df-convert:hover {\n",
              "      background-color: #E2EBFA;\n",
              "      box-shadow: 0px 1px 2px rgba(60, 64, 67, 0.3), 0px 1px 3px 1px rgba(60, 64, 67, 0.15);\n",
              "      fill: #174EA6;\n",
              "    }\n",
              "\n",
              "    [theme=dark] .colab-df-convert {\n",
              "      background-color: #3B4455;\n",
              "      fill: #D2E3FC;\n",
              "    }\n",
              "\n",
              "    [theme=dark] .colab-df-convert:hover {\n",
              "      background-color: #434B5C;\n",
              "      box-shadow: 0px 1px 3px 1px rgba(0, 0, 0, 0.15);\n",
              "      filter: drop-shadow(0px 1px 2px rgba(0, 0, 0, 0.3));\n",
              "      fill: #FFFFFF;\n",
              "    }\n",
              "  </style>\n",
              "\n",
              "      <script>\n",
              "        const buttonEl =\n",
              "          document.querySelector('#df-3c0a797b-475e-400f-acd8-f09cbd634035 button.colab-df-convert');\n",
              "        buttonEl.style.display =\n",
              "          google.colab.kernel.accessAllowed ? 'block' : 'none';\n",
              "\n",
              "        async function convertToInteractive(key) {\n",
              "          const element = document.querySelector('#df-3c0a797b-475e-400f-acd8-f09cbd634035');\n",
              "          const dataTable =\n",
              "            await google.colab.kernel.invokeFunction('convertToInteractive',\n",
              "                                                     [key], {});\n",
              "          if (!dataTable) return;\n",
              "\n",
              "          const docLinkHtml = 'Like what you see? Visit the ' +\n",
              "            '<a target=\"_blank\" href=https://colab.research.google.com/notebooks/data_table.ipynb>data table notebook</a>'\n",
              "            + ' to learn more about interactive tables.';\n",
              "          element.innerHTML = '';\n",
              "          dataTable['output_type'] = 'display_data';\n",
              "          await google.colab.output.renderOutput(dataTable, element);\n",
              "          const docLink = document.createElement('div');\n",
              "          docLink.innerHTML = docLinkHtml;\n",
              "          element.appendChild(docLink);\n",
              "        }\n",
              "      </script>\n",
              "    </div>\n",
              "  </div>\n",
              "  "
            ]
          },
          "metadata": {},
          "execution_count": 27
        }
      ]
    },
    {
      "cell_type": "markdown",
      "source": [
        "### Feature correlation"
      ],
      "metadata": {
        "id": "xorRot5gXZ3S"
      }
    },
    {
      "cell_type": "code",
      "source": [
        "\n",
        "plt.figure(figsize=(16, 9))\n",
        "sns.heatmap(train_data.corr(), annot=True)\n",
        "plt.show()"
      ],
      "metadata": {
        "id": "WIn1c4M4MrUr",
        "colab": {
          "base_uri": "https://localhost:8080/",
          "height": 0
        },
        "outputId": "44cf2201-a417-4348-c6f4-aa3829fcb2cc"
      },
      "execution_count": 28,
      "outputs": [
        {
          "output_type": "display_data",
          "data": {
            "text/plain": [
              "<Figure size 1152x648 with 2 Axes>"
            ],
            "image/png": "[encoded data removed]"
          },
          "metadata": {
            "needs_background": "light"
          }
        }
      ]
    },
    {
      "cell_type": "code",
      "source": [
        "X = train_data.drop(['FraudResult'], axis=1).values"
      ],
      "metadata": {
        "id": "LMmn7I1DO4LK"
      },
      "execution_count": 29,
      "outputs": []
    },
    {
      "cell_type": "code",
      "source": [
        "y = train_data['FraudResult'].values.reshape(-1,1)"
      ],
      "metadata": {
        "id": "AH2T1LBiPH1-"
      },
      "execution_count": 30,
      "outputs": []
    },
    {
      "cell_type": "code",
      "source": [
        "print(X.shape, y.shape)"
      ],
      "metadata": {
        "id": "mEA2USVlPQVC",
        "colab": {
          "base_uri": "https://localhost:8080/"
        },
        "outputId": "ff0a48a3-d6d4-4879-d880-4cc809c7745e"
      },
      "execution_count": 31,
      "outputs": [
        {
          "output_type": "stream",
          "name": "stdout",
          "text": [
            "(95662, 10) (95662, 1)\n"
          ]
        }
      ]
    },
    {
      "cell_type": "markdown",
      "source": [
        "### Train-test split validation"
      ],
      "metadata": {
        "id": "AxJEIIVWXi3r"
      }
    },
    {
      "cell_type": "code",
      "source": [
        "from sklearn.model_selection import train_test_split"
      ],
      "metadata": {
        "id": "PqNxt43hNBtk"
      },
      "execution_count": 32,
      "outputs": []
    },
    {
      "cell_type": "code",
      "source": [
        "X_train, X_test, y_train, y_test = train_test_split(X, y, test_size=0.3, random_state=42)"
      ],
      "metadata": {
        "id": "GofnAzvPPkG1"
      },
      "execution_count": 33,
      "outputs": []
    },
    {
      "cell_type": "markdown",
      "source": [
        "### Feature scaling"
      ],
      "metadata": {
        "id": "TG_-byMTXqZC"
      }
    },
    {
      "cell_type": "code",
      "source": [
        "from sklearn.preprocessing import StandardScaler"
      ],
      "metadata": {
        "id": "a0ZRQRo9QdT1"
      },
      "execution_count": 34,
      "outputs": []
    },
    {
      "cell_type": "code",
      "source": [
        "scaler = StandardScaler()\n",
        "rescaledX_train = scaler.fit_transform(X_train)\n",
        "rescaledX_test = scaler.transform(X_test)"
      ],
      "metadata": {
        "id": "zj_KlAf4QnIm"
      },
      "execution_count": 35,
      "outputs": []
    },
    {
      "cell_type": "markdown",
      "source": [
        "###Logistic Regression model"
      ],
      "metadata": {
        "id": "FnkHPrO5X0gv"
      }
    },
    {
      "cell_type": "code",
      "source": [
        "from sklearn.linear_model import LogisticRegression\n",
        "log = LogisticRegression()\n",
        "log.fit(rescaledX_train, y_train)"
      ],
      "metadata": {
        "id": "B9YOSUATRFyC",
        "colab": {
          "base_uri": "https://localhost:8080/"
        },
        "outputId": "51253ca5-7007-44fa-ad1e-5847ab92f2f7"
      },
      "execution_count": 36,
      "outputs": [
        {
          "output_type": "stream",
          "name": "stderr",
          "text": [
            "/usr/local/lib/python3.8/dist-packages/sklearn/utils/validation.py:993: DataConversionWarning: A column-vector y was passed when a 1d array was expected. Please change the shape of y to (n_samples, ), for example using ravel().\n",
            "  y = column_or_1d(y, warn=True)\n"
          ]
        },
        {
          "output_type": "execute_result",
          "data": {
            "text/plain": [
              "LogisticRegression()"
            ]
          },
          "metadata": {},
          "execution_count": 36
        }
      ]
    },
    {
      "cell_type": "code",
      "source": [
        "pred = log.predict(rescaledX_test)"
      ],
      "metadata": {
        "id": "-YRkE3UERlJl"
      },
      "execution_count": 37,
      "outputs": []
    },
    {
      "cell_type": "code",
      "source": [
        "log.score(rescaledX_test, y_test)"
      ],
      "metadata": {
        "id": "XGMuTNE3Ryen",
        "colab": {
          "base_uri": "https://localhost:8080/"
        },
        "outputId": "a1b5eff1-715f-43d8-b9e8-14350144127a"
      },
      "execution_count": 38,
      "outputs": [
        {
          "output_type": "execute_result",
          "data": {
            "text/plain": [
              "0.9979093348200285"
            ]
          },
          "metadata": {},
          "execution_count": 38
        }
      ]
    },
    {
      "cell_type": "code",
      "source": [
        "from sklearn.metrics import classification_report"
      ],
      "metadata": {
        "id": "2HJ5ktD2TV3c"
      },
      "execution_count": 39,
      "outputs": []
    },
    {
      "cell_type": "code",
      "source": [
        "print(classification_report(y_test, pred))"
      ],
      "metadata": {
        "colab": {
          "base_uri": "https://localhost:8080/"
        },
        "id": "tr4_rqsLTdw9",
        "outputId": "4748563e-5cd4-421e-989b-5083ce713f54"
      },
      "execution_count": 40,
      "outputs": [
        {
          "output_type": "stream",
          "name": "stdout",
          "text": [
            "              precision    recall  f1-score   support\n",
            "\n",
            "           0       1.00      1.00      1.00     28643\n",
            "           1       0.43      0.23      0.30        56\n",
            "\n",
            "    accuracy                           1.00     28699\n",
            "   macro avg       0.72      0.62      0.65     28699\n",
            "weighted avg       1.00      1.00      1.00     28699\n",
            "\n"
          ]
        }
      ]
    },
    {
      "cell_type": "markdown",
      "source": [
        "### Random forest model"
      ],
      "metadata": {
        "id": "xePLNF-gX7EV"
      }
    },
    {
      "cell_type": "code",
      "source": [
        "from sklearn.ensemble import RandomForestClassifier\n",
        "forest = RandomForestClassifier(n_estimators=100)\n",
        "forest.fit(rescaledX_train, y_train)"
      ],
      "metadata": {
        "colab": {
          "base_uri": "https://localhost:8080/"
        },
        "id": "q-ufoAx8Tu5E",
        "outputId": "7bbf93ef-85b4-4410-965e-74ec5fe77dbf"
      },
      "execution_count": 41,
      "outputs": [
        {
          "output_type": "stream",
          "name": "stderr",
          "text": [
            "<ipython-input-41-bbbbab638058>:3: DataConversionWarning: A column-vector y was passed when a 1d array was expected. Please change the shape of y to (n_samples,), for example using ravel().\n",
            "  forest.fit(rescaledX_train, y_train)\n"
          ]
        },
        {
          "output_type": "execute_result",
          "data": {
            "text/plain": [
              "RandomForestClassifier()"
            ]
          },
          "metadata": {},
          "execution_count": 41
        }
      ]
    },
    {
      "cell_type": "code",
      "source": [
        "pred_forest = forest.predict(rescaledX_test)"
      ],
      "metadata": {
        "id": "AoJh29B6USBb"
      },
      "execution_count": 42,
      "outputs": []
    },
    {
      "cell_type": "code",
      "source": [
        "forest.score(rescaledX_test, y_test)"
      ],
      "metadata": {
        "colab": {
          "base_uri": "https://localhost:8080/"
        },
        "id": "6njN00m2UcQW",
        "outputId": "fa6f596d-c92f-4b74-e154-7b14f46f2aea"
      },
      "execution_count": 43,
      "outputs": [
        {
          "output_type": "execute_result",
          "data": {
            "text/plain": [
              "0.9995818669640057"
            ]
          },
          "metadata": {},
          "execution_count": 43
        }
      ]
    },
    {
      "cell_type": "code",
      "source": [
        "print(classification_report(y_test, pred_forest))"
      ],
      "metadata": {
        "colab": {
          "base_uri": "https://localhost:8080/"
        },
        "id": "oe-2Fo6jUl3_",
        "outputId": "72b15d74-4ecc-4ce9-f00c-a5cecb2a6328"
      },
      "execution_count": 44,
      "outputs": [
        {
          "output_type": "stream",
          "name": "stdout",
          "text": [
            "              precision    recall  f1-score   support\n",
            "\n",
            "           0       1.00      1.00      1.00     28643\n",
            "           1       0.91      0.88      0.89        56\n",
            "\n",
            "    accuracy                           1.00     28699\n",
            "   macro avg       0.95      0.94      0.95     28699\n",
            "weighted avg       1.00      1.00      1.00     28699\n",
            "\n"
          ]
        }
      ]
    },
    {
      "cell_type": "markdown",
      "source": [
        "Random forest proved to be the optimal model as deduced from the classification report above. It gave better precision and recall for the positive class compared to the traditional logistic regression."
      ],
      "metadata": {
        "id": "bnz3aSXDKmot"
      }
    },
    {
      "cell_type": "markdown",
      "source": [
        "### Working on the test data"
      ],
      "metadata": {
        "id": "JXzh_uGZ_qvr"
      }
    },
    {
      "cell_type": "code",
      "source": [
        "test = pd.read_csv('/content/drive/MyDrive/Datasets/test.csv')\n",
        "test"
      ],
      "metadata": {
        "colab": {
          "base_uri": "https://localhost:8080/",
          "height": 488
        },
        "id": "9uV-0MntKp6o",
        "outputId": "4e9f96e5-047e-4f38-b2cb-fe669873b9a2"
      },
      "execution_count": 45,
      "outputs": [
        {
          "output_type": "execute_result",
          "data": {
            "text/plain": [
              "              TransactionId         BatchId       AccountId  \\\n",
              "0       TransactionId_50600   BatchId_35028  AccountId_2441   \n",
              "1       TransactionId_95109   BatchId_45139  AccountId_3439   \n",
              "2       TransactionId_47357   BatchId_74887  AccountId_4841   \n",
              "3       TransactionId_28185   BatchId_11025  AccountId_2685   \n",
              "4       TransactionId_22140   BatchId_29804  AccountId_4841   \n",
              "...                     ...             ...             ...   \n",
              "45014  TransactionId_116198  BatchId_117348  AccountId_4841   \n",
              "45015   TransactionId_24829   BatchId_53630  AccountId_4803   \n",
              "45016  TransactionId_102920  BatchId_112209  AccountId_4817   \n",
              "45017  TransactionId_128439   BatchId_58734  AccountId_4841   \n",
              "45018   TransactionId_45927   BatchId_98308  AccountId_4593   \n",
              "\n",
              "            SubscriptionId       CustomerId CurrencyCode  CountryCode  \\\n",
              "0      SubscriptionId_4426  CustomerId_2857          UGX          256   \n",
              "1      SubscriptionId_2643  CustomerId_3874          UGX          256   \n",
              "2      SubscriptionId_3829  CustomerId_2857          UGX          256   \n",
              "3      SubscriptionId_4626  CustomerId_3105          UGX          256   \n",
              "4      SubscriptionId_3829  CustomerId_3105          UGX          256   \n",
              "...                    ...              ...          ...          ...   \n",
              "45014  SubscriptionId_3829  CustomerId_5225          UGX          256   \n",
              "45015  SubscriptionId_1738  CustomerId_5272          UGX          256   \n",
              "45016  SubscriptionId_4613  CustomerId_5286          UGX          256   \n",
              "45017  SubscriptionId_3829  CustomerId_5286          UGX          256   \n",
              "45018  SubscriptionId_3866  CustomerId_5057          UGX          256   \n",
              "\n",
              "         ProviderId     ProductId     ProductCategory    ChannelId   Amount  \\\n",
              "0      ProviderId_5   ProductId_3             airtime  ChannelId_3   1000.0   \n",
              "1      ProviderId_5  ProductId_15  financial_services  ChannelId_3   2000.0   \n",
              "2      ProviderId_4   ProductId_6  financial_services  ChannelId_2    -50.0   \n",
              "3      ProviderId_5  ProductId_10             airtime  ChannelId_3   3000.0   \n",
              "4      ProviderId_4   ProductId_6  financial_services  ChannelId_2    -60.0   \n",
              "...             ...           ...                 ...          ...      ...   \n",
              "45014  ProviderId_4   ProductId_6  financial_services  ChannelId_3  -5000.0   \n",
              "45015  ProviderId_3  ProductId_10             airtime  ChannelId_3  10000.0   \n",
              "45016  ProviderId_3  ProductId_10             airtime  ChannelId_3  10000.0   \n",
              "45017  ProviderId_4   ProductId_6  financial_services  ChannelId_3  -5000.0   \n",
              "45018  ProviderId_5   ProductId_3             airtime  ChannelId_3   3500.0   \n",
              "\n",
              "       Value  TransactionStartTime  PricingStrategy  \n",
              "0       1000  2019-02-13T10:01:40Z                4  \n",
              "1       2000  2019-02-13T10:02:12Z                2  \n",
              "2         50  2019-02-13T10:02:30Z                2  \n",
              "3       3000  2019-02-13T10:02:38Z                4  \n",
              "4         60  2019-02-13T10:02:58Z                2  \n",
              "...      ...                   ...              ...  \n",
              "45014   5000  2019-03-14T23:56:28Z                2  \n",
              "45015  10000  2019-03-14T23:57:38Z                1  \n",
              "45016  10000  2019-03-14T23:59:17Z                1  \n",
              "45017   5000  2019-03-14T23:59:39Z                2  \n",
              "45018   3500  2019-03-14T23:59:51Z                4  \n",
              "\n",
              "[45019 rows x 15 columns]"
            ],
            "text/html": [
              "\n",
              "  <div id=\"df-65926784-f7c7-4e2f-86d8-82cead717946\">\n",
              "    <div class=\"colab-df-container\">\n",
              "      <div>\n",
              "<style scoped>\n",
              "    .dataframe tbody tr th:only-of-type {\n",
              "        vertical-align: middle;\n",
              "    }\n",
              "\n",
              "    .dataframe tbody tr th {\n",
              "        vertical-align: top;\n",
              "    }\n",
              "\n",
              "    .dataframe thead th {\n",
              "        text-align: right;\n",
              "    }\n",
              "</style>\n",
              "<table border=\"1\" class=\"dataframe\">\n",
              "  <thead>\n",
              "    <tr style=\"text-align: right;\">\n",
              "      <th></th>\n",
              "      <th>TransactionId</th>\n",
              "      <th>BatchId</th>\n",
              "      <th>AccountId</th>\n",
              "      <th>SubscriptionId</th>\n",
              "      <th>CustomerId</th>\n",
              "      <th>CurrencyCode</th>\n",
              "      <th>CountryCode</th>\n",
              "      <th>ProviderId</th>\n",
              "      <th>ProductId</th>\n",
              "      <th>ProductCategory</th>\n",
              "      <th>ChannelId</th>\n",
              "      <th>Amount</th>\n",
              "      <th>Value</th>\n",
              "      <th>TransactionStartTime</th>\n",
              "      <th>PricingStrategy</th>\n",
              "    </tr>\n",
              "  </thead>\n",
              "  <tbody>\n",
              "    <tr>\n",
              "      <th>0</th>\n",
              "      <td>TransactionId_50600</td>\n",
              "      <td>BatchId_35028</td>\n",
              "      <td>AccountId_2441</td>\n",
              "      <td>SubscriptionId_4426</td>\n",
              "      <td>CustomerId_2857</td>\n",
              "      <td>UGX</td>\n",
              "      <td>256</td>\n",
              "      <td>ProviderId_5</td>\n",
              "      <td>ProductId_3</td>\n",
              "      <td>airtime</td>\n",
              "      <td>ChannelId_3</td>\n",
              "      <td>1000.0</td>\n",
              "      <td>1000</td>\n",
              "      <td>2019-02-13T10:01:40Z</td>\n",
              "      <td>4</td>\n",
              "    </tr>\n",
              "    <tr>\n",
              "      <th>1</th>\n",
              "      <td>TransactionId_95109</td>\n",
              "      <td>BatchId_45139</td>\n",
              "      <td>AccountId_3439</td>\n",
              "      <td>SubscriptionId_2643</td>\n",
              "      <td>CustomerId_3874</td>\n",
              "      <td>UGX</td>\n",
              "      <td>256</td>\n",
              "      <td>ProviderId_5</td>\n",
              "      <td>ProductId_15</td>\n",
              "      <td>financial_services</td>\n",
              "      <td>ChannelId_3</td>\n",
              "      <td>2000.0</td>\n",
              "      <td>2000</td>\n",
              "      <td>2019-02-13T10:02:12Z</td>\n",
              "      <td>2</td>\n",
              "    </tr>\n",
              "    <tr>\n",
              "      <th>2</th>\n",
              "      <td>TransactionId_47357</td>\n",
              "      <td>BatchId_74887</td>\n",
              "      <td>AccountId_4841</td>\n",
              "      <td>SubscriptionId_3829</td>\n",
              "      <td>CustomerId_2857</td>\n",
              "      <td>UGX</td>\n",
              "      <td>256</td>\n",
              "      <td>ProviderId_4</td>\n",
              "      <td>ProductId_6</td>\n",
              "      <td>financial_services</td>\n",
              "      <td>ChannelId_2</td>\n",
              "      <td>-50.0</td>\n",
              "      <td>50</td>\n",
              "      <td>2019-02-13T10:02:30Z</td>\n",
              "      <td>2</td>\n",
              "    </tr>\n",
              "    <tr>\n",
              "      <th>3</th>\n",
              "      <td>TransactionId_28185</td>\n",
              "      <td>BatchId_11025</td>\n",
              "      <td>AccountId_2685</td>\n",
              "      <td>SubscriptionId_4626</td>\n",
              "      <td>CustomerId_3105</td>\n",
              "      <td>UGX</td>\n",
              "      <td>256</td>\n",
              "      <td>ProviderId_5</td>\n",
              "      <td>ProductId_10</td>\n",
              "      <td>airtime</td>\n",
              "      <td>ChannelId_3</td>\n",
              "      <td>3000.0</td>\n",
              "      <td>3000</td>\n",
              "      <td>2019-02-13T10:02:38Z</td>\n",
              "      <td>4</td>\n",
              "    </tr>\n",
              "    <tr>\n",
              "      <th>4</th>\n",
              "      <td>TransactionId_22140</td>\n",
              "      <td>BatchId_29804</td>\n",
              "      <td>AccountId_4841</td>\n",
              "      <td>SubscriptionId_3829</td>\n",
              "      <td>CustomerId_3105</td>\n",
              "      <td>UGX</td>\n",
              "      <td>256</td>\n",
              "      <td>ProviderId_4</td>\n",
              "      <td>ProductId_6</td>\n",
              "      <td>financial_services</td>\n",
              "      <td>ChannelId_2</td>\n",
              "      <td>-60.0</td>\n",
              "      <td>60</td>\n",
              "      <td>2019-02-13T10:02:58Z</td>\n",
              "      <td>2</td>\n",
              "    </tr>\n",
              "    <tr>\n",
              "      <th>...</th>\n",
              "      <td>...</td>\n",
              "      <td>...</td>\n",
              "      <td>...</td>\n",
              "      <td>...</td>\n",
              "      <td>...</td>\n",
              "      <td>...</td>\n",
              "      <td>...</td>\n",
              "      <td>...</td>\n",
              "      <td>...</td>\n",
              "      <td>...</td>\n",
              "      <td>...</td>\n",
              "      <td>...</td>\n",
              "      <td>...</td>\n",
              "      <td>...</td>\n",
              "      <td>...</td>\n",
              "    </tr>\n",
              "    <tr>\n",
              "      <th>45014</th>\n",
              "      <td>TransactionId_116198</td>\n",
              "      <td>BatchId_117348</td>\n",
              "      <td>AccountId_4841</td>\n",
              "      <td>SubscriptionId_3829</td>\n",
              "      <td>CustomerId_5225</td>\n",
              "      <td>UGX</td>\n",
              "      <td>256</td>\n",
              "      <td>ProviderId_4</td>\n",
              "      <td>ProductId_6</td>\n",
              "      <td>financial_services</td>\n",
              "      <td>ChannelId_3</td>\n",
              "      <td>-5000.0</td>\n",
              "      <td>5000</td>\n",
              "      <td>2019-03-14T23:56:28Z</td>\n",
              "      <td>2</td>\n",
              "    </tr>\n",
              "    <tr>\n",
              "      <th>45015</th>\n",
              "      <td>TransactionId_24829</td>\n",
              "      <td>BatchId_53630</td>\n",
              "      <td>AccountId_4803</td>\n",
              "      <td>SubscriptionId_1738</td>\n",
              "      <td>CustomerId_5272</td>\n",
              "      <td>UGX</td>\n",
              "      <td>256</td>\n",
              "      <td>ProviderId_3</td>\n",
              "      <td>ProductId_10</td>\n",
              "      <td>airtime</td>\n",
              "      <td>ChannelId_3</td>\n",
              "      <td>10000.0</td>\n",
              "      <td>10000</td>\n",
              "      <td>2019-03-14T23:57:38Z</td>\n",
              "      <td>1</td>\n",
              "    </tr>\n",
              "    <tr>\n",
              "      <th>45016</th>\n",
              "      <td>TransactionId_102920</td>\n",
              "      <td>BatchId_112209</td>\n",
              "      <td>AccountId_4817</td>\n",
              "      <td>SubscriptionId_4613</td>\n",
              "      <td>CustomerId_5286</td>\n",
              "      <td>UGX</td>\n",
              "      <td>256</td>\n",
              "      <td>ProviderId_3</td>\n",
              "      <td>ProductId_10</td>\n",
              "      <td>airtime</td>\n",
              "      <td>ChannelId_3</td>\n",
              "      <td>10000.0</td>\n",
              "      <td>10000</td>\n",
              "      <td>2019-03-14T23:59:17Z</td>\n",
              "      <td>1</td>\n",
              "    </tr>\n",
              "    <tr>\n",
              "      <th>45017</th>\n",
              "      <td>TransactionId_128439</td>\n",
              "      <td>BatchId_58734</td>\n",
              "      <td>AccountId_4841</td>\n",
              "      <td>SubscriptionId_3829</td>\n",
              "      <td>CustomerId_5286</td>\n",
              "      <td>UGX</td>\n",
              "      <td>256</td>\n",
              "      <td>ProviderId_4</td>\n",
              "      <td>ProductId_6</td>\n",
              "      <td>financial_services</td>\n",
              "      <td>ChannelId_3</td>\n",
              "      <td>-5000.0</td>\n",
              "      <td>5000</td>\n",
              "      <td>2019-03-14T23:59:39Z</td>\n",
              "      <td>2</td>\n",
              "    </tr>\n",
              "    <tr>\n",
              "      <th>45018</th>\n",
              "      <td>TransactionId_45927</td>\n",
              "      <td>BatchId_98308</td>\n",
              "      <td>AccountId_4593</td>\n",
              "      <td>SubscriptionId_3866</td>\n",
              "      <td>CustomerId_5057</td>\n",
              "      <td>UGX</td>\n",
              "      <td>256</td>\n",
              "      <td>ProviderId_5</td>\n",
              "      <td>ProductId_3</td>\n",
              "      <td>airtime</td>\n",
              "      <td>ChannelId_3</td>\n",
              "      <td>3500.0</td>\n",
              "      <td>3500</td>\n",
              "      <td>2019-03-14T23:59:51Z</td>\n",
              "      <td>4</td>\n",
              "    </tr>\n",
              "  </tbody>\n",
              "</table>\n",
              "<p>45019 rows × 15 columns</p>\n",
              "</div>\n",
              "      <button class=\"colab-df-convert\" onclick=\"convertToInteractive('df-65926784-f7c7-4e2f-86d8-82cead717946')\"\n",
              "              title=\"Convert this dataframe to an interactive table.\"\n",
              "              style=\"display:none;\">\n",
              "        \n",
              "  <svg xmlns=\"http://www.w3.org/2000/svg\" height=\"24px\"viewBox=\"0 0 24 24\"\n",
              "       width=\"24px\">\n",
              "    <path d=\"M0 0h24v24H0V0z\" fill=\"none\"/>\n",
              "    <path d=\"M18.56 5.44l.94 2.06.94-2.06 2.06-.94-2.06-.94-.94-2.06-.94 2.06-2.06.94zm-11 1L8.5 8.5l.94-2.06 2.06-.94-2.06-.94L8.5 2.5l-.94 2.06-2.06.94zm10 10l.94 2.06.94-2.06 2.06-.94-2.06-.94-.94-2.06-.94 2.06-2.06.94z\"/><path d=\"M17.41 7.96l-1.37-1.37c-.4-.4-.92-.59-1.43-.59-.52 0-1.04.2-1.43.59L10.3 9.45l-7.72 7.72c-.78.78-.78 2.05 0 2.83L4 21.41c.39.39.9.59 1.41.59.51 0 1.02-.2 1.41-.59l7.78-7.78 2.81-2.81c.8-.78.8-2.07 0-2.86zM5.41 20L4 18.59l7.72-7.72 1.47 1.35L5.41 20z\"/>\n",
              "  </svg>\n",
              "      </button>\n",
              "      \n",
              "  <style>\n",
              "    .colab-df-container {\n",
              "      display:flex;\n",
              "      flex-wrap:wrap;\n",
              "      gap: 12px;\n",
              "    }\n",
              "\n",
              "    .colab-df-convert {\n",
              "      background-color: #E8F0FE;\n",
              "      border: none;\n",
              "      border-radius: 50%;\n",
              "      cursor: pointer;\n",
              "      display: none;\n",
              "      fill: #1967D2;\n",
              "      height: 32px;\n",
              "      padding: 0 0 0 0;\n",
              "      width: 32px;\n",
              "    }\n",
              "\n",
              "    .colab-df-convert:hover {\n",
              "      background-color: #E2EBFA;\n",
              "      box-shadow: 0px 1px 2px rgba(60, 64, 67, 0.3), 0px 1px 3px 1px rgba(60, 64, 67, 0.15);\n",
              "      fill: #174EA6;\n",
              "    }\n",
              "\n",
              "    [theme=dark] .colab-df-convert {\n",
              "      background-color: #3B4455;\n",
              "      fill: #D2E3FC;\n",
              "    }\n",
              "\n",
              "    [theme=dark] .colab-df-convert:hover {\n",
              "      background-color: #434B5C;\n",
              "      box-shadow: 0px 1px 3px 1px rgba(0, 0, 0, 0.15);\n",
              "      filter: drop-shadow(0px 1px 2px rgba(0, 0, 0, 0.3));\n",
              "      fill: #FFFFFF;\n",
              "    }\n",
              "  </style>\n",
              "\n",
              "      <script>\n",
              "        const buttonEl =\n",
              "          document.querySelector('#df-65926784-f7c7-4e2f-86d8-82cead717946 button.colab-df-convert');\n",
              "        buttonEl.style.display =\n",
              "          google.colab.kernel.accessAllowed ? 'block' : 'none';\n",
              "\n",
              "        async function convertToInteractive(key) {\n",
              "          const element = document.querySelector('#df-65926784-f7c7-4e2f-86d8-82cead717946');\n",
              "          const dataTable =\n",
              "            await google.colab.kernel.invokeFunction('convertToInteractive',\n",
              "                                                     [key], {});\n",
              "          if (!dataTable) return;\n",
              "\n",
              "          const docLinkHtml = 'Like what you see? Visit the ' +\n",
              "            '<a target=\"_blank\" href=https://colab.research.google.com/notebooks/data_table.ipynb>data table notebook</a>'\n",
              "            + ' to learn more about interactive tables.';\n",
              "          element.innerHTML = '';\n",
              "          dataTable['output_type'] = 'display_data';\n",
              "          await google.colab.output.renderOutput(dataTable, element);\n",
              "          const docLink = document.createElement('div');\n",
              "          docLink.innerHTML = docLinkHtml;\n",
              "          element.appendChild(docLink);\n",
              "        }\n",
              "      </script>\n",
              "    </div>\n",
              "  </div>\n",
              "  "
            ]
          },
          "metadata": {},
          "execution_count": 45
        }
      ]
    },
    {
      "cell_type": "code",
      "source": [
        "\n",
        "#converting the transaction start time column to datetime\n",
        "test['TransactionStartTime'] = pd.to_datetime(test['TransactionStartTime'])"
      ],
      "metadata": {
        "id": "UX0BWkqAL1q8"
      },
      "execution_count": 46,
      "outputs": []
    },
    {
      "cell_type": "code",
      "source": [
        "test['Month'] = test['TransactionStartTime'].dt.month"
      ],
      "metadata": {
        "id": "wjnS1GhyMFrF"
      },
      "execution_count": 47,
      "outputs": []
    },
    {
      "cell_type": "code",
      "source": [
        "test['Year'] = test['TransactionStartTime'].dt.year"
      ],
      "metadata": {
        "id": "Y8b3H1LBMGVB"
      },
      "execution_count": 48,
      "outputs": []
    },
    {
      "cell_type": "code",
      "source": [
        "test['Day'] = test['TransactionStartTime'].dt.day"
      ],
      "metadata": {
        "id": "LlKftQV2MHXD"
      },
      "execution_count": 49,
      "outputs": []
    },
    {
      "cell_type": "code",
      "source": [
        "test"
      ],
      "metadata": {
        "colab": {
          "base_uri": "https://localhost:8080/",
          "height": 661
        },
        "id": "dUc3R6YJMstD",
        "outputId": "da9a8533-d8df-43c6-df54-751989f3d5d4"
      },
      "execution_count": 50,
      "outputs": [
        {
          "output_type": "execute_result",
          "data": {
            "text/plain": [
              "              TransactionId         BatchId       AccountId  \\\n",
              "0       TransactionId_50600   BatchId_35028  AccountId_2441   \n",
              "1       TransactionId_95109   BatchId_45139  AccountId_3439   \n",
              "2       TransactionId_47357   BatchId_74887  AccountId_4841   \n",
              "3       TransactionId_28185   BatchId_11025  AccountId_2685   \n",
              "4       TransactionId_22140   BatchId_29804  AccountId_4841   \n",
              "...                     ...             ...             ...   \n",
              "45014  TransactionId_116198  BatchId_117348  AccountId_4841   \n",
              "45015   TransactionId_24829   BatchId_53630  AccountId_4803   \n",
              "45016  TransactionId_102920  BatchId_112209  AccountId_4817   \n",
              "45017  TransactionId_128439   BatchId_58734  AccountId_4841   \n",
              "45018   TransactionId_45927   BatchId_98308  AccountId_4593   \n",
              "\n",
              "            SubscriptionId       CustomerId CurrencyCode  CountryCode  \\\n",
              "0      SubscriptionId_4426  CustomerId_2857          UGX          256   \n",
              "1      SubscriptionId_2643  CustomerId_3874          UGX          256   \n",
              "2      SubscriptionId_3829  CustomerId_2857          UGX          256   \n",
              "3      SubscriptionId_4626  CustomerId_3105          UGX          256   \n",
              "4      SubscriptionId_3829  CustomerId_3105          UGX          256   \n",
              "...                    ...              ...          ...          ...   \n",
              "45014  SubscriptionId_3829  CustomerId_5225          UGX          256   \n",
              "45015  SubscriptionId_1738  CustomerId_5272          UGX          256   \n",
              "45016  SubscriptionId_4613  CustomerId_5286          UGX          256   \n",
              "45017  SubscriptionId_3829  CustomerId_5286          UGX          256   \n",
              "45018  SubscriptionId_3866  CustomerId_5057          UGX          256   \n",
              "\n",
              "         ProviderId     ProductId     ProductCategory    ChannelId   Amount  \\\n",
              "0      ProviderId_5   ProductId_3             airtime  ChannelId_3   1000.0   \n",
              "1      ProviderId_5  ProductId_15  financial_services  ChannelId_3   2000.0   \n",
              "2      ProviderId_4   ProductId_6  financial_services  ChannelId_2    -50.0   \n",
              "3      ProviderId_5  ProductId_10             airtime  ChannelId_3   3000.0   \n",
              "4      ProviderId_4   ProductId_6  financial_services  ChannelId_2    -60.0   \n",
              "...             ...           ...                 ...          ...      ...   \n",
              "45014  ProviderId_4   ProductId_6  financial_services  ChannelId_3  -5000.0   \n",
              "45015  ProviderId_3  ProductId_10             airtime  ChannelId_3  10000.0   \n",
              "45016  ProviderId_3  ProductId_10             airtime  ChannelId_3  10000.0   \n",
              "45017  ProviderId_4   ProductId_6  financial_services  ChannelId_3  -5000.0   \n",
              "45018  ProviderId_5   ProductId_3             airtime  ChannelId_3   3500.0   \n",
              "\n",
              "       Value      TransactionStartTime  PricingStrategy  Month  Year  Day  \n",
              "0       1000 2019-02-13 10:01:40+00:00                4      2  2019   13  \n",
              "1       2000 2019-02-13 10:02:12+00:00                2      2  2019   13  \n",
              "2         50 2019-02-13 10:02:30+00:00                2      2  2019   13  \n",
              "3       3000 2019-02-13 10:02:38+00:00                4      2  2019   13  \n",
              "4         60 2019-02-13 10:02:58+00:00                2      2  2019   13  \n",
              "...      ...                       ...              ...    ...   ...  ...  \n",
              "45014   5000 2019-03-14 23:56:28+00:00                2      3  2019   14  \n",
              "45015  10000 2019-03-14 23:57:38+00:00                1      3  2019   14  \n",
              "45016  10000 2019-03-14 23:59:17+00:00                1      3  2019   14  \n",
              "45017   5000 2019-03-14 23:59:39+00:00                2      3  2019   14  \n",
              "45018   3500 2019-03-14 23:59:51+00:00                4      3  2019   14  \n",
              "\n",
              "[45019 rows x 18 columns]"
            ],
            "text/html": [
              "\n",
              "  <div id=\"df-a2dc0274-bf36-4890-af0d-53126666840b\">\n",
              "    <div class=\"colab-df-container\">\n",
              "      <div>\n",
              "<style scoped>\n",
              "    .dataframe tbody tr th:only-of-type {\n",
              "        vertical-align: middle;\n",
              "    }\n",
              "\n",
              "    .dataframe tbody tr th {\n",
              "        vertical-align: top;\n",
              "    }\n",
              "\n",
              "    .dataframe thead th {\n",
              "        text-align: right;\n",
              "    }\n",
              "</style>\n",
              "<table border=\"1\" class=\"dataframe\">\n",
              "  <thead>\n",
              "    <tr style=\"text-align: right;\">\n",
              "      <th></th>\n",
              "      <th>TransactionId</th>\n",
              "      <th>BatchId</th>\n",
              "      <th>AccountId</th>\n",
              "      <th>SubscriptionId</th>\n",
              "      <th>CustomerId</th>\n",
              "      <th>CurrencyCode</th>\n",
              "      <th>CountryCode</th>\n",
              "      <th>ProviderId</th>\n",
              "      <th>ProductId</th>\n",
              "      <th>ProductCategory</th>\n",
              "      <th>ChannelId</th>\n",
              "      <th>Amount</th>\n",
              "      <th>Value</th>\n",
              "      <th>TransactionStartTime</th>\n",
              "      <th>PricingStrategy</th>\n",
              "      <th>Month</th>\n",
              "      <th>Year</th>\n",
              "      <th>Day</th>\n",
              "    </tr>\n",
              "  </thead>\n",
              "  <tbody>\n",
              "    <tr>\n",
              "      <th>0</th>\n",
              "      <td>TransactionId_50600</td>\n",
              "      <td>BatchId_35028</td>\n",
              "      <td>AccountId_2441</td>\n",
              "      <td>SubscriptionId_4426</td>\n",
              "      <td>CustomerId_2857</td>\n",
              "      <td>UGX</td>\n",
              "      <td>256</td>\n",
              "      <td>ProviderId_5</td>\n",
              "      <td>ProductId_3</td>\n",
              "      <td>airtime</td>\n",
              "      <td>ChannelId_3</td>\n",
              "      <td>1000.0</td>\n",
              "      <td>1000</td>\n",
              "      <td>2019-02-13 10:01:40+00:00</td>\n",
              "      <td>4</td>\n",
              "      <td>2</td>\n",
              "      <td>2019</td>\n",
              "      <td>13</td>\n",
              "    </tr>\n",
              "    <tr>\n",
              "      <th>1</th>\n",
              "      <td>TransactionId_95109</td>\n",
              "      <td>BatchId_45139</td>\n",
              "      <td>AccountId_3439</td>\n",
              "      <td>SubscriptionId_2643</td>\n",
              "      <td>CustomerId_3874</td>\n",
              "      <td>UGX</td>\n",
              "      <td>256</td>\n",
              "      <td>ProviderId_5</td>\n",
              "      <td>ProductId_15</td>\n",
              "      <td>financial_services</td>\n",
              "      <td>ChannelId_3</td>\n",
              "      <td>2000.0</td>\n",
              "      <td>2000</td>\n",
              "      <td>2019-02-13 10:02:12+00:00</td>\n",
              "      <td>2</td>\n",
              "      <td>2</td>\n",
              "      <td>2019</td>\n",
              "      <td>13</td>\n",
              "    </tr>\n",
              "    <tr>\n",
              "      <th>2</th>\n",
              "      <td>TransactionId_47357</td>\n",
              "      <td>BatchId_74887</td>\n",
              "      <td>AccountId_4841</td>\n",
              "      <td>SubscriptionId_3829</td>\n",
              "      <td>CustomerId_2857</td>\n",
              "      <td>UGX</td>\n",
              "      <td>256</td>\n",
              "      <td>ProviderId_4</td>\n",
              "      <td>ProductId_6</td>\n",
              "      <td>financial_services</td>\n",
              "      <td>ChannelId_2</td>\n",
              "      <td>-50.0</td>\n",
              "      <td>50</td>\n",
              "      <td>2019-02-13 10:02:30+00:00</td>\n",
              "      <td>2</td>\n",
              "      <td>2</td>\n",
              "      <td>2019</td>\n",
              "      <td>13</td>\n",
              "    </tr>\n",
              "    <tr>\n",
              "      <th>3</th>\n",
              "      <td>TransactionId_28185</td>\n",
              "      <td>BatchId_11025</td>\n",
              "      <td>AccountId_2685</td>\n",
              "      <td>SubscriptionId_4626</td>\n",
              "      <td>CustomerId_3105</td>\n",
              "      <td>UGX</td>\n",
              "      <td>256</td>\n",
              "      <td>ProviderId_5</td>\n",
              "      <td>ProductId_10</td>\n",
              "      <td>airtime</td>\n",
              "      <td>ChannelId_3</td>\n",
              "      <td>3000.0</td>\n",
              "      <td>3000</td>\n",
              "      <td>2019-02-13 10:02:38+00:00</td>\n",
              "      <td>4</td>\n",
              "      <td>2</td>\n",
              "      <td>2019</td>\n",
              "      <td>13</td>\n",
              "    </tr>\n",
              "    <tr>\n",
              "      <th>4</th>\n",
              "      <td>TransactionId_22140</td>\n",
              "      <td>BatchId_29804</td>\n",
              "      <td>AccountId_4841</td>\n",
              "      <td>SubscriptionId_3829</td>\n",
              "      <td>CustomerId_3105</td>\n",
              "      <td>UGX</td>\n",
              "      <td>256</td>\n",
              "      <td>ProviderId_4</td>\n",
              "      <td>ProductId_6</td>\n",
              "      <td>financial_services</td>\n",
              "      <td>ChannelId_2</td>\n",
              "      <td>-60.0</td>\n",
              "      <td>60</td>\n",
              "      <td>2019-02-13 10:02:58+00:00</td>\n",
              "      <td>2</td>\n",
              "      <td>2</td>\n",
              "      <td>2019</td>\n",
              "      <td>13</td>\n",
              "    </tr>\n",
              "    <tr>\n",
              "      <th>...</th>\n",
              "      <td>...</td>\n",
              "      <td>...</td>\n",
              "      <td>...</td>\n",
              "      <td>...</td>\n",
              "      <td>...</td>\n",
              "      <td>...</td>\n",
              "      <td>...</td>\n",
              "      <td>...</td>\n",
              "      <td>...</td>\n",
              "      <td>...</td>\n",
              "      <td>...</td>\n",
              "      <td>...</td>\n",
              "      <td>...</td>\n",
              "      <td>...</td>\n",
              "      <td>...</td>\n",
              "      <td>...</td>\n",
              "      <td>...</td>\n",
              "      <td>...</td>\n",
              "    </tr>\n",
              "    <tr>\n",
              "      <th>45014</th>\n",
              "      <td>TransactionId_116198</td>\n",
              "      <td>BatchId_117348</td>\n",
              "      <td>AccountId_4841</td>\n",
              "      <td>SubscriptionId_3829</td>\n",
              "      <td>CustomerId_5225</td>\n",
              "      <td>UGX</td>\n",
              "      <td>256</td>\n",
              "      <td>ProviderId_4</td>\n",
              "      <td>ProductId_6</td>\n",
              "      <td>financial_services</td>\n",
              "      <td>ChannelId_3</td>\n",
              "      <td>-5000.0</td>\n",
              "      <td>5000</td>\n",
              "      <td>2019-03-14 23:56:28+00:00</td>\n",
              "      <td>2</td>\n",
              "      <td>3</td>\n",
              "      <td>2019</td>\n",
              "      <td>14</td>\n",
              "    </tr>\n",
              "    <tr>\n",
              "      <th>45015</th>\n",
              "      <td>TransactionId_24829</td>\n",
              "      <td>BatchId_53630</td>\n",
              "      <td>AccountId_4803</td>\n",
              "      <td>SubscriptionId_1738</td>\n",
              "      <td>CustomerId_5272</td>\n",
              "      <td>UGX</td>\n",
              "      <td>256</td>\n",
              "      <td>ProviderId_3</td>\n",
              "      <td>ProductId_10</td>\n",
              "      <td>airtime</td>\n",
              "      <td>ChannelId_3</td>\n",
              "      <td>10000.0</td>\n",
              "      <td>10000</td>\n",
              "      <td>2019-03-14 23:57:38+00:00</td>\n",
              "      <td>1</td>\n",
              "      <td>3</td>\n",
              "      <td>2019</td>\n",
              "      <td>14</td>\n",
              "    </tr>\n",
              "    <tr>\n",
              "      <th>45016</th>\n",
              "      <td>TransactionId_102920</td>\n",
              "      <td>BatchId_112209</td>\n",
              "      <td>AccountId_4817</td>\n",
              "      <td>SubscriptionId_4613</td>\n",
              "      <td>CustomerId_5286</td>\n",
              "      <td>UGX</td>\n",
              "      <td>256</td>\n",
              "      <td>ProviderId_3</td>\n",
              "      <td>ProductId_10</td>\n",
              "      <td>airtime</td>\n",
              "      <td>ChannelId_3</td>\n",
              "      <td>10000.0</td>\n",
              "      <td>10000</td>\n",
              "      <td>2019-03-14 23:59:17+00:00</td>\n",
              "      <td>1</td>\n",
              "      <td>3</td>\n",
              "      <td>2019</td>\n",
              "      <td>14</td>\n",
              "    </tr>\n",
              "    <tr>\n",
              "      <th>45017</th>\n",
              "      <td>TransactionId_128439</td>\n",
              "      <td>BatchId_58734</td>\n",
              "      <td>AccountId_4841</td>\n",
              "      <td>SubscriptionId_3829</td>\n",
              "      <td>CustomerId_5286</td>\n",
              "      <td>UGX</td>\n",
              "      <td>256</td>\n",
              "      <td>ProviderId_4</td>\n",
              "      <td>ProductId_6</td>\n",
              "      <td>financial_services</td>\n",
              "      <td>ChannelId_3</td>\n",
              "      <td>-5000.0</td>\n",
              "      <td>5000</td>\n",
              "      <td>2019-03-14 23:59:39+00:00</td>\n",
              "      <td>2</td>\n",
              "      <td>3</td>\n",
              "      <td>2019</td>\n",
              "      <td>14</td>\n",
              "    </tr>\n",
              "    <tr>\n",
              "      <th>45018</th>\n",
              "      <td>TransactionId_45927</td>\n",
              "      <td>BatchId_98308</td>\n",
              "      <td>AccountId_4593</td>\n",
              "      <td>SubscriptionId_3866</td>\n",
              "      <td>CustomerId_5057</td>\n",
              "      <td>UGX</td>\n",
              "      <td>256</td>\n",
              "      <td>ProviderId_5</td>\n",
              "      <td>ProductId_3</td>\n",
              "      <td>airtime</td>\n",
              "      <td>ChannelId_3</td>\n",
              "      <td>3500.0</td>\n",
              "      <td>3500</td>\n",
              "      <td>2019-03-14 23:59:51+00:00</td>\n",
              "      <td>4</td>\n",
              "      <td>3</td>\n",
              "      <td>2019</td>\n",
              "      <td>14</td>\n",
              "    </tr>\n",
              "  </tbody>\n",
              "</table>\n",
              "<p>45019 rows × 18 columns</p>\n",
              "</div>\n",
              "      <button class=\"colab-df-convert\" onclick=\"convertToInteractive('df-a2dc0274-bf36-4890-af0d-53126666840b')\"\n",
              "              title=\"Convert this dataframe to an interactive table.\"\n",
              "              style=\"display:none;\">\n",
              "        \n",
              "  <svg xmlns=\"http://www.w3.org/2000/svg\" height=\"24px\"viewBox=\"0 0 24 24\"\n",
              "       width=\"24px\">\n",
              "    <path d=\"M0 0h24v24H0V0z\" fill=\"none\"/>\n",
              "    <path d=\"M18.56 5.44l.94 2.06.94-2.06 2.06-.94-2.06-.94-.94-2.06-.94 2.06-2.06.94zm-11 1L8.5 8.5l.94-2.06 2.06-.94-2.06-.94L8.5 2.5l-.94 2.06-2.06.94zm10 10l.94 2.06.94-2.06 2.06-.94-2.06-.94-.94-2.06-.94 2.06-2.06.94z\"/><path d=\"M17.41 7.96l-1.37-1.37c-.4-.4-.92-.59-1.43-.59-.52 0-1.04.2-1.43.59L10.3 9.45l-7.72 7.72c-.78.78-.78 2.05 0 2.83L4 21.41c.39.39.9.59 1.41.59.51 0 1.02-.2 1.41-.59l7.78-7.78 2.81-2.81c.8-.78.8-2.07 0-2.86zM5.41 20L4 18.59l7.72-7.72 1.47 1.35L5.41 20z\"/>\n",
              "  </svg>\n",
              "      </button>\n",
              "      \n",
              "  <style>\n",
              "    .colab-df-container {\n",
              "      display:flex;\n",
              "      flex-wrap:wrap;\n",
              "      gap: 12px;\n",
              "    }\n",
              "\n",
              "    .colab-df-convert {\n",
              "      background-color: #E8F0FE;\n",
              "      border: none;\n",
              "      border-radius: 50%;\n",
              "      cursor: pointer;\n",
              "      display: none;\n",
              "      fill: #1967D2;\n",
              "      height: 32px;\n",
              "      padding: 0 0 0 0;\n",
              "      width: 32px;\n",
              "    }\n",
              "\n",
              "    .colab-df-convert:hover {\n",
              "      background-color: #E2EBFA;\n",
              "      box-shadow: 0px 1px 2px rgba(60, 64, 67, 0.3), 0px 1px 3px 1px rgba(60, 64, 67, 0.15);\n",
              "      fill: #174EA6;\n",
              "    }\n",
              "\n",
              "    [theme=dark] .colab-df-convert {\n",
              "      background-color: #3B4455;\n",
              "      fill: #D2E3FC;\n",
              "    }\n",
              "\n",
              "    [theme=dark] .colab-df-convert:hover {\n",
              "      background-color: #434B5C;\n",
              "      box-shadow: 0px 1px 3px 1px rgba(0, 0, 0, 0.15);\n",
              "      filter: drop-shadow(0px 1px 2px rgba(0, 0, 0, 0.3));\n",
              "      fill: #FFFFFF;\n",
              "    }\n",
              "  </style>\n",
              "\n",
              "      <script>\n",
              "        const buttonEl =\n",
              "          document.querySelector('#df-a2dc0274-bf36-4890-af0d-53126666840b button.colab-df-convert');\n",
              "        buttonEl.style.display =\n",
              "          google.colab.kernel.accessAllowed ? 'block' : 'none';\n",
              "\n",
              "        async function convertToInteractive(key) {\n",
              "          const element = document.querySelector('#df-a2dc0274-bf36-4890-af0d-53126666840b');\n",
              "          const dataTable =\n",
              "            await google.colab.kernel.invokeFunction('convertToInteractive',\n",
              "                                                     [key], {});\n",
              "          if (!dataTable) return;\n",
              "\n",
              "          const docLinkHtml = 'Like what you see? Visit the ' +\n",
              "            '<a target=\"_blank\" href=https://colab.research.google.com/notebooks/data_table.ipynb>data table notebook</a>'\n",
              "            + ' to learn more about interactive tables.';\n",
              "          element.innerHTML = '';\n",
              "          dataTable['output_type'] = 'display_data';\n",
              "          await google.colab.output.renderOutput(dataTable, element);\n",
              "          const docLink = document.createElement('div');\n",
              "          docLink.innerHTML = docLinkHtml;\n",
              "          element.appendChild(docLink);\n",
              "        }\n",
              "      </script>\n",
              "    </div>\n",
              "  </div>\n",
              "  "
            ]
          },
          "metadata": {},
          "execution_count": 50
        }
      ]
    },
    {
      "cell_type": "code",
      "source": [
        "cat_cols\n",
        "for col in cat_cols:\n",
        "    print(test[col].value_counts())"
      ],
      "metadata": {
        "colab": {
          "base_uri": "https://localhost:8080/"
        },
        "id": "iT-Qk8vgPUMx",
        "outputId": "bb849d0e-954b-49a1-acab-6fa5e1e5ca81"
      },
      "execution_count": 51,
      "outputs": [
        {
          "output_type": "stream",
          "name": "stdout",
          "text": [
            "ProviderId_4    18256\n",
            "ProviderId_6    15821\n",
            "ProviderId_5     6977\n",
            "ProviderId_1     2391\n",
            "ProviderId_3     1568\n",
            "ProviderId_2        6\n",
            "Name: ProviderId, dtype: int64\n",
            "financial_services    21700\n",
            "airtime               20923\n",
            "data_bundles            914\n",
            "utility_bill            740\n",
            "tv                      459\n",
            "retail                  184\n",
            "movies                   78\n",
            "ticket                   16\n",
            "transport                 5\n",
            "Name: ProductCategory, dtype: int64\n",
            "ChannelId_3    38090\n",
            "ChannelId_2     6198\n",
            "ChannelId_5      602\n",
            "ChannelId_1      102\n",
            "ChannelId_4       27\n",
            "Name: ChannelId, dtype: int64\n",
            "ProductId_6     15186\n",
            "ProductId_3     10310\n",
            "ProductId_10     8482\n",
            "ProductId_15     6007\n",
            "ProductId_1      1212\n",
            "ProductId_4       875\n",
            "ProductId_11      867\n",
            "ProductId_21      566\n",
            "ProductId_14      473\n",
            "ProductId_19      334\n",
            "ProductId_26      184\n",
            "ProductId_13      105\n",
            "ProductId_24       78\n",
            "ProductId_8        74\n",
            "ProductId_22       69\n",
            "ProductId_7        42\n",
            "ProductId_2        41\n",
            "ProductId_16       35\n",
            "ProductId_25       31\n",
            "ProductId_20       16\n",
            "ProductId_27        9\n",
            "ProductId_18        7\n",
            "ProductId_17        6\n",
            "ProductId_5         5\n",
            "ProductId_9         3\n",
            "ProductId_23        2\n",
            "Name: ProductId, dtype: int64\n"
          ]
        }
      ]
    },
    {
      "cell_type": "code",
      "source": [
        "lex = LabelEncoder()\n",
        "for cat_col in cat_cols:\n",
        "  test[cat_col] = lex.fit_transform(test[cat_col])"
      ],
      "metadata": {
        "id": "v7RjcWSMQQAF"
      },
      "execution_count": 52,
      "outputs": []
    },
    {
      "cell_type": "code",
      "source": [
        "for col in cat_cols:\n",
        "    print(test[col].value_counts())"
      ],
      "metadata": {
        "colab": {
          "base_uri": "https://localhost:8080/"
        },
        "id": "7um8Xdo9QZnD",
        "outputId": "bd65e3de-d89b-4e0b-e1f6-465879734c86"
      },
      "execution_count": 53,
      "outputs": [
        {
          "output_type": "stream",
          "name": "stdout",
          "text": [
            "3    18256\n",
            "5    15821\n",
            "4     6977\n",
            "0     2391\n",
            "2     1568\n",
            "1        6\n",
            "Name: ProviderId, dtype: int64\n",
            "2    21700\n",
            "0    20923\n",
            "1      914\n",
            "8      740\n",
            "7      459\n",
            "4      184\n",
            "3       78\n",
            "5       16\n",
            "6        5\n",
            "Name: ProductCategory, dtype: int64\n",
            "2    38090\n",
            "1     6198\n",
            "4      602\n",
            "0      102\n",
            "3       27\n",
            "Name: ChannelId, dtype: int64\n",
            "22    15186\n",
            "19    10310\n",
            "1      8482\n",
            "5      6007\n",
            "0      1212\n",
            "20      875\n",
            "2       867\n",
            "12      566\n",
            "4       473\n",
            "9       334\n",
            "17      184\n",
            "3       105\n",
            "15       78\n",
            "24       74\n",
            "13       69\n",
            "23       42\n",
            "10       41\n",
            "6        35\n",
            "16       31\n",
            "11       16\n",
            "18        9\n",
            "8         7\n",
            "7         6\n",
            "21        5\n",
            "25        3\n",
            "14        2\n",
            "Name: ProductId, dtype: int64\n"
          ]
        }
      ]
    },
    {
      "cell_type": "code",
      "source": [
        "test['Credit'] = test['Amount'].apply(credit)\n",
        "test['Credit']"
      ],
      "metadata": {
        "colab": {
          "base_uri": "https://localhost:8080/"
        },
        "id": "knW2gpvuVGhg",
        "outputId": "920f3a8f-6620-41ef-e617-25cae91fa7a4"
      },
      "execution_count": 54,
      "outputs": [
        {
          "output_type": "execute_result",
          "data": {
            "text/plain": [
              "0        1\n",
              "1        1\n",
              "2        0\n",
              "3        1\n",
              "4        0\n",
              "        ..\n",
              "45014    0\n",
              "45015    1\n",
              "45016    1\n",
              "45017    0\n",
              "45018    1\n",
              "Name: Credit, Length: 45019, dtype: int64"
            ]
          },
          "metadata": {},
          "execution_count": 54
        }
      ]
    },
    {
      "cell_type": "code",
      "source": [
        "\n",
        "#dropping unnecessary columns in preparation for modelling \n",
        "test_data = test.drop(columns=['TransactionId','BatchId', 'SubscriptionId', \n",
        "                                    'CustomerId', 'AccountId', 'Amount', 'CountryCode', 'CurrencyCode', 'TransactionStartTime'])\n",
        "test_data"
      ],
      "metadata": {
        "colab": {
          "base_uri": "https://localhost:8080/",
          "height": 424
        },
        "outputId": "9018e718-e5ef-4daa-f7c1-66bdee259295",
        "id": "IkwQ2heEWAK4"
      },
      "execution_count": 55,
      "outputs": [
        {
          "output_type": "execute_result",
          "data": {
            "text/plain": [
              "       ProviderId  ProductId  ProductCategory  ChannelId  Value  \\\n",
              "0               4         19                0          2   1000   \n",
              "1               4          5                2          2   2000   \n",
              "2               3         22                2          1     50   \n",
              "3               4          1                0          2   3000   \n",
              "4               3         22                2          1     60   \n",
              "...           ...        ...              ...        ...    ...   \n",
              "45014           3         22                2          2   5000   \n",
              "45015           2          1                0          2  10000   \n",
              "45016           2          1                0          2  10000   \n",
              "45017           3         22                2          2   5000   \n",
              "45018           4         19                0          2   3500   \n",
              "\n",
              "       PricingStrategy  Month  Year  Day  Credit  \n",
              "0                    4      2  2019   13       1  \n",
              "1                    2      2  2019   13       1  \n",
              "2                    2      2  2019   13       0  \n",
              "3                    4      2  2019   13       1  \n",
              "4                    2      2  2019   13       0  \n",
              "...                ...    ...   ...  ...     ...  \n",
              "45014                2      3  2019   14       0  \n",
              "45015                1      3  2019   14       1  \n",
              "45016                1      3  2019   14       1  \n",
              "45017                2      3  2019   14       0  \n",
              "45018                4      3  2019   14       1  \n",
              "\n",
              "[45019 rows x 10 columns]"
            ],
            "text/html": [
              "\n",
              "  <div id=\"df-151827d7-8644-46ad-b689-56cce96de6c5\">\n",
              "    <div class=\"colab-df-container\">\n",
              "      <div>\n",
              "<style scoped>\n",
              "    .dataframe tbody tr th:only-of-type {\n",
              "        vertical-align: middle;\n",
              "    }\n",
              "\n",
              "    .dataframe tbody tr th {\n",
              "        vertical-align: top;\n",
              "    }\n",
              "\n",
              "    .dataframe thead th {\n",
              "        text-align: right;\n",
              "    }\n",
              "</style>\n",
              "<table border=\"1\" class=\"dataframe\">\n",
              "  <thead>\n",
              "    <tr style=\"text-align: right;\">\n",
              "      <th></th>\n",
              "      <th>ProviderId</th>\n",
              "      <th>ProductId</th>\n",
              "      <th>ProductCategory</th>\n",
              "      <th>ChannelId</th>\n",
              "      <th>Value</th>\n",
              "      <th>PricingStrategy</th>\n",
              "      <th>Month</th>\n",
              "      <th>Year</th>\n",
              "      <th>Day</th>\n",
              "      <th>Credit</th>\n",
              "    </tr>\n",
              "  </thead>\n",
              "  <tbody>\n",
              "    <tr>\n",
              "      <th>0</th>\n",
              "      <td>4</td>\n",
              "      <td>19</td>\n",
              "      <td>0</td>\n",
              "      <td>2</td>\n",
              "      <td>1000</td>\n",
              "      <td>4</td>\n",
              "      <td>2</td>\n",
              "      <td>2019</td>\n",
              "      <td>13</td>\n",
              "      <td>1</td>\n",
              "    </tr>\n",
              "    <tr>\n",
              "      <th>1</th>\n",
              "      <td>4</td>\n",
              "      <td>5</td>\n",
              "      <td>2</td>\n",
              "      <td>2</td>\n",
              "      <td>2000</td>\n",
              "      <td>2</td>\n",
              "      <td>2</td>\n",
              "      <td>2019</td>\n",
              "      <td>13</td>\n",
              "      <td>1</td>\n",
              "    </tr>\n",
              "    <tr>\n",
              "      <th>2</th>\n",
              "      <td>3</td>\n",
              "      <td>22</td>\n",
              "      <td>2</td>\n",
              "      <td>1</td>\n",
              "      <td>50</td>\n",
              "      <td>2</td>\n",
              "      <td>2</td>\n",
              "      <td>2019</td>\n",
              "      <td>13</td>\n",
              "      <td>0</td>\n",
              "    </tr>\n",
              "    <tr>\n",
              "      <th>3</th>\n",
              "      <td>4</td>\n",
              "      <td>1</td>\n",
              "      <td>0</td>\n",
              "      <td>2</td>\n",
              "      <td>3000</td>\n",
              "      <td>4</td>\n",
              "      <td>2</td>\n",
              "      <td>2019</td>\n",
              "      <td>13</td>\n",
              "      <td>1</td>\n",
              "    </tr>\n",
              "    <tr>\n",
              "      <th>4</th>\n",
              "      <td>3</td>\n",
              "      <td>22</td>\n",
              "      <td>2</td>\n",
              "      <td>1</td>\n",
              "      <td>60</td>\n",
              "      <td>2</td>\n",
              "      <td>2</td>\n",
              "      <td>2019</td>\n",
              "      <td>13</td>\n",
              "      <td>0</td>\n",
              "    </tr>\n",
              "    <tr>\n",
              "      <th>...</th>\n",
              "      <td>...</td>\n",
              "      <td>...</td>\n",
              "      <td>...</td>\n",
              "      <td>...</td>\n",
              "      <td>...</td>\n",
              "      <td>...</td>\n",
              "      <td>...</td>\n",
              "      <td>...</td>\n",
              "      <td>...</td>\n",
              "      <td>...</td>\n",
              "    </tr>\n",
              "    <tr>\n",
              "      <th>45014</th>\n",
              "      <td>3</td>\n",
              "      <td>22</td>\n",
              "      <td>2</td>\n",
              "      <td>2</td>\n",
              "      <td>5000</td>\n",
              "      <td>2</td>\n",
              "      <td>3</td>\n",
              "      <td>2019</td>\n",
              "      <td>14</td>\n",
              "      <td>0</td>\n",
              "    </tr>\n",
              "    <tr>\n",
              "      <th>45015</th>\n",
              "      <td>2</td>\n",
              "      <td>1</td>\n",
              "      <td>0</td>\n",
              "      <td>2</td>\n",
              "      <td>10000</td>\n",
              "      <td>1</td>\n",
              "      <td>3</td>\n",
              "      <td>2019</td>\n",
              "      <td>14</td>\n",
              "      <td>1</td>\n",
              "    </tr>\n",
              "    <tr>\n",
              "      <th>45016</th>\n",
              "      <td>2</td>\n",
              "      <td>1</td>\n",
              "      <td>0</td>\n",
              "      <td>2</td>\n",
              "      <td>10000</td>\n",
              "      <td>1</td>\n",
              "      <td>3</td>\n",
              "      <td>2019</td>\n",
              "      <td>14</td>\n",
              "      <td>1</td>\n",
              "    </tr>\n",
              "    <tr>\n",
              "      <th>45017</th>\n",
              "      <td>3</td>\n",
              "      <td>22</td>\n",
              "      <td>2</td>\n",
              "      <td>2</td>\n",
              "      <td>5000</td>\n",
              "      <td>2</td>\n",
              "      <td>3</td>\n",
              "      <td>2019</td>\n",
              "      <td>14</td>\n",
              "      <td>0</td>\n",
              "    </tr>\n",
              "    <tr>\n",
              "      <th>45018</th>\n",
              "      <td>4</td>\n",
              "      <td>19</td>\n",
              "      <td>0</td>\n",
              "      <td>2</td>\n",
              "      <td>3500</td>\n",
              "      <td>4</td>\n",
              "      <td>3</td>\n",
              "      <td>2019</td>\n",
              "      <td>14</td>\n",
              "      <td>1</td>\n",
              "    </tr>\n",
              "  </tbody>\n",
              "</table>\n",
              "<p>45019 rows × 10 columns</p>\n",
              "</div>\n",
              "      <button class=\"colab-df-convert\" onclick=\"convertToInteractive('df-151827d7-8644-46ad-b689-56cce96de6c5')\"\n",
              "              title=\"Convert this dataframe to an interactive table.\"\n",
              "              style=\"display:none;\">\n",
              "        \n",
              "  <svg xmlns=\"http://www.w3.org/2000/svg\" height=\"24px\"viewBox=\"0 0 24 24\"\n",
              "       width=\"24px\">\n",
              "    <path d=\"M0 0h24v24H0V0z\" fill=\"none\"/>\n",
              "    <path d=\"M18.56 5.44l.94 2.06.94-2.06 2.06-.94-2.06-.94-.94-2.06-.94 2.06-2.06.94zm-11 1L8.5 8.5l.94-2.06 2.06-.94-2.06-.94L8.5 2.5l-.94 2.06-2.06.94zm10 10l.94 2.06.94-2.06 2.06-.94-2.06-.94-.94-2.06-.94 2.06-2.06.94z\"/><path d=\"M17.41 7.96l-1.37-1.37c-.4-.4-.92-.59-1.43-.59-.52 0-1.04.2-1.43.59L10.3 9.45l-7.72 7.72c-.78.78-.78 2.05 0 2.83L4 21.41c.39.39.9.59 1.41.59.51 0 1.02-.2 1.41-.59l7.78-7.78 2.81-2.81c.8-.78.8-2.07 0-2.86zM5.41 20L4 18.59l7.72-7.72 1.47 1.35L5.41 20z\"/>\n",
              "  </svg>\n",
              "      </button>\n",
              "      \n",
              "  <style>\n",
              "    .colab-df-container {\n",
              "      display:flex;\n",
              "      flex-wrap:wrap;\n",
              "      gap: 12px;\n",
              "    }\n",
              "\n",
              "    .colab-df-convert {\n",
              "      background-color: #E8F0FE;\n",
              "      border: none;\n",
              "      border-radius: 50%;\n",
              "      cursor: pointer;\n",
              "      display: none;\n",
              "      fill: #1967D2;\n",
              "      height: 32px;\n",
              "      padding: 0 0 0 0;\n",
              "      width: 32px;\n",
              "    }\n",
              "\n",
              "    .colab-df-convert:hover {\n",
              "      background-color: #E2EBFA;\n",
              "      box-shadow: 0px 1px 2px rgba(60, 64, 67, 0.3), 0px 1px 3px 1px rgba(60, 64, 67, 0.15);\n",
              "      fill: #174EA6;\n",
              "    }\n",
              "\n",
              "    [theme=dark] .colab-df-convert {\n",
              "      background-color: #3B4455;\n",
              "      fill: #D2E3FC;\n",
              "    }\n",
              "\n",
              "    [theme=dark] .colab-df-convert:hover {\n",
              "      background-color: #434B5C;\n",
              "      box-shadow: 0px 1px 3px 1px rgba(0, 0, 0, 0.15);\n",
              "      filter: drop-shadow(0px 1px 2px rgba(0, 0, 0, 0.3));\n",
              "      fill: #FFFFFF;\n",
              "    }\n",
              "  </style>\n",
              "\n",
              "      <script>\n",
              "        const buttonEl =\n",
              "          document.querySelector('#df-151827d7-8644-46ad-b689-56cce96de6c5 button.colab-df-convert');\n",
              "        buttonEl.style.display =\n",
              "          google.colab.kernel.accessAllowed ? 'block' : 'none';\n",
              "\n",
              "        async function convertToInteractive(key) {\n",
              "          const element = document.querySelector('#df-151827d7-8644-46ad-b689-56cce96de6c5');\n",
              "          const dataTable =\n",
              "            await google.colab.kernel.invokeFunction('convertToInteractive',\n",
              "                                                     [key], {});\n",
              "          if (!dataTable) return;\n",
              "\n",
              "          const docLinkHtml = 'Like what you see? Visit the ' +\n",
              "            '<a target=\"_blank\" href=https://colab.research.google.com/notebooks/data_table.ipynb>data table notebook</a>'\n",
              "            + ' to learn more about interactive tables.';\n",
              "          element.innerHTML = '';\n",
              "          dataTable['output_type'] = 'display_data';\n",
              "          await google.colab.output.renderOutput(dataTable, element);\n",
              "          const docLink = document.createElement('div');\n",
              "          docLink.innerHTML = docLinkHtml;\n",
              "          element.appendChild(docLink);\n",
              "        }\n",
              "      </script>\n",
              "    </div>\n",
              "  </div>\n",
              "  "
            ]
          },
          "metadata": {},
          "execution_count": 55
        }
      ]
    },
    {
      "cell_type": "code",
      "source": [
        "original_test = test_data.values\n",
        "original_test"
      ],
      "metadata": {
        "colab": {
          "base_uri": "https://localhost:8080/"
        },
        "id": "wZRKdld9WH0P",
        "outputId": "bc286db4-4508-4176-d258-4166d49f02c0"
      },
      "execution_count": 56,
      "outputs": [
        {
          "output_type": "execute_result",
          "data": {
            "text/plain": [
              "array([[   4,   19,    0, ..., 2019,   13,    1],\n",
              "       [   4,    5,    2, ..., 2019,   13,    1],\n",
              "       [   3,   22,    2, ..., 2019,   13,    0],\n",
              "       ...,\n",
              "       [   2,    1,    0, ..., 2019,   14,    1],\n",
              "       [   3,   22,    2, ..., 2019,   14,    0],\n",
              "       [   4,   19,    0, ..., 2019,   14,    1]])"
            ]
          },
          "metadata": {},
          "execution_count": 56
        }
      ]
    },
    {
      "cell_type": "code",
      "source": [
        "scale = StandardScaler()\n",
        "rescaledtest = scaler.fit_transform(original_test)\n"
      ],
      "metadata": {
        "id": "0MA3H_MLWwQY"
      },
      "execution_count": 57,
      "outputs": []
    },
    {
      "cell_type": "code",
      "source": [
        "prediction = forest.predict(rescaledtest)\n",
        "prediction"
      ],
      "metadata": {
        "colab": {
          "base_uri": "https://localhost:8080/"
        },
        "id": "8DGYeFbVW4_a",
        "outputId": "0b3dec10-e954-4111-9ecc-e7aca61e598a"
      },
      "execution_count": 58,
      "outputs": [
        {
          "output_type": "execute_result",
          "data": {
            "text/plain": [
              "array([0, 0, 0, ..., 0, 0, 0])"
            ]
          },
          "metadata": {},
          "execution_count": 58
        }
      ]
    },
    {
      "cell_type": "code",
      "source": [
        "set(prediction)"
      ],
      "metadata": {
        "id": "4oTtjJF8Xtym",
        "outputId": "91bf98a1-4e64-4f3a-be5c-5fe073edf18e",
        "colab": {
          "base_uri": "https://localhost:8080/"
        }
      },
      "execution_count": 59,
      "outputs": [
        {
          "output_type": "execute_result",
          "data": {
            "text/plain": [
              "{0, 1}"
            ]
          },
          "metadata": {},
          "execution_count": 59
        }
      ]
    }
  ]
}